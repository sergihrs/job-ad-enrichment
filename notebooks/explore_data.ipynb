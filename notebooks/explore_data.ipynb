{
 "cells": [
  {
   "cell_type": "markdown",
   "id": "81345e2c",
   "metadata": {},
   "source": [
    "## Libraries\n"
   ]
  },
  {
   "cell_type": "code",
   "execution_count": 7,
   "id": "b42892a6",
   "metadata": {},
   "outputs": [],
   "source": [
    "import pandas as pd\n",
    "import matplotlib.pyplot as plt\n",
    "import seaborn as sns"
   ]
  },
  {
   "cell_type": "markdown",
   "id": "19ecd016",
   "metadata": {},
   "source": [
    "### Data loading\n"
   ]
  },
  {
   "cell_type": "code",
   "execution_count": null,
   "id": "f5e75fa5",
   "metadata": {},
   "outputs": [],
   "source": [
    "df = pd.read_csv(\"../data/salary_labelled_development_set.csv\")\n",
    "df"
   ]
  },
  {
   "cell_type": "code",
   "execution_count": null,
   "id": "7dddda69",
   "metadata": {},
   "outputs": [],
   "source": [
    "# Features: job_id, job_title, job_ad_details, nation_short_desc, salary_additional_text, y_true\n",
    "repeated_jobs = (\n",
    "    df[\"job_id\"].value_counts()[df[\"job_id\"].value_counts() > 1].index\n",
    ")  # job_id with more than one instance\n",
    "df[df[\"job_id\"].isin(repeated_jobs)].sort_values(\"job_id\")"
   ]
  },
  {
   "cell_type": "code",
   "execution_count": null,
   "id": "ef6b44e7",
   "metadata": {},
   "outputs": [],
   "source": [
    "df[\n",
    "    df.duplicated(\n",
    "        subset=[\n",
    "            \"job_id\",\n",
    "            \"job_title\",\n",
    "            \"job_ad_details\",\n",
    "            \"nation_short_desc\",\n",
    "            \"salary_additional_text\",\n",
    "            \"y_true\",\n",
    "        ],\n",
    "        keep=False,\n",
    "    )\n",
    "].sort_values(\n",
    "    \"job_id\"\n",
    ")  # job_id with more than one instance and same values"
   ]
  },
  {
   "cell_type": "code",
   "execution_count": null,
   "id": "49a6dfc8",
   "metadata": {},
   "outputs": [],
   "source": [
    "# We will drop the duplicates, and completely remove the repeated job_id that had different values\n",
    "df = df.drop_duplicates(\n",
    "    subset=[\n",
    "        \"job_id\",\n",
    "        \"job_title\",\n",
    "        \"job_ad_details\",\n",
    "        \"nation_short_desc\",\n",
    "        \"salary_additional_text\",\n",
    "        \"y_true\",\n",
    "    ]\n",
    ")\n",
    "df = df.drop_duplicates(subset=[\"job_id\"], keep=False)  # remove all repeated job_id\n",
    "df"
   ]
  },
  {
   "cell_type": "code",
   "execution_count": 12,
   "id": "cbc6fe15",
   "metadata": {},
   "outputs": [
    {
     "data": {
      "text/plain": [
       "0"
      ]
     },
     "execution_count": 12,
     "metadata": {},
     "output_type": "execute_result"
    }
   ],
   "source": [
    "df.duplicated(subset=[\"job_id\"]).sum()  # check if there are any duplicates left"
   ]
  },
  {
   "cell_type": "code",
   "execution_count": null,
   "id": "c4a80896",
   "metadata": {},
   "outputs": [],
   "source": [
    "# Check repeated job_ad_details\n",
    "df[\n",
    "    df.duplicated(\n",
    "        subset=[\n",
    "            \"job_ad_details\",\n",
    "        ],\n",
    "        keep=False,\n",
    "    )\n",
    "].sort_values(\"job_ad_details\")"
   ]
  },
  {
   "cell_type": "code",
   "execution_count": 14,
   "id": "aade8aa9",
   "metadata": {},
   "outputs": [
    {
     "data": {
      "text/plain": [
       "(2228, 6)"
      ]
     },
     "execution_count": 14,
     "metadata": {},
     "output_type": "execute_result"
    }
   ],
   "source": [
    "# They seem to be completely repeated but with different job_id\n",
    "# We'll merge the ones that are the same\n",
    "df = df.drop_duplicates(\n",
    "    subset=[\n",
    "        \"job_ad_details\",\n",
    "        \"job_title\",\n",
    "        \"nation_short_desc\",\n",
    "        \"salary_additional_text\",\n",
    "        \"y_true\",\n",
    "    ]\n",
    ")\n",
    "df.shape"
   ]
  },
  {
   "cell_type": "code",
   "execution_count": null,
   "id": "c2f8d904",
   "metadata": {},
   "outputs": [],
   "source": [
    "# Check repeated job_ad_details with different data\n",
    "df[\n",
    "    df.duplicated(\n",
    "        subset=[\n",
    "            \"job_ad_details\",\n",
    "        ],\n",
    "        keep=False,\n",
    "    )\n",
    "].groupby(\"job_ad_details\").agg(\n",
    "    {\n",
    "        \"job_title\": lambda x: x.nunique(),\n",
    "        \"nation_short_desc\": lambda x: x.nunique(),\n",
    "        \"salary_additional_text\": lambda x: x.nunique(),\n",
    "        \"y_true\": lambda x: x.nunique(),\n",
    "    }\n",
    ").reset_index().sort_values(\n",
    "    \"job_ad_details\"\n",
    ")"
   ]
  },
  {
   "cell_type": "code",
   "execution_count": null,
   "id": "8a534601",
   "metadata": {},
   "outputs": [],
   "source": [
    "# All are differences on the job_title, and one on the salary_additional_text\n",
    "# We will take a look at the job_title\n",
    "df[\n",
    "    df.duplicated(\n",
    "        subset=[\n",
    "            \"job_ad_details\",\n",
    "        ],\n",
    "        keep=False,\n",
    "    )\n",
    "].drop(\n",
    "    columns=[\"job_id\"]\n",
    ").groupby(\"job_ad_details\").agg(\n",
    "    {\"job_title\": lambda x: x.unique()}\n",
    ").reset_index().sort_values(\n",
    "    \"job_ad_details\"\n",
    ")"
   ]
  },
  {
   "cell_type": "code",
   "execution_count": 17,
   "id": "c978d310",
   "metadata": {},
   "outputs": [
    {
     "data": {
      "text/plain": [
       "(2208, 6)"
      ]
     },
     "execution_count": 17,
     "metadata": {},
     "output_type": "execute_result"
    }
   ],
   "source": [
    "# They all are the same job ad, but for different locations, so the information is the same\n",
    "# We will drop the duplicates\n",
    "df = df.drop_duplicates(subset=[\"job_ad_details\"])\n",
    "df.shape"
   ]
  },
  {
   "cell_type": "code",
   "execution_count": 18,
   "id": "03baf9d6",
   "metadata": {},
   "outputs": [
    {
     "data": {
      "text/plain": [
       "y_true\n",
       "0-0-None-None              939\n",
       "1500-1500-MYR-MONTHLY       46\n",
       "16000-16000-PHP-MONTHLY     25\n",
       "17500-17500-PHP-MONTHLY     24\n",
       "25000-25000-PHP-MONTHLY     18\n",
       "                          ... \n",
       "1700-2000-MYR-MONTHLY        1\n",
       "100-150-MYR-DAILY            1\n",
       "89598-94514-AUD-ANNUAL       1\n",
       "51-53-NZD-HOURLY             1\n",
       "81581-108532-AUD-ANNUAL      1\n",
       "Name: count, Length: 732, dtype: int64"
      ]
     },
     "execution_count": 18,
     "metadata": {},
     "output_type": "execute_result"
    }
   ],
   "source": [
    "# Study y_true\n",
    "df[\"y_true\"].value_counts()"
   ]
  },
  {
   "cell_type": "code",
   "execution_count": 19,
   "id": "dbb21fc7",
   "metadata": {},
   "outputs": [
    {
     "data": {
      "application/vnd.microsoft.datawrangler.viewer.v0+json": {
       "columns": [
        {
         "name": "index",
         "rawType": "int64",
         "type": "integer"
        },
        {
         "name": "min_salary",
         "rawType": "float64",
         "type": "float"
        },
        {
         "name": "max_salary",
         "rawType": "float64",
         "type": "float"
        },
        {
         "name": "currency",
         "rawType": "object",
         "type": "string"
        },
        {
         "name": "frequency",
         "rawType": "object",
         "type": "string"
        }
       ],
       "conversionMethod": "pd.DataFrame",
       "ref": "1bd2a266-f43f-47c4-b14f-6676e2e4db0c",
       "rows": [
        [
         "0",
         "17500.0",
         "17500.0",
         "PHP",
         "MONTHLY"
        ],
        [
         "1",
         "16000.0",
         "16000.0",
         "PHP",
         "MONTHLY"
        ],
        [
         "2",
         "0.0",
         "0.0",
         "None",
         "None"
        ],
        [
         "3",
         "0.0",
         "0.0",
         "None",
         "None"
        ],
        [
         "4",
         "0.0",
         "0.0",
         "None",
         "None"
        ],
        [
         "5",
         "50.0",
         "60.0",
         "HKD",
         "HOURLY"
        ],
        [
         "6",
         "0.0",
         "0.0",
         "None",
         "None"
        ],
        [
         "7",
         "16000.0",
         "16000.0",
         "PHP",
         "MONTHLY"
        ],
        [
         "8",
         "17500.0",
         "17500.0",
         "PHP",
         "MONTHLY"
        ],
        [
         "9",
         "32.0",
         "32.0",
         "NZD",
         "HOURLY"
        ],
        [
         "10",
         "2800.0",
         "3200.0",
         "MYR",
         "MONTHLY"
        ],
        [
         "11",
         "65.0",
         "65.0",
         "HKD",
         "HOURLY"
        ],
        [
         "12",
         "28.0",
         "30.0",
         "NZD",
         "HOURLY"
        ],
        [
         "13",
         "0.0",
         "0.0",
         "None",
         "None"
        ],
        [
         "14",
         "0.0",
         "0.0",
         "None",
         "None"
        ],
        [
         "15",
         "0.0",
         "0.0",
         "None",
         "None"
        ],
        [
         "16",
         "35.0",
         "35.0",
         "AUD",
         "HOURLY"
        ],
        [
         "17",
         "6000.0",
         "6000.0",
         "MYR",
         "MONTHLY"
        ],
        [
         "18",
         "65.0",
         "75.0",
         "HKD",
         "HOURLY"
        ],
        [
         "19",
         "0.0",
         "0.0",
         "None",
         "None"
        ],
        [
         "20",
         "0.0",
         "0.0",
         "None",
         "None"
        ],
        [
         "21",
         "0.0",
         "0.0",
         "None",
         "None"
        ],
        [
         "22",
         "100.0",
         "100.0",
         "HKD",
         "HOURLY"
        ],
        [
         "23",
         "0.0",
         "0.0",
         "None",
         "None"
        ],
        [
         "24",
         "0.0",
         "0.0",
         "None",
         "None"
        ],
        [
         "25",
         "1700.0",
         "3500.0",
         "MYR",
         "MONTHLY"
        ],
        [
         "26",
         "0.0",
         "0.0",
         "None",
         "None"
        ],
        [
         "27",
         "0.0",
         "0.0",
         "None",
         "None"
        ],
        [
         "28",
         "67357.0",
         "94568.0",
         "AUD",
         "ANNUAL"
        ],
        [
         "29",
         "0.0",
         "0.0",
         "None",
         "None"
        ],
        [
         "30",
         "4000.0",
         "6000.0",
         "SGD",
         "MONTHLY"
        ],
        [
         "31",
         "0.0",
         "0.0",
         "None",
         "None"
        ],
        [
         "32",
         "0.0",
         "0.0",
         "None",
         "None"
        ],
        [
         "33",
         "31.0",
         "32.0",
         "AUD",
         "HOURLY"
        ],
        [
         "34",
         "80000.0",
         "85000.0",
         "AUD",
         "ANNUAL"
        ],
        [
         "35",
         "0.0",
         "0.0",
         "None",
         "None"
        ],
        [
         "36",
         "0.0",
         "0.0",
         "None",
         "None"
        ],
        [
         "37",
         "0.0",
         "0.0",
         "None",
         "None"
        ],
        [
         "38",
         "1800.0",
         "2200.0",
         "MYR",
         "MONTHLY"
        ],
        [
         "39",
         "0.0",
         "0.0",
         "None",
         "None"
        ],
        [
         "40",
         "0.0",
         "0.0",
         "None",
         "None"
        ],
        [
         "41",
         "18000.0",
         "18000.0",
         "PHP",
         "MONTHLY"
        ],
        [
         "42",
         "67.0",
         "133.0",
         "HKD",
         "DAILY"
        ],
        [
         "43",
         "0.0",
         "0.0",
         "None",
         "None"
        ],
        [
         "44",
         "0.0",
         "0.0",
         "None",
         "None"
        ],
        [
         "45",
         "0.0",
         "0.0",
         "None",
         "None"
        ],
        [
         "46",
         "0.0",
         "0.0",
         "None",
         "None"
        ],
        [
         "47",
         "0.0",
         "0.0",
         "None",
         "None"
        ],
        [
         "48",
         "950.0",
         "1125.0",
         "HKD",
         "WEEKLY"
        ],
        [
         "49",
         "0.0",
         "0.0",
         "None",
         "None"
        ]
       ],
       "shape": {
        "columns": 4,
        "rows": 2208
       }
      },
      "text/html": [
       "<div>\n",
       "<style scoped>\n",
       "    .dataframe tbody tr th:only-of-type {\n",
       "        vertical-align: middle;\n",
       "    }\n",
       "\n",
       "    .dataframe tbody tr th {\n",
       "        vertical-align: top;\n",
       "    }\n",
       "\n",
       "    .dataframe thead th {\n",
       "        text-align: right;\n",
       "    }\n",
       "</style>\n",
       "<table border=\"1\" class=\"dataframe\">\n",
       "  <thead>\n",
       "    <tr style=\"text-align: right;\">\n",
       "      <th></th>\n",
       "      <th>min_salary</th>\n",
       "      <th>max_salary</th>\n",
       "      <th>currency</th>\n",
       "      <th>frequency</th>\n",
       "    </tr>\n",
       "  </thead>\n",
       "  <tbody>\n",
       "    <tr>\n",
       "      <th>0</th>\n",
       "      <td>17500.0</td>\n",
       "      <td>17500.0</td>\n",
       "      <td>PHP</td>\n",
       "      <td>MONTHLY</td>\n",
       "    </tr>\n",
       "    <tr>\n",
       "      <th>1</th>\n",
       "      <td>16000.0</td>\n",
       "      <td>16000.0</td>\n",
       "      <td>PHP</td>\n",
       "      <td>MONTHLY</td>\n",
       "    </tr>\n",
       "    <tr>\n",
       "      <th>2</th>\n",
       "      <td>0.0</td>\n",
       "      <td>0.0</td>\n",
       "      <td>None</td>\n",
       "      <td>None</td>\n",
       "    </tr>\n",
       "    <tr>\n",
       "      <th>3</th>\n",
       "      <td>0.0</td>\n",
       "      <td>0.0</td>\n",
       "      <td>None</td>\n",
       "      <td>None</td>\n",
       "    </tr>\n",
       "    <tr>\n",
       "      <th>4</th>\n",
       "      <td>0.0</td>\n",
       "      <td>0.0</td>\n",
       "      <td>None</td>\n",
       "      <td>None</td>\n",
       "    </tr>\n",
       "    <tr>\n",
       "      <th>...</th>\n",
       "      <td>...</td>\n",
       "      <td>...</td>\n",
       "      <td>...</td>\n",
       "      <td>...</td>\n",
       "    </tr>\n",
       "    <tr>\n",
       "      <th>2262</th>\n",
       "      <td>0.0</td>\n",
       "      <td>0.0</td>\n",
       "      <td>None</td>\n",
       "      <td>None</td>\n",
       "    </tr>\n",
       "    <tr>\n",
       "      <th>2263</th>\n",
       "      <td>0.0</td>\n",
       "      <td>0.0</td>\n",
       "      <td>None</td>\n",
       "      <td>None</td>\n",
       "    </tr>\n",
       "    <tr>\n",
       "      <th>2264</th>\n",
       "      <td>0.0</td>\n",
       "      <td>0.0</td>\n",
       "      <td>None</td>\n",
       "      <td>None</td>\n",
       "    </tr>\n",
       "    <tr>\n",
       "      <th>2265</th>\n",
       "      <td>2500.0</td>\n",
       "      <td>3000.0</td>\n",
       "      <td>SGD</td>\n",
       "      <td>MONTHLY</td>\n",
       "    </tr>\n",
       "    <tr>\n",
       "      <th>2266</th>\n",
       "      <td>0.0</td>\n",
       "      <td>0.0</td>\n",
       "      <td>None</td>\n",
       "      <td>None</td>\n",
       "    </tr>\n",
       "  </tbody>\n",
       "</table>\n",
       "<p>2208 rows × 4 columns</p>\n",
       "</div>"
      ],
      "text/plain": [
       "      min_salary  max_salary currency frequency\n",
       "0        17500.0     17500.0      PHP   MONTHLY\n",
       "1        16000.0     16000.0      PHP   MONTHLY\n",
       "2            0.0         0.0     None      None\n",
       "3            0.0         0.0     None      None\n",
       "4            0.0         0.0     None      None\n",
       "...          ...         ...      ...       ...\n",
       "2262         0.0         0.0     None      None\n",
       "2263         0.0         0.0     None      None\n",
       "2264         0.0         0.0     None      None\n",
       "2265      2500.0      3000.0      SGD   MONTHLY\n",
       "2266         0.0         0.0     None      None\n",
       "\n",
       "[2208 rows x 4 columns]"
      ]
     },
     "execution_count": 19,
     "metadata": {},
     "output_type": "execute_result"
    }
   ],
   "source": [
    "y_data = df[\"y_true\"].str.split(\"-\", expand=True)\n",
    "y_data.columns = [\"min_salary\", \"max_salary\", \"currency\", \"frequency\"]\n",
    "y_data = y_data.astype({\"min_salary\": \"float\", \"max_salary\": \"float\"})\n",
    "y_data"
   ]
  },
  {
   "cell_type": "code",
   "execution_count": 20,
   "id": "52a58380",
   "metadata": {},
   "outputs": [
    {
     "data": {
      "image/png": "[encoded data removed]",
      "text/plain": [
       "<Figure size 1000x500 with 1 Axes>"
      ]
     },
     "metadata": {},
     "output_type": "display_data"
    }
   ],
   "source": [
    "# Let's examine the currency\n",
    "fig, ax = plt.subplots(figsize=(10, 5))\n",
    "sns.countplot(\n",
    "    data=y_data,\n",
    "    x=\"currency\",\n",
    "    ax=ax,\n",
    "    order=y_data[\"currency\"].value_counts().index,\n",
    "    hue=\"currency\",\n",
    ")\n",
    "ax.set_title(\"Salary currency distribution\")\n",
    "ax.set_xlabel(\"Currency\")\n",
    "ax.set_ylabel(\"Count\")\n",
    "plt.xticks(rotation=45)\n",
    "plt.show()"
   ]
  },
  {
   "cell_type": "code",
   "execution_count": 21,
   "id": "664a4798",
   "metadata": {},
   "outputs": [
    {
     "data": {
      "image/png": "[encoded data removed]",
      "text/plain": [
       "<Figure size 1000x500 with 1 Axes>"
      ]
     },
     "metadata": {},
     "output_type": "display_data"
    }
   ],
   "source": [
    "# It seems like the data is from job offerings in the Asia-Pacific region\n",
    "# Now we'll examine the frequency\n",
    "fig, ax = plt.subplots(figsize=(10, 5))\n",
    "sns.countplot(\n",
    "    data=y_data,\n",
    "    x=\"frequency\",\n",
    "    ax=ax,\n",
    "    order=y_data[\"frequency\"].value_counts().index,\n",
    "    hue=\"frequency\",\n",
    ")\n",
    "ax.set_title(\"Salary frequency distribution\")\n",
    "ax.set_xlabel(\"Frequency\")\n",
    "ax.set_ylabel(\"Count\")\n",
    "plt.xticks(rotation=45)\n",
    "plt.show()"
   ]
  },
  {
   "cell_type": "code",
   "execution_count": 22,
   "id": "9a24f531",
   "metadata": {},
   "outputs": [
    {
     "data": {
      "image/png": "[encoded data removed]",
      "text/plain": [
       "<Figure size 1000x500 with 1 Axes>"
      ]
     },
     "metadata": {},
     "output_type": "display_data"
    }
   ],
   "source": [
    "# We will check frequency compared to currency\n",
    "fig, ax = plt.subplots(figsize=(10, 5))\n",
    "sns.countplot(\n",
    "    data=y_data,\n",
    "    x=\"currency\",\n",
    "    ax=ax,\n",
    "    order=y_data[\"currency\"].value_counts().index,\n",
    "    hue=\"frequency\",\n",
    ")\n",
    "ax.set_title(\"Salary currency distribution\")\n",
    "ax.set_xlabel(\"Currency\")\n",
    "ax.set_ylabel(\"Count\")\n",
    "plt.xticks(rotation=45)\n",
    "plt.legend(title=\"Frequency\")\n",
    "plt.show()"
   ]
  },
  {
   "cell_type": "code",
   "execution_count": 23,
   "id": "4d3fe5de",
   "metadata": {},
   "outputs": [
    {
     "data": {
      "application/vnd.microsoft.datawrangler.viewer.v0+json": {
       "columns": [
        {
         "name": "index",
         "rawType": "int64",
         "type": "integer"
        },
        {
         "name": "job_id",
         "rawType": "int64",
         "type": "integer"
        },
        {
         "name": "job_title",
         "rawType": "object",
         "type": "string"
        },
        {
         "name": "job_ad_details",
         "rawType": "object",
         "type": "string"
        },
        {
         "name": "nation_short_desc",
         "rawType": "object",
         "type": "string"
        },
        {
         "name": "salary_additional_text",
         "rawType": "object",
         "type": "unknown"
        },
        {
         "name": "y_true",
         "rawType": "object",
         "type": "string"
        }
       ],
       "conversionMethod": "pd.DataFrame",
       "ref": "10186231-0864-4c06-a27f-4f69d229a3da",
       "rows": [
        [
         "2",
         "55838599",
         "Production Staff Required - Afternoon & Night-shift",
         "<p>Original Foods Baking Co. is one of New Zealand’s favourite wholesale bakeries.  We have been perfecting the art of good baking for over 30 years, and our products are dangerously good!</p><p>Proudly New Zealand owned and operated, our donuts, cakes, brownies, muffins, slices, cookie pies and more are sold throughout New Zealand in supermarkets and wholesalers under the Original Foods Baking Co., Goofy and Bite Me brands. </p><p>We are recruiting for <strong>experienced, strong, capable</strong> and<strong> motivated</strong> production staff to work in some of our more physically demanding roles.</p><p>These roles will suit persons with the following attributes;</p><ul><li>Experience in a production environment</li><li>Experience in mundane, repetitive roles</li><li>Strong and physically fit</li><li>Reliable, trustworthy, dependable</li><li>Strong numeracy skills</li><li>Team-player</li></ul><p><em><strong>Please indicate which shift is your preference on application.</strong></em></p><p><em>Days &amp; Hours of Work   </em></p><p><em>                             Monday - Friday  </em></p><p><em>Night shift 10.00pm - 6.30am</em></p><p><em>Afternoon shift 2:00pm - 10:30pm</em></p><p><strong>You must be double vaccinated and have the right to live and work in New Zealand to apply for this role.</strong></p><p><em><strong>      Applications will be reviewed as they are received so apply NOW!</strong></em></p>",
         "NZ",
         null,
         "0-0-None-None"
        ],
        [
         "3",
         "64369104",
         "Payer Analyst",
         "<div> </div><div> </div>The Payer Analyst individual is assigned to the Revenue Cycle Management Product Management Content Intelligence team. The individual finds and analyzes health plans and payor websites for billing related information and enters selected information using a standardized data collection system and is responsible for setting up the website tracking and maintenance of the system that auto-tags relevant information contained in the content.  The individual assures, for each organization targeted that all are found and any relevant URLs and content are  are collected. <br /> <br /><strong>Primary Duties/Responsibility 1:  Payer Content Research</strong><br /><ul><li>Researching Payer websites for content related to Healthcare Revenue Cycle Management and Billing. (Claims, Authorizations, Remittance Advice) Sign up for relevant email list-serves when available. </li><li>Take the lead to proactively identify, track and distribute notifications to appropriate audiences to ensure issues are addressed before there is any impact to our customers.</li><li>Identify new trends that impact the healthcare industry for potential in-scope expansion.</li></ul><strong>Primary Duties/Responsibility 2:  Website Tracking &amp; Maintenance</strong><br /><ul><li>Setup website tracking using “point &amp; click” tools allowing for changes of websites to be identified.</li><li>Tracking maintenance – resolve any tracking errors that may arise.  Monitor all tracking to ensure the latest versions of URLs/PDFs are input on a routine basis</li></ul><strong>Primary Duties/Responsibility 3:  NLP Tagging Setup &amp; Maintenance</strong><br /><ul><li>Setup the payer information in a Natural Language Processing system that allows for tagging of internal identifiers and content based subscription topics.</li><li>Maintain payer set up by adding additional alternative labels as needed, i.e. when new tracking is added.</li><li>Must be able to analyze overall system set-up concept to successfully resolve over/under tagging issues as they arise</li></ul><strong>Primary Duties/Responsibility 4:  Curate Internal Notification &amp; Bulletins</strong><br /><ul><li>Monitor incoming subscriptions and change tracking of payer websites to ensure NLP and Subscription topics are being properly associated with the information.</li><li>Modify/split content into individual articles building internal “payer notices” to internal subscribers (There’s a lot of reading, copy &amp; pasting.)</li><li>Must maintain high standard in out-going content to Audiences with proper grammar, spelling and layout of the information.</li><li>Maintain turn-around time performance standards to ensure timely release of information.</li></ul><strong>Primary Duties/Responsibility 5:  Platform Migration</strong><br /><ul><li>Assist the team in migrating and testing above business processes to a new platform and start performing processes in new system.</li><li>The ability to take on projects while maintaining current work-load; verbalizing the need for assistance when/if needed.</li></ul>The Payer Content Intelligence Analyst individual requires the ability to read and identify changes that need to be made to existing Claims Edits and Prior Auth policies as well as create internal bulletins based on their interpretation of the content. While the majority of the content is notifying internal teams of the website or subscription changes the written communication needs to be concise and accurate when documenting policy changes. <br /><br /><strong>Preferred Qualification/s:<br /></strong><ul><li>The ideal candidate is experienced in healthcare billing  with knowledge of managed care/payor/healthcare insurance companies who understands and has worked with medical policies, prior authorization, or utilization review.  Ability to comprehensively search the internet for payor content and accurate transcribe data to a prepared template is required. The preferred candidate will also have experience setting up NLP, Machine Learning, AI to assist with automatically tagging content.</li><li>Minimum of 3 years of healthcare billing in an ambulatory or acute setting is required. Experience is other aspects of healthcare technology will also be considered.</li></ul>",
         "PH",
         "-",
         "0-0-None-None"
        ],
        [
         "4",
         "54861511",
         "  Solicitor, Restructuring (ID: 2100013K)",
         "<p>The DLA Piper team operates across more than 40 countries, but we’re still locally connected. </p><p>Our Restructuring &amp; Insolvency team work on some of the most complex and interesting matters in the market. We partner with a diverse client base that includes debtors, lenders, government entities, trustees, shareholders, senior executives, as well as distressed debt and asset buyers and investors. </p><p>We are currently looking for high performing restructuring solicitor with 5 + years’ experience to join the team based in our Melbourne office</p><p><strong>MAIN DUTIES AND RESPONSIBILITIES</strong></p><p>First class lawyers, experience and our unrivalled global coverage are just the beginning of what DLA Piper offers. By joining our team you will have the opportunity to work on a range of matters, advising clients on investigations, enforcement, litigation and asset recovery on a multijurisdictional basis.</p><p>As part of our forward thinking team, you will share a client centric approach and take pride in delivering our clients sector focused advice across key expertise areas such as financial services, energy, resources &amp; mining, retail, property and technology.</p><p><strong>ABOUT YOU</strong></p><p>We know talent is more than what's written on paper. It's the energy you bring and the way you work with your team. </p><p>Your strong communication skills will enable you to develop and maintain high quality relationships with clients.  You will have a mature, confident approach and be highly motivated, thriving in a fast-paced practice. Your organisational skills and ability to manage your own workload, seeking input from team members where needed will support your success.</p><p>You will receive first class on the job support and training, working with partners including  Lionel Meehan. You will also have access to our DLA Piper Career Academies, an award-winning international development forum designed to cultivate high performance and support your career goals.</p><p>If you're a high performing restructuring lawyer ready to take the next step in your career at a firm that values you, we want to hear from you. Apply now and be part of our future.</p><p><strong>ABOUT US</strong></p><p>DLA Piper is a global law firm with lawyers located in more than 40 countries throughout the Americas, Europe, the Middle East, Africa and Asia Pacific. Our global reach ensures that we can help businesses with their legal needs anywhere in the world. We strive to be the leading global business law firm by delivering quality, service excellence and value to our clients and offering practical and innovative legal solutions to help them succeed. Our clients range from multinational, Global 1000, and Fortune 500 enterprises to emerging companies developing industry-leading technologies, as well as government and public sector bodies.</p><p><strong>OUR VALUES</strong></p><p>In everything we do connected with our People, our Clients and our Communities, we live by these values:</p><p><strong>Be Supportive </strong>- we care about others, value diversity and act thoughtfully<br /><strong>Be Collaborative</strong> - we give, we share and we join in<br /><strong>Be Bold</strong> - we stand tall and challenge ourselves to think big<br /><strong>Be Exceptional</strong> - we exceed standards and expectations</p><p><strong>DIVERSITY AND INCLUSION</strong></p><p>At DLA Piper, diversity and inclusion underpins how we live our values and everything we do.  We believe that everyone has a voice, and that everyone’s voice counts. We know that the rich diversity across our firm makes us stronger, more innovative and creative, which helps us to better serve our clients and communities. We are committed to providing an inclusive working environment and culture across our global firm, where everyone can bring their authentic self to work. </p><p>Diversity of perspective, thought, background and culture combine to make us the leading global law firm; that’s why we actively seek to build balanced teams. We welcome the unique contribution that you will bring to our firm and actively encourage applications from all talented people – however your talent is packaged, whatever your background or circumstance and regardless of how you identify.</p><p>We support anyone with a disability or long term health condition to ensure they have the opportunity to perform at their best. If you have not done so already, please let us know if you require any support so we can make the right adjustments and considerations should they be required.</p><p><strong>AGILE WORKING</strong></p><p>We know that people have responsibilities and interests outside of their career and that as a business, we all benefit from working flexibly. That's why we are open to discussing with candidates the different ways in which we are able to support requests for agile working arrangements.</p><p><strong>PRE-ENGAGEMENT SCREENING</strong></p><p>In the event that we make an offer to you, and where local legislation permits, we will conduct pre-engagement screening checks that may include but are not limited to your professional and academic qualifications, your eligibility to work in the relevant jurisdiction, any criminal records, your financial stability and references from previous employers.</p>",
         "AUS",
         null,
         "0-0-None-None"
        ],
        [
         "6",
         "74982893",
         "Key Account Manager",
         "<p>This role will contribute to expand our client Indonesia's customer base (B2B) and profit and loss statement by increasing the engagement with current customers and effectively bringing new customers on board.</p><p><strong>Client Details</strong></p><p>Our client is a global leader in packaging solutions. </p><p><strong>Description</strong></p><ul><li>Contribute to the <strong>identification of products within the customer portfolio</strong> that demonstrate high market potential, competitiveness, and align with the client manufacturing capabilities.</li><li>Participate in <strong>establishing tactical or strategic partnerships with customers</strong> to ensure the long-term supply of the products.</li><li>Undertake <strong>customer research</strong> activities.</li><li>Aid in the development of market insights and analyses for senior stakeholders.</li><li>Assist in <strong>crafting business plans</strong> for new products and strategic partnerships.</li><li>Collaborate with internal cross-functional teams to ensure the successful delivery of these products and fulfil client's commitments to its customers.</li><li>Manage external stakeholders within the customer organisation in line with stakeholder mapping.</li><li>Organise <strong>business planning events and periodic performance reviews</strong> (quarterly, semi-annually, annually) with customers.</li><li>Facilitate the on boarding process for new customers and arrange visits to client's plants.</li><li>Manage sales processes between client and customers.</li><li>Develop monthly sales forecasts in conjunction with the customer.</li><li>Support joint tactical marketing events with the marketing team or other departments.</li></ul><p><strong>Profile</strong></p><ol><li>A <strong>D3</strong> degree holder</li><li>Have <strong>minimum 3 years</strong> of experience and been at least once in <strong>sales or business development</strong> role</li><li>Proficiency in <strong>English</strong> will be a plus</li><li><strong>Business Acumen</strong><ul><li>Commercial Awareness: Capable of comprehending and grasping <strong>business concepts</strong> and strategies.</li><li>Autonomous: Demonstrated track record of <strong>delivering results independently</strong> as an individual contributor.</li><li><strong>Analytic Proficiency</strong>: Competent in independently gathering and organising customer data for effective presentations. Previous involvement in customer and competitor research is a plus.</li></ul></li><li><strong>Product Development </strong><ul><li><strong>Management of Product Life cycle</strong>: Previous experience in participating in the initial phases of product introduction to new customers or launching new products is advantageous.</li><li><strong>Analytic Thinking</strong>: Proficient in collecting customer insights, identifying opportunities, and offering actionable recommendations.</li></ul></li><li><strong>Sales </strong><ul><li>Process <strong>Effective Key Account Management</strong>: Previous involvement in managing the sales process from prospecting to achieving profitable outcomes.</li></ul></li><li><strong>Soft Skills </strong><ul><li><strong>Interpersonal Adaptability</strong>: Capable of adjusting communication style and approach based on the audience. Skilled at building rapport with stakeholders at various levels.</li><li><strong>Stakeholder Engagement</strong>: Effective collaboration with cross-functional teams and establishing productive relationships with external stakeholders.</li><li><strong>Self-Motivated</strong>: Able to work independently with minimal supervision. Disciplined, proactive, and willing to go the extra mile, including working beyond standard office hours and travelling.</li><li><strong>Quick Learning</strong> Ability: Demonstrated willingness and eagerness to independently seek out information and learn about new businesses, products, and markets.</li><li><strong>Presentation Proficiency</strong>: Strong presentation skills and proficient in using the Microsoft Office suite.</li></ul></li></ol><p><strong>Job Offer</strong></p><ul><li>Exciting career advancement opportunities abound within the company due to its remarkable growth potential.</li><li>The opportunity to be part of a global company.</li><li>A chance to significantly influence the commercial decisions of a highly successful enterprise and contribute to the development, execution, and oversight of systems from the outset.</li><li>Competitive compensation package and bonus.</li></ul><p>To apply online please click the 'Apply' button below. For a confidential discussion about this role please contact Cheren Filus on +62 21 2958 8838.</p>",
         "ID",
         "Car allowance, healthcare, annual bonus",
         "0-0-None-None"
        ],
        [
         "13",
         "63628834",
         "People Data Analyst",
         "<div> </div><div> </div><strong>About us</strong><br />At TOA Global, we know exactly how to provide a great work environment and how important our employees are in serving our clients. Be part of our global team and discover why our workplace is where you should be! 100% dedicated to servicing the financial services industry, TOA Global has been providing talented and skilled offshore staff to firms across Australia, New Zealand, and North America since 2013.<br />TOA Global has become one of the largest employers of accountants and bookkeepers in the Philippines and is a proud equal opportunity employer, with a strong mission to make an impact in the community through our volunteerism and commitment to corporate social responsibility (CSR).<br />We provide great salaries, work-life balance, unlimited training, internationally accredited development programs, awesome staff perks and benefits, and a values-centric environment where you will thrive.<br /><strong>The Role</strong><br />Do you like gathering and making use of data to create people insights to guide decision making, at the most strategic level. Then read on...<br />You are structured, methodical in your approach, and you know how to use analytical consulting methods to address challenges and shape solutions, employing both qualitative and quantitative methods to address organizational issues.<br />You are a problem solver, who uses data with other forms of evidence to enable effective decision making. As leaders in people intelligence, you use data and evidence to improve organizational decision-making on people issues across the organization, combining your data with wider organizational data sets to influence and contribute towards strategic decision making.<br />You are the heart of evidenced-based decision-making within the people experience team.<br /><strong>You Will:</strong><br />+ be selecting and advising on what databases to use<br />+ Identifying data held and its potential use<br />+ Take an analytical consulting approach to people issues<br />+ Interpret and explore business problems using people data<br />+ Create people data sets and align these to wider organizational data sets<br />+ Use and applying quantitative and qualitative research design to solve problems<br />+ Carry out data analysis, from basic to multivariant analysis<br />+ Make sure data is reported in a transparent, accessible, and useable way<br />+ Prepare reports of data results, presenting and explaining findings to senior leadership.<br />+ Based on metrics and analysis, makes recommendations for policies and activities to improve the organizational culture including suggestions to attract and hire qualified candidates, to motivate and retain employees, to address staffing issues, and to maintain legal compliance.<br />+ Analyze data and statistics for trends and patterns with attention to recruitment, hiring practices, motivation, turnover, and compliance with employment laws and regulations.<br /><strong>Why you will like it here:</strong><br />+ Leaders that are genuinely obsessed about all things people, customer, and our values<br />+ Be part of a company that is rapidly growing<br />+ Growing your career and working with a team of high achievers<br />+ Great salary and benefits<br />+ Great tech &amp; tools<br /><strong>You will succeed:</strong><br />+ If you can leverage tools, such as SQL, Tableau, Visier, and Excel to drive analytics and enable client self-service on routine queries<br />+ Demonstrate exceptional judgment and discretion when dealing with highly sensitive people data<br />+ if you can communicate statistical analyses and results, along with implications, to technical and non-technical audiences at all levels of the organization, including senior stakeholders.<br />+ if you have knowledge of statistical analysis (e.g., descriptive statistics and knowledge of statistical significance), quantitative research, and experience gathering and interpreting data<br />+ If you have project management experience with multiple stakeholders prioritizing and delegating projects/tasks<br />+ If you have knowledge of data visualization principles<br />+ If you have experience in data visualization tools and Excel (complex formulas, pivots, macros, etc.)<br />+ If you have 4 years of business experience in people/human resources, serving in an analytics or strategic HR consulting role at a large multinational company<br />+ Experience working with HR/organizational people data (e.g. headcount, turnover, recruiting metrics, and other people analytics)<br />+ Experience in HR analytics using HR systems and tools<br /><strong>Nice to have:</strong><br />+ R Programming<br />+ Power BI<br />+ Python<br /><strong>We’re awesome at what we do</strong><br />Everything we do is driven by four core values: “Dream Big, Achieve More”, “Be Awesome, “Keep It Real” and “Bring the Wow”<br /><strong>We are obsessed in providing great people for accounting firms. We’re so driven and passionate about the impact we can have on people’s lives that we’ve already built an impressive customer base of 700+ firms across the US, Australia, Canada, and New Zealand in just 8 years. You could say, we are the accounting people, people.</strong><br /><strong>Globally, we have over 2,300 employees and growing fast with offices in Toronto, San Diego, Fort Worth, the Philippines, and our HQ on the Australian Gold Coast.</strong><br /><strong>Now is an exciting time to join us as we are highly focused on growth. If looking for an opportunity where you can be authentically you and you are confident that you can deliver a wow experience with every interaction, then we want you on the journey.</strong>",
         "PH",
         "-",
         "0-0-None-None"
        ],
        [
         "14",
         "78377009",
         "Senior Staff/ Principal Engineer Technology Development",
         "<p><strong>Driving decarbonization and digitalization. Together.</strong><br /><br />Infineon designs, develops, manufactures, and markets a broad range of semiconductors and semiconductor-based solutions, focusing on key markets in the automotive, industrial, and consumer sectors. Its products range from standard components to special components for digital, analog, and mixed-signal applications to customer-specific solutions together with the appropriate software.<br /><br /></p><p>In your new role you will:<br /><br /></p><ul><li>Drive the development &amp; process integration of power technologies.</li><li>Lead technology development projects in a cross-functional mode with the goal to release the technology and devices to production and market.</li><li>Work together with unit process development experts to define process requirements and to optimize process modules.</li><li>Plan, execute and evaluate development experiments by using Design of Experiment technique.</li><li>Define and design test structure for process control, assess the data and correlate to process and device characteristics.</li><li>Perform electrical device characterizations and collaborate with application, product, TCAD simulation and reliability teams.</li><li>Lead problem solving teams using systematic approaches (eg. 8D or Six Sigma).</li><li>Act as key technical expert and key knowledge exchange person for technology group.</li><li>Take leading role and ownership in a creative way and create IP´s when possible.</li></ul><p>You are best equipped for this task if you have:<br /><br /></p><ul><li>University degree or above in electrical engineering, microelectronics, physics or other relevant studies</li><li>8-10 + years of experience in semiconductor technologies, process integration &amp; technology development</li><li>Cross site technical sharing &amp; On Job Training will be provided</li><li>Experience with process integration, power device development, characterization and process development</li><li>A strong background of semiconductors physics, especially GaN HEMT structures and the III-V material system will be added advantage</li><li>Worked in multicultural, high-tech environment project teams before, with project management skill set, and led development projects</li><li>Good expertise in milestone planning and corresponding release procedures</li><li>A strong analytical mindset with systematic problem-solving techniques</li><li>A high level of self motivation, result focus and ability to work under high dynamic situation</li><li>Excellent communication and negotiation skills, and good team player</li><li>Demonstrated excellent leadership skills and ability to lead a technical team</li></ul>",
         "MY",
         "Transport,Dental,Optical,Meal Allowance",
         "0-0-None-None"
        ],
        [
         "15",
         "73424441",
         "Executive Assistant / Personal Assistant (Financial Services)",
         "<p><strong>The Company</strong></p><p>Our client is a top-tier world's leading financial institution.</p><p> </p><p><strong>The Role</strong></p><ul><li>Provide administrative support to senior management</li><li>General administrative work includes scheduling, making reservations, preparing documents for meetings, events coordination</li><li>Plan and execute events, organize daily schedule and prioritize tasks for the senior management, alert in any urgent matters that require immediate attention</li><li>Work closely with the government officials, regulatory, business institutions outside suppliers.</li><li>Handle itineraries, flight and hotel arrangements, visas and forex processing</li><li>Coordinate and administer the logistics associated with the board meetings</li></ul><p> </p><p><strong>Your Profile</strong></p><ul><li>Bachelor degree holder</li><li>Minimum 3 years of experience in secretarial and/or administrative experience within the financial services industry</li><li>Proficient in all aspects of Microsoft Office (especially Excel, PowerPoint and Outlook)</li><li>Detail-minded and works with a high degree of accuracy</li><li>Effective communication skills are key (written and verbal)</li><li>Fluent in spoken and written English, Cantonese and Mandarin</li></ul><p> </p><p><strong>Apply Today </strong></p><p>To apply online (Word attachment only), please click the 'Apply' button. Please note that only short-listed candidates will be contacted.</p><p><em>By clicking 'apply', you give your express consent that Robert Half may use your personal information to process your job application and to contact you from time to time for future employment opportunities. For further information on how Robert Half processes your personal information and how to access and correct your information, please read the Robert Half privacy notice: https://www.roberthalf.com.hk/privacy-statement. Please do not submit any sensitive personal data to us in your resume (such as government ID numbers, ethnicity, gender, religion, marital status or trade union membership) as we do not collect your sensitive personal data at this time.</em></p>",
         "HK",
         null,
         "0-0-None-None"
        ],
        [
         "19",
         "64576226",
         "Assistant Manager - Dean Med/ Research Office - Precision Medicine Programme...",
         "<div><div><div>Job Description</div><div><p>1) Provide overall research programme management in terms of programme objectives, timelines, milestones, resources, infrastructure, budgeting, and manpower planning and reporting as required through the following:</p><p>a) Establish internal workflow to manage and ensure effective allocation and management of core funding, external grants and timely submission of progress reports to achieve overall research objectives as set out by Programme Director.</p><p>b) Monitor KPIs by implementing internal continuous assessment to track research progress, identification of gaps, risks and propose ongoing improvement processes to raise the quality, productivity and overall standards of the programme's research.</p><p>2) Establish processes for continuous engagement and interaction through facilitation of regular meetings, retreats, review sessions etc. in alignment with overall research objectives and strategy.</p><p>3) Main liaison to Research Coordination Unit (RCU) to work on cross programme matters such as space planning, inter-disciplinary research etc.</p><p>4) Responsible for communications and outreach such as organising conferences, seminars, and visits to foster learning and collaboration amongst the local and international scientific communities.</p><p>5) Liaise with RCU to create and build a digital presence to connect stakeholders and partners.</p><p>6) Support all other strategic initiatives, events or projects as required by the programme.</p></div></div><div><div>Qualifications</div><div><ul><li>Degree with minimum of 4 years of working experience</li><li>Effective communication and ability to solve complex issues</li><li>Resourceful and ability to make independent judgement and decision</li><li>Experience in HR, Finance and Procurement</li></ul></div></div><div><div>More Information</div><div><p>Location: Kent Ridge Campus</p><p>Organization: Yong Loo Lin School of Medicine</p><p>Department : Dean's Office (Medicine)</p><p>Employee Referral Eligible: No</p><p>Job requisition ID : 8426</p></div></div></div>",
         "SG",
         "-",
         "0-0-None-None"
        ],
        [
         "20",
         "53545019",
         "Automation Engineer (Nintex, PowerAutomate, UiPath etc.)",
         "Our client within healthcare is looking for an Automation Engineer to join their business on contract until June 30, 2022. This role is to create an automation presence within the business to automate business processes for multiple business streams.<br /><br /><strong>Knowledge, Skills &amp; Experience:</strong><br /> <ul> <li>Experience in robotic software automation design and development using the following tools PowerAutomate, UiPath and Nintex</li> <li>Provide, check and review conceptual and preliminary design, option analysis, scope and specification of substation automation and control systems</li> <li>Development and maintenance of design standards</li> <li>Implement and review standard and non-standard automation and control system design, operation, testing and commissioning</li> <li>Manage work programs for delivery of non-standard solutions</li> <li>Perform engineering design review and validation, and perform peer reviews for other team members</li> <li>Review and approval of automation design methodology and user requirements specification documentation</li> <li>Identify improvements and initiate change to design and processes</li> <li>Engage with relevant stakeholders to balance between technical design solutions with business improvement, cost and risk</li> <li>Initiate, manage and review engineering investigations and risk assessments reports and Recommendations</li> <li>Lead the improvement of best practice processes and systems</li> <li>Foster technical innovation, acquisition of expertise and support a continuous improvement culture</li> <li>Review and check network security and customer and staff privacy obligations related to compliance with legislative requirements and regulations</li> <li>Contribute to the development of other engineers</li> </ul> <div> <div> <div> <div>This role is for immediate start. Contact Maddie Austen on 0419 722 823 with any questions.</div> </div> </div> </div>",
         "AUS",
         null,
         "0-0-None-None"
        ],
        [
         "21",
         "64575692",
         "Kontributor Konten untuk Studi Pengumpulan Data",
         "<p><b>Job description:</b></p><p>Bekerja dari mana saja, kapan saja, dan tanpa pelatihan atau keahlian teknis!<br /><br />DataForce adalah bagian dari keluarga perusahaan TransPerfect, penyedia solusi bahasa dan teknologi terbesar di dunia untuk bisnis global dengan kantor di lebih dari 100 kota di seluruh dunia.<br /><br /><b>BAGAIMANA cara memulainya? </b>Kami mencari peserta dari seluruh dunia untuk berkolaborasi dalam studi sederhana berbayar dengan tim <i>Artificial Intelligence</i> (AI) kami. Tujuan dari studi ini adalah untuk mengumpulkan berbagai foto dan video pendek tentang diri Anda guna mengembangkan perangkat lunak dan teknologi AI lebih lanjut lagi.<br /><br />Jika materi yang dikirimkan sesuai dengan spesifikasi proyek, Anda akan mendapatkan 20 USD.<br /><br /><i>Studi ini memerlukan waktu kurang dari 15 menit. Anda dapat menyelesaikan studi ini kapan pun, di mana pun!</i><br /><br /><b>PERSYARATAN</b><br /></p><ul><li>Memiliki      akses internet berkecepatan tinggi</li><li>Memiliki      perangkat seluler yang mampu mengambil foto lebih dari 2 MP dan video      lebih dari 720p</li></ul><b>PENTING: </b>Semua data akan dianonimkan.<br /><br /><b>Harap perhatikan:</b> Semua aset yang dikirimkan akan melalui proses validasi QA. Kami akan memberikan umpan balik setelah proses selesai. Jika Anda menemui masalah atau memiliki pertanyaan, silakan hubungi kami untuk mendapatkan bantuan di sini:<p></p><br /><p><b>What we offer:</b></p><p>Jika materi yang dikirimkan sesuai dengan spesifikasi proyek, Anda akan mendapatkan 20 USD.</p><div> </div><div> </div><p><b>Required profile:</b></p><p><b>BAGAIMANA cara memulainya? </b>Kami mencari peserta dari seluruh dunia untuk berkolaborasi dalam studi sederhana berbayar dengan tim <i>Artificial Intelligence</i> (AI) kami. Tujuan dari studi ini adalah untuk mengumpulkan berbagai foto dan video pendek tentang diri Anda guna mengembangkan perangkat lunak dan teknologi AI lebih lanjut lagi.</p>",
         "ID",
         "-",
         "0-0-None-None"
        ],
        [
         "23",
         "75574350",
         "Finance Associate - Italian OR Spanish Speaker",
         "<p>This role requires a result driven, focused individual with excellent communication skills and high self-motivation. He or she must be able to work independently under broad managerial supervision. He/She must be able to encourage and support other analysts and associates within the Credit/Payable team in achieving team delivery, and positively engage with others to continuously improve business processes and performance.</p><p><strong>Client Details</strong></p><p>Our client is a multinational company with a global branding located in a strategic location. A company that practice a dynamic culture and organic growth that also encourages their employees to grow their skills and knowledge through rotational opportunities.</p><p><strong>Description</strong></p><p><strong>AP Master Data</strong><br />* Periodically review vendor and bank master data to ensure records are accurate and up-to-date.<br />* Discuss payment terms for new and existing vendors with local business unit Controllers. Ensure approval obtained for any deviation from standard payment terms.<br />* Review vendor activity and update inactive vendors.<br /><br /><strong>Invoice Processing &amp; GRIR Maintenance</strong><br />* Ensure accuracy and timely processing of vendor invoice for PO and non-PO items. Review and standardize account coding of expenses.<br />* Coordinate with team lead and local business unit Controllers to reduce the occurrence of non-PO invoices.<br />* Ensure GRIR clearing accounts are maintained up-to-date and identify action plans for any long outstanding items.<br /><br /><strong>Payment</strong><br />* Ensure all non-PO invoices are authorized before payment.<br />* Attain detailed understanding of payment methods and country-specific requirements in integrated (host-to-host) or non-integrated payment portals.<br />* Ensure payment cycle runs are in compliance with MCC and local regulatory requirements.<br />* Streamline payment run cycles and coordinate payment requests by local business units.<br />* Coordinate with team lead and local business unit Controllers to reduce number of ad-hoc payment requests and other payment matters.<br />* Propose authorization controls for payment run approvals in payment portal.<br /><br /><strong>Intercompany Reconciliation</strong><br />* Work closely with MCC Corporate Accounting on month-end intercompany balance reconciliation and transactions.<br />* Work with local business units to ensure compliance with MCC policy on intercompany invoice recognition and payment.</p><p><strong>Profile</strong></p><ul><li>Fluent Italian OR Spanish speaker</li><li>Accounting degree or equivalent</li><li>Ability to work EMEA shift, especially month-end</li><li>Shared services experience is preferred.</li><li>Open for fresh grads</li></ul><p><strong>Job Offer</strong></p><ul><li>Be part of the leading multinational organization</li><li>Attractive remuneration package</li><li>Enhance Accounts Payable Skills</li></ul><p>To apply online please click the 'Apply' button below. For a confidential discussion about this role please contact Azfar Hisyam on +603 2302 4097.<br />Agensi Pekerjaan Michael Page International (Malaysia) Sdn Bhd | Registration No.914741-W.</p>",
         "MY",
         null,
         "0-0-None-None"
        ],
        [
         "24",
         "51705654",
         "VIETNAMESE SPEAKING SUPPORT WORKERS",
         "<p>&nbsp;Beyond Care đang tìm kiếm NHÂN VIÊN HỖ TRỢ NÓI TIẾNG VIỆT cho các nhà Tập thể và các chương trình Sinh hoạt cộng đồng ở các vùng Liverpool để cung cấp một phương pháp lấy con người làm trung tâm, trao quyền cho sự độc lập và lựa chọn của khách hàng sống trong các Chương trình SIL của chúng tôi. Nhiều vị trí Bán thời gian cố định và Thông thường có sẵn Beyond Care có sẵn nhiều vị trí khác nhau để hỗ trợ tại nhà cũng như cho các khách hàng sống độc lập trong Cộng đồng. Chúng tôi có những khách hàng cần được giúp đỡ và hỗ trợ với các nhu cầu sinh hoạt hàng ngày. Cả ca ngắn và ca dài đều có sẵn với Sleepovers cho phép cân bằng giữa công việc và lối sống. Ca sáng và chiều có sẵn Hỗ trợ khách hàng bị khuyết tật với các hoạt động / công việc hàng ngày Đặt trong một môi trường thân thiện với gia đình Hỗ trợ chăm sóc cá nhân, do bản chất của việc chăm sóc, phụ nữ được khuyến khích áp dụng Tiêu chí lựa chọn / Năng lực chính Thiết yếu Chứng chỉ III về Cộng đồng, Chăm sóc Người cao tuổi, Người khuyết tật hoặc tương đương Kinh nghiệm trước đây với tư cách là Nhân viên hỗ trợ Tối thiểu 4 ngày Làm việc toàn thời gian trong tuần. Phải có một chiếc xe đáng tin cậy, Bằng lái xe và khả năng đi lại với bảo hiểm của bên thứ ba Giấy chứng nhận sơ cấp cứu hiện tại hoặc sự sẵn lòng để có được một. Kiểm tra lịch sử hình sự quốc gia hiện tại hoặc sẵn sàng để có được một. Hiện đang làm việc với Kiểm tra Trẻ em hoặc sẵn sàng để có được một. Chứng minh bạn có quyền làm việc tại Úc Mong muốn thực sự cung cấp dịch vụ chăm sóc chất lượng và nâng cao cuộc sống của khách hàng của chúng tôi Thái độ đáng tin cậy, có trách nhiệm đối với công việc và có thể cam kết làm việc đều đặn theo giờ giấc. Kỹ năng cá nhân và giao tiếp tốt Truy cập vào điện thoại thông minh. Khả năng cung cấp phương pháp tiếp cận lấy con người làm trung tâm để trao quyền cho sự độc lập và lựa chọn của khách hàng Có kinh nghiệm quản lý các hành vi thách thức và đảm bảo một môi trường an toàn cho khách hàng. Linh hoạt về giờ làm việc đáp ứng nhu cầu của khách hàng, tức là sáng, ngày, chiều, tối, đêm, ngủ qua đêm, hoạt động vào ban đêm, cuối tuần, ngày lễ TIẾNG VIỆT&nbsp; SPEAKING SPEAKING Nếu bạn cảm thấy mình là người phù hợp cho vai trò này và muốn tham gia vào đội ngũ năng động của chúng tôi, hãy gửi hồ sơ của bạn đến Career@beyondcare.com.au hoặc chỉ cần nhấp vào ĐĂNG KÝ CÔNG VIỆC NÀY ĐƠN HÀNG ĐÓNG CỬA THỨ SÁU 02/04/2021&nbsp;&nbsp;</p>",
         "AUS",
         null,
         "0-0-None-None"
        ],
        [
         "26",
         "54123452",
         "Kaitohutohu Mātāmua Ako/Whanaketanga",
         "<strong>Kia &#363;kaip&#333; an&#333; te reo M&#257;ori: </strong><br /> Koinei te t&#363;rua p&#333; o te rautaki reo M&#257;ori hou e k&#299;ia nei ko Te Maihi M&#257;ori, he mea waihanga e ng&#257;i M&#257;ori m&#257; ng&#257; k&#257;inga, ng&#257;&nbsp;hapori me ng&#257; iwi.<br /> <br /> I te t&#299;matanga o te tau 2017 i hui tahi Te Ma&#772;ta&#772;wai me ng&#257; r&#333;p&#363; whai p&#257;nga huri noa i te motu ki te kohi haere i ng&#257; k&#333;rero m&#333; ng&#257; kaupapa reo M&#257;ori kei ng&#257; k&#257;inga, ng&#257; hapori; ng&#257; wawata kei a r&#257;tou e p&#257; ana ki te reo M&#257;ori, tae noa ki ng&#257; mahi a Te M&#257;t&#257;wai hei whakatutuki i &#275;nei wawata. N&#257; runga i &#275;nei kohinga k&#333;rero i hua mai ai Maihi M&#257;ori 2017-2040.<br /> <strong>&nbsp;</strong>&nbsp;<br /> <strong>Te t&#363;ranga mahi:</strong><br /> Kua ara mai he &#257;heinga p&#257;rekareka rawa atu m&#333; t&#275;tahi Kaitohutohu M&#257;t&#257;mua Ako/Whanaketanga taiea kia mahi i t&#275;nei w&#257;hi mahi whakahirahira m&#333; t&#275;tahi t&#363;ranga p&#363;mau tekau m&#257; rua marama te roa. He hunga ng&#257;kau nui kei Te M&#257;t&#257;wai e kaha pupuri ana i te mana me te whakarauoratanga o te reo M&#257;ori. &nbsp;&nbsp;<br /> Kei te Kaitohutohu M&#257;t&#257;mua m&#333; ng&#257; take Akoranga/Whanaketanga te haepapa ki te hanga i t&#275;tahi pou tar&#257;waho arataki, whanaketanga, whakangungu hoki m&#257; ng&#257; kaimahi, ng&#257; mema o te Poari me ng&#257; Pae Motuhake. Ko t&#257;u mahi he k&#333;kiri i &#275;tahi h&#299;raunga ako hou kia kairangi ake nei, m&#257; roto i ng&#257; rautaki maha. &#256;p&#257; noa atu, ko ng&#257; kauhau tuihono &#275;r&#257;, ko ng&#257; papamahi, ko ng&#257; k&#333;wae ako matihiko, me &#275;tahi rauemi h&#257;pai i ng&#257; kaimahi.<br /> Ko t&#257;u mahi he tautohu, he whakaraupapa i ng&#257; hiahia whakangungu, whakawhanake hoki a Te M&#257;t&#257;wai m&#257; te toro ki ng&#257; r&#333;p&#363; whai p&#257;nga, tae atu hoki ki te mahi k&#333;tui me ng&#257; pakihi kia m&#257;rama ai ng&#257; hiahia ako, &#257;, he tautohu hoki i ng&#257; w&#257;hi k&#257;ore nei e tino kaha ana.<br /> <br /><strong>He k&#333;rero m&#333;u ake:</strong><br /> M&#257;u an&#333; koe e kuhu, &#257;, ka noho mai koe hei kaimahi ako/whanaketanga whai mana i runga i:<br /> <ul> <li>Te hiranga o &#333;u p&#363;kenga whakam&#333;hiohio, t&#333; pai ki te k&#333;rero M&#257;ori, t&#333; m&#257;rama hoki ki ng&#257; tikanga me ng&#257; m&#257;t&#257;pono o Te Tiriti o Waitangi;</li> <li>T&#275;tahi huarahi mahi tahi kia pai ai te whakakotahitanga mai o te katoa, kia aro k&#275; mai &#275;tahi atu ki &#257;u &#257;rahitanga;</li> <li>&#332;u wheako hirahira m&#333; te &#257;rahi i te whakanaketanga, te hanganga, me te whakatutukitanga o ng&#257; whakangungu arotika, tae noa ki ng&#257; h&#299;raunga ako;</li> <li>&#332;u wheako ki te &#257;rahi i te hanganga o &#275;tahi h&#299;raunga &#257;konga hei whakapakaritanga ake;</li> <li>&#332;u m&#333;hio me &#333;u m&#257;ramatanga ki ng&#257; m&#257;t&#257;pono me ng&#257; ahunga ako.</li> </ul> <strong>Me p&#275;hea te tono:</strong><br /> M&#333; &#275;tahi atu p&#257;rongo, &#257;, e tono ai koe ki t&#275;nei t&#363;ranga, t&#275;na tirohia te pae tukutuku www.h2r.co.nz/tematawai, whakap&#257; mai ki a Victoria Brice ki 04 4999 471, &#257;, &#299;m&#275;ra mai r&#257;nei ki &nbsp;Victoria.brice@h2r.co.nz nama tohutoro 305415. Ka kati ng&#257; tono hei te Wenerei 13 o Oketopa, 5pm.",
         "NZ",
         null,
         "0-0-None-None"
        ],
        [
         "27",
         "75545587",
         "Director, Compliance (SOX)",
         "<strong>The Company<br /><br /></strong><br />This is an excellent opportunity to join a high-profile and reputable industry leader. Due to business expansion, we are currently recruiting for an experienced Director, Compliance with strong experience in SOX compliance.<br /><br /><br /><strong>The Role<br /><br /></strong><br />Reporting to the Audit Committee and Executive Vice President, you will be responsible for the management and execution of the SOX programme for the group and working closely with the senior management as well as cross functional leaders. The key responsibilities include evaluating design of controls, including acting as a liaison with Business Process Owners (BPOs) on SOX documentation, driving process and control changes to gain controls effectiveness and to improve the control environment. Review the annual SOX scoping, planning materiality and risk assessment and proactively monitor changes that may impact the operating effectiveness of internal control over financial reporting (ICFR). Oversee coordination between internal and external auditors, and BPOs to ensure collaborative execution of the annual evaluation of ICFR. Monitor on a quarterly basis and review the results of control deficiencies identified for management remediation. Oversee the execution of annual walkthroughs of scoped-in business processes and Information Technology General Controls (ITGC) to ensure effective evaluation of the design of ICFR and update all relevant SOX documentation in risk control matrices and flowcharts. Work with BPOs to develop remediation plans for control deficiencies and monitor the remediation status of such plans. Coordinate and assist BPOs with the assessment of adequacy of ICFR of SOC-1 certifications to formally evaluate ICFR at third-party service organizations. Stay informed of changes in legislation, accounting standards and regulatory guidance which impact ICFR, including reviews of PCAOB reports of external auditors. Attend key management committee meetings to stay informed of business changes that may impact the Group's ICFR.<br /><br /><br /><strong>Your Profile<br /><br /></strong><br />To qualify for this role, you must be a Chartered Accountant/Certified Internal Auditor with a Degree in Accountancy and minimum 15 years of relevant Internal Audit/Compliance experience within Big 4 and commercial firms. It is essential to have a strong background in SOX compliance, assessing the design of controls and executing SOX compliance programs for listed MNCs. Strong knowledge of PCAOB requirements, IFRS and COSO framework will be required. We are looking for a critical thinker with strong leadership and project management capabilities as well as an effective communicator with executive presence.<br /><br /><br /><strong>Apply Today<br /><br /></strong><br />Please send your resume, in WORD format only and quote reference number <strong>GC12966998</strong>, by clicking the apply button. Please note that only short-listed candidates will be contacted.<br /><br /><br /><br /><p><strong>Robert Half International Pte Ltd. Co. Registration no.: 200612189E | EA Licence no.: 07C5595 | Chia Lan Xian Gina EA Registration no.: R1109282</strong></p><p><em>By clicking 'apply', you give your express consent that Robert Half may use your personal information to process your job application and to contact you from time to time for future employment opportunities. For further information on how Robert Half processes your personal information and how to access and correct your information, please read the Robert Half privacy notice: https://www.roberthalf.com.sg/privacy-statement. Please do not submit any sensitive personal data to us in your resume (such as government ID numbers, ethnicity, gender, religion, marital status or trade union membership) as we do not collect your sensitive personal data at this time.</em></p>",
         "SG",
         "Competitive",
         "0-0-None-None"
        ],
        [
         "29",
         "63470783",
         "Senior Officer/Manager, Personal Wealth Executive, Personal Financial...",
         "<div><div><div><strong>About UOB</strong></div><div><p>United Overseas Bank Limited (UOB) is a leading bank in Asia with a global network of more than 500 branches and offices in 19 countries and territories in Asia Pacific, Europe and North America. In Asia, we operate through our head office in Singapore and banking subsidiaries in China, Indonesia, Malaysia and Thailand, as well as branches and offices.</p><p>Our history spans more than 80 years. Over this time, we have been guided by our values — Honorable, Enterprising, United and Committed. This means we always strive to do what is right, build for the future, work as one team and pursue long-term success. It is how we work, consistently, be it towards the company, our colleagues or our customers.</p></div></div><div><div><strong>About the Department</strong></div><div><p>The <strong>Retail </strong>function provides Personal and Business Banking customers with financial solutions tailored to their needs. We help them manage their money wisely and meet their financial goals through an extensive range of products and services. These include deposit, insurance, secured and unsecured loans, investment and wealth advisory services.</p><p></p><p><strong>Personal Financial Services</strong></p><p>We design and provide products and services that empower our customers to enjoy greater banking convenience while they extract more value from their money. In particular, we are focused on promoting and developing healthy saving and investment practices across generations.</p></div></div><div><div><strong>Job Responsibilities</strong></div><div><ul><li>Responsible for marketing and promoting a wide range of banking products and services, including Unit Trust, Insurance, Deposits to our existing and potential customers</li></ul></div></div><div><div><strong>Job Requirements</strong></div><div><ul><li>Minimum years of working experience in sales<ul><li>Degree - 1 year of working experience</li><li>Diploma - 2 years of working experience</li><li>SPM - 5 years of working experience</li></ul></li><li>Passionate in wealth management / investment sales / client engagement</li><li>Mature, pleasant, independent, self-motivated and highly sales and service-oriented</li><li>Mobile and possess own transport</li><li>Bumiputera candidates are encouraged to apply</li></ul></div></div><div><div><strong>Be a part of UOB Family</strong></div><div><p>UOB is an equal opportunity employer. UOB does not discriminate on the basis of a candidate's age, race, gender, color, religion, sexual orientation, physical or mental disability, or other non-merit factors. All employment decisions at UOB are based on business needs, job requirements and qualifications. If you require any assistance or accommodations to be made for the recruitment process, please inform us when you submit your online application.<br /><br />Apply now and make a difference.</p></div></div></div>",
         "MY",
         "-",
         "0-0-None-None"
        ],
        [
         "31",
         "52567347",
         "Endorsed Enrolled Nurse",
         "Established for over 65 years, Belmore Nurses has become one of Australia's largest and most respected nursing agency.  Belmore Nurses is the preferred supplier to all Victorian Public Hospitals and Private Hospitals and most Aged Care facilities.<br /><br />Belmore Nurses is currently seeking Enrolled Endorsed (EEN) and Enrolled Nurses (EN) across Geelong and the Western suburbs to work in all areas of nursing.<br /><br /><br /><strong>Essential Qualifications, Skills &amp; Experience:</strong><br /><br /><ul><li>Practicing certificate with Australian Health Practitioner Regulation Agency (AHPRA)</li><li>Excellent communication skills</li><li>Valid Police Clearance or willingness to obtain</li><li>A current Working with Children Check (employer card)</li><li>Must hold Australian working rights</li></ul><br /><strong>Benefits:</strong><br /><br /><ul><li>Market leading pay rates</li><li>Quick payment - paid weekly</li><li>Friendly, professional and supportive team that get to know your preferences</li><li>Ongoing work opportunities - regional contracts and up to full time hours available</li><li>Manage your own availability online or using our Belmore Nurses App</li><li>Free continuing education - both practical and online accessible on any device</li><li>Employee benefits - refer a friend program, member incentives, free flu shots and more!</li></ul> <br /><br />If you would like more information or to join Belmore, please contact our friendly recruitment team on 1300 884 686 or email us at geelong@belmorenurses.com.au<br />",
         "AUS",
         null,
         "0-0-None-None"
        ],
        [
         "32",
         "73850707",
         "Accountant - Investment, Private Office ",
         "<p>My client is a well-established family office in Hong Kong with a diverse investment portfolio. Currently, they're looking to hire an Accountant to join their team! </p><p><strong>Client Details</strong></p><p>My client is a well-established family office in Hong Kong with a diverse investment portfolio. Currently, they're looking to hire an Accountant to join their team! </p><p><strong>Description</strong></p><ul><li>Responsible for full set of accounting </li><li>Assist in financial reporting and financial analysis </li><li>Prepare for month-end and year-end closing</li><li>Assist in annual audit </li><li>Assist in ad-hoc tasks</li></ul><p><strong>Profile</strong></p><ul><li>Bachelor degree in Accounting or Finance</li><li>At least 3 years of accounting experience</li><li>Fluent in both English and Chinese</li><li>Immediate start preferred</li></ul><p><strong>Job Offer</strong></p><ul><li>Excenllent investment exposure </li><li>Stable working hours</li><li>Close to MTR</li></ul><p> <br /> <br /></p>",
         "HK",
         null,
         "0-0-None-None"
        ],
        [
         "35",
         "51233414",
         "Waste Minimisation Advisor",
         "<p>We are looking for an enthusiastic individual who has what it takes to succeed in a dynamic and challenging role. As a member of the Sustainability and Resilience team, the Waste Minimisation Advisor will advocate for sustainable waste management practices, and will be responsible for developing and delivering waste education programmes.</p><p><strong>To be successful in this role you will have the following:</strong></p><ul><li>A related professional qualification or tertiary qualification, however consideration will be given to sufficient relevant working experience</li><li>Experience working in waste minimisation and education is preferred</li><li>Demonstrated effective communication skills, both written and oral</li><li>Demonstrated environmental awareness combined with a pragmatic approach to implementing viable waste minimisation initiatives</li><li>Demonstrated analytical skills</li><li>Data collection and administration skills</li><li>A current and valid NZ driver's licence</li></ul><p>Working for the Kāpiti Coast District Council means being part of a caring, dynamic and effective customer-focused team who make a positive difference in the community we serve. If you'd like to be part of the team, contact us now.</p><p>Enquiries about this position should be directed to Ruth Clarke, Waste Projects Manager,on 04 296 4700 or free phone 0800 486 486.</p><p>The preferred candidate will be required to undergo the usual pre-employment checks, including drug and alcohol screening, criminal history, and credit checks. Please note you must be eligible to work in New Zealand.</p><p><strong>Applications close 12pm Thursday, 4 February 2021.</strong></p><p><strong>Please email your cover letter, CV, completed council application form, copy of your work visa (if applicable) and driver's licence marked 'Waste Minimisation Advisor - Ref 61 to marguerita.harris@kapiticoast.govt.nz</strong></p><p>Further information about the position and application documents are published on our website at <a href=\"https://www.kapiticoast.govt.nz/Your-Council/Job-Vacancies/All-Vacancies/\" target=\"_blank\">https://www.kapiticoast.govt.nz/</a></p>",
         "NZ",
         null,
         "0-0-None-None"
        ],
        [
         "36",
         "63552680",
         "AVP, Inbound Servicing, Contact Centre",
         "<div><div><div><strong>About UOB</strong></div><div><p>United Overseas Bank Limited (UOB) is a leading bank in Asia with a global network of more than 500 branches and offices in 19 countries and territories in Asia Pacific, Europe and North America. In Asia, we operate through our head office in Singapore and banking subsidiaries in China, Indonesia, Malaysia and Thailand, as well as branches and offices.</p><p>Our history spans more than 80 years. Over this time, we have been guided by our values — Honorable, Enterprising, United and Committed. This means we always strive to do what is right, build for the future, work as one team and pursue long-term success. It is how we work, consistently, be it towards the company, our colleagues or our customers.</p></div></div><div><div><strong>About the Department</strong></div><div><p>The <strong>Technology and Operations </strong>function is comprised of five teams of specialists with distinct capabilities: business partnership, technology, operations, risk governance and planning support and services. We work closely together to harness the power of technology to support our physical and digital banking services and operations. This includes developing, centralising and standardising technology systems as well as banking operations in Singapore and overseas branches.</p></div></div><div><div><strong>Job Responsibilities</strong></div><div><p></p><ul><li>Deliver 24 hour one-stop customer service</li><li>Providing prompt and accurate answers, alternatives or solutions to customers with their best interests at heart</li><li>Handle escalated calls and perform service recovery</li><li>Resolve customer requests/complaints in an efficient &amp; timely manner within Service Level Agreement</li><li>Monitor team adherence, punctuality and overall discipline</li><li>To lead a team of CSOs to reach assigned targets / scorecards</li><li>To coach and provide motivational assistance to CSOs so as to manage retention</li><li>Review waivers and other financial transactions performed to reduce waiver volume</li><li>To continuously review and improve work processes so as to enhance customer's experience.</li></ul><p></p></div></div><div><div><strong>Job Requirements</strong></div><div><ul><li>Good Diploma/Degree with minimum 1 year of Call Centre experience in a managerial or leadership role with proven track record</li><li>Familiarity of operating systems</li><li>Proficient in Microsoft Office</li><li>Knowledge of browsers/ Internet Banking</li><li>Proficient level of Written and Verbal communication skills</li><li>Ability to communicate effectively with customers that are escalated from CSOs.</li><li>Display core values in all interactions with customers.</li><li>Able to multi-task to take on projects.</li></ul></div></div><div><div><strong>Be a part of UOB Family</strong></div><div><p>UOB is an equal opportunity employer. UOB does not discriminate on the basis of a candidate's age, race, gender, color, religion, sexual orientation, physical or mental disability, or other non-merit factors. All employment decisions at UOB are based on business needs, job requirements and qualifications. If you require any assistance or accommodations to be made for the recruitment process, please inform us when you submit your online application.<br /><br />Apply now and make a difference.</p></div></div></div>",
         "MY",
         "-",
         "0-0-None-None"
        ],
        [
         "37",
         "55477174",
         "PANEL BEATER ",
         "<p>QUALIFIED PANEL BEATER REQUIRED FOR BUSY SMASH REPAIR SHOP. COME AND JOIN OUR FRIENDLY TEAM AT MORDIALLOC. </p><p>FULL TIME MONDAY-FRIDAY 8am-4.30pm. </p><p> </p><p> </p>",
         "AUS",
         null,
         "0-0-None-None"
        ],
        [
         "39",
         "54973786",
         "Investment Analyst",
         "<ul><li><strong>Monitor &amp; report on the investment portfolios that are offered by BNZ</strong></li><li><strong>Bring your interest for financial markets &amp; investment management to this role</strong></li><li><strong>Amazing staff benefits - Flexible work options &amp; 6 weeks annual leave</strong></li></ul><p><strong>He Waka Eke Noa | Creating Great Together</strong></p><p>At BNZ, we're reimagining banking for our customers, helping them be good with money so they can do great things with it. This position sits within our Investment Solutions Team, who are responsible for the risk and return outcomes that our customers experience when investing their money in our funds and/or portfolios.</p><p><strong>Te Kaiurungi | About the Role</strong></p><p>This is an exciting and challenging opportunity, where you'll support the wider team to ensure that the Managed Investment Schemes (MISs) and Discretionary Investment Management Service (DIMS) portfolios that are offered by BNZ, achieve the best possible investment outcomes for our customers. Key responsibilities include:</p><ul><li>Regular monitoring of, and reporting on, the MISs and DIMS portfolios that are offered by BNZ</li><li>Working closely with BNZ's Investment Consultant on the various pieces of work it undertakes for BNZ, such as asset allocation, manager selection</li><li>Writing and presenting investment recommendations to internal committees and boards</li><li>Working with the Product, Investment Operations, Investment Communications and Advisory teams to support the management of the existing suite of investment products, and any changes that are made from time to time</li><li>Keeping up to date with developments in financial markets and the funds management industry</li><li>Maintaining relationships with the underlying investment managers that have been appointed to BNZ's investment products</li></ul><p><strong>Ō Pūkenga | About You</strong></p><p>If you have a keen interest in financial markets and investment management, and you're passionate about building your career within our Investment Solutions Team, this is the role for you! You'll have previous experience in a similar role, combined with excellent communication skills. You'll be responsible for condensing and reporting information in a way that is easy to understand to various committees and boards, so attention to detail and exceptional written communication is crucial. We are looking for:</p><ul><li>Minimum of 3 years' work experience, ideally within a funds management, investment consulting, or financial planning related role or company</li><li>Business degree, and studying towards the CFA qualification (or already completed)</li><li>Ability to condense information into a concise summary that is well structured and easy to understand</li><li>Excellent problem-solving abilities, shows strong initiative and takes a proactive approach to work</li><li>The ability to self-manage and prioritise their workload to meet deadlines</li></ul><p><strong>Nau mai ki te Pēke o Aotearoa | Working at BNZ</strong></p><p>At BNZ, we're passionate about building and sustaining a high-performance culture that motivates our people to deliver exceptional results.&nbsp;We know that every BNZer is unique, with a wide range of goals, ambitions, and lifestyles, so we offer a wide range of benefits and working styles to suit you.</p><ul><li><strong>Wellbeing: </strong>Your wellbeing is important to us. When we're at our best, physically and mentally, in and out of work, we can truly create great things together. We're here to support you to be your best with a number of wellbeing initiatives.</li><li><strong>Leave:&nbsp;</strong>We all need a bit of time off every now and then. At BNZ we're proud to offer the generous leave options you need and deserve - whether it's for a special occasion, an unexpected event, or an extended vacation.</li><li><strong>Flexibility: </strong>We're big on helping you balance life and work. We offer a range of flexible working options that help you be your best, wherever you're based. Talk to us about how we can make this work for you.</li></ul><p><strong>Haere mai ki Te Peke o Aotearoa | Come to the Bank of New Zealand</strong></p><p>Inspired by your customers and energised through success, BNZ has the environment and opportunities for you to contribute to a high achieving New Zealand.&nbsp;Come join us and let's create great together.</p><p>Please submit a cover letter and CV by end of Tuesday 23rd November 2021. &nbsp;</p><p>If you would like to know more about Life at BNZ and how you can help re imagine banking for our customers, please visit www.bnzcareers.co.nz or click the &lsquo;apply now&rsquo; button to submit your confidential application.</p>",
         "NZ",
         null,
         "0-0-None-None"
        ],
        [
         "40",
         "63681767",
         "Technician | 8696",
         "<p><b>Company Name: Sime Darby Auto Connexion S/B</b></p><ul><li>Carry out service repair / maintenance jobs on our products sold.</li><li>Record repair cause and correction done on the vehicle in Repair Order.</li><li>Request parts for service job and return (used parts) after completing each job.</li><li>Complete the necessary documents when carrying out maintenance and repairs.</li><li>Self-development in all service literatures and libraries of our product.</li><li>Ensure the safe usage and storage of diagnostic, special and garage tools and equipment. </li></ul><div> </div><div> </div><ul><li>MLVK 3 or Diploma in Automotive Engineering major Electrical &amp; Electronic.</li><li>Minimum 2 years relevant working experience, preferably in an automotive environment. </li></ul>",
         "MY",
         "-",
         "0-0-None-None"
        ],
        [
         "43",
         "62305827",
         "QA/QC Engineer",
         "<div> </div><div> </div><h2>We are looking for a QA Engineer to join our MNC client who is the market leader for automotive products.</h2><p></p><p>Reporting to: QA Manager<br />Team size: 10 headcounts &amp; expanding<br />Excellent remuneration package</p><p></p><h2>You will need to:</h2><p>· Ensure effective standards operating procedures are well maintained from the receiving/incoming of materials</p><p>· Ensure all products clearly established tolerances critical control points and process limits, which meet customer, statutory, regulatory requirements</p><p>· Handling all customer complaints by preparing clear and concise reports within the established timeframes by co-ordinating with the required personnel and ensuring a full root cause analysis is carried out and proper corrective/preventive action is taken to address the issues</p><p></p><h2>Requirement:</h2><p>· Bachelor's Degree in Engineering (Mechanical/Electrical) or equivalent</p><p>· At least 3-5 years experiences in automotive manufacturing industry</p><p></p><h2>How to apply?</h2><h2>To apply online, please click on the appropriate link. Alternatively, please send your resume to shelly.yong@randstad.com.my or Whatsapp only to +6016-663 9410 with providing your latest CV.</h2><p></p><p></p><p></p>",
         "MY",
         "-",
         "0-0-None-None"
        ],
        [
         "44",
         "79055842",
         "Recruitment Consultant (Banking & Financial Services) ",
         "<p>An exciting Recruitment Consultant - Banking &amp; Financial Services (x 1 vacancy) job has just become available at Robert Walters based in Bangkok, the world's most trusted talent solutions business. The organisation thrives on the passion, integrity, and innovation of its high-performance teams. If you're looking to develop deep specialist knowledge and explore global career opportunities, this could be the perfect fit for you.</p><p><strong>What you'll do:</strong></p><p>As a Recruitment Consultant with us, you'll join a team of recruiters in Banking &amp; Financial Services team. Your role will involve managing the recruitment process from beginning to end, providing an exceptional level of service to clients and candidates alike. You can also expect to be involved in a range of business development and networking activities to help us build even stronger client relationships - and attract new ones. At the same time, you'll look to establish a strong pipeline of high calibre candidates within your sector so we can always match the right people to the right roles.</p><ul><li>Actively seek business opportunities by speaking to clients and candidates as well as by keeping abreast of industry developments</li><li>Exceed client expectations by building excellent relationships and deep understanding of each client's culture and dynamic in order to match the best candidates to the organisation</li><li>Manage client roles, including by writing and placing job ads, producing weekly mail shots and conduct head hunting activities</li><li>Source, select and match candidates with appropriate roles, ensuring only the highest quality candidates are put forward to clients</li><li>Arrange interviews, ensuring candidates are fully briefed and providing regular communications and feedback</li><li>Organise and attend meetings with prospective clients as well as developing existing relationships</li></ul><p> </p><p> <strong>What you bring:</strong></p><p>The ideal candidate for the Recruitment Consultant - Banking &amp; Financial Services role is someone who is committed to exceeding client expectations, attracting top talent and achieving targets. You should have an ability to build a solid understanding of your clients' needs and wider industry trends. An entrepreneurial spirit coupled with an organised approach is essential. Strong teamwork skills are crucial as we value information sharing and building robust relationships.</p><ul><li>Three to five years solid industry experience in your area of expertise, preferably coming from a sales or business development background or in a client facing role</li><li>A commitment to exceeding client expectations, attracting top talent and achieving targets</li><li>The ability to build a solid understanding of your client's needs and wider industry trends</li><li>An entrepreneurial mindset, organised and driven approach with excellent attention to detail</li><li>Strong team-working skills - you'll enjoy sharing information and building robust relationships</li><li>The initiative it takes to make sound decisions and recommend innovative solutions</li><li>Experienced recruiters will be considered</li></ul><p> </p><p><strong>What is it in for you: </strong></p><ul><li>Competitive salaries &amp; quarterly bonus</li><li>Clear career progression plan based on merits</li><li>Collaborative working environment that is sociable, celebratory and supportive</li><li>Best in class training &amp; development programmes</li><li>Experience a thriving culture focused on teamwork, passion, integrity, quality and innovation</li><li>Opportunity to assist high-profile candidates in seizing amazing career opportunities with leading businesses</li><li>Excellent training and accelerated career development with global career opportunities</li></ul><p> </p><p><strong>What sets this company apart:</strong></p><p>We put our people at the heart of everything we do. Building deep, productive relationships, we help high-profile candidates seize amazing career opportunities with the world's leading businesses. By doing so, we power people and organisations to fulfil their unique potential. We celebrate individual talent, entrepreneurial spirit, genuine teamwork and personal success of our own people every day.</p><p> </p><p><strong>What's next:</strong></p><p>If you are looking for a new challenge in your career, this is the role for you.</p><p>Apply now for this great opportunity.</p><p>Due to the high volume of applications, our team will only be in touch if your application is shortlisted.</p><p>Robert Walters Recruitment (Thailand) Limited<br />Recruitment License No.: น. 1188 / 2551</p>",
         "TH",
         "Performance Bonus + AL + Provident Fund",
         "0-0-None-None"
        ],
        [
         "45",
         "75501779",
         "Luxury Travel Ticketing Specialist | Office-based in Ortigas",
         "<strong>Job Summary:</strong> <br /> <br />We are looking for a Luxury Travel Ticketing Specialist, who is passionate about traveling. You will manage travel requirements made for business or holidays, and you will provide tourism-related services and package tours on behalf of our clients. The goal is to keep our clients satisfied and loyal for future services. <br /> <br /><strong>Job Description:</strong> <br /> <br /><ul><li>Plan and compute costs of transportation, accommodation, insurance, and other travel services</li><li>Re-issue and re-calculate tickets and fares</li><li>Find and compare the cheapest fares, provide options and make quotations and price reports</li><li>Cooperate with the internal team to determine the client's needs and advise of appropriate destinations, modes of transportation, travel dates, costs, and accommodation</li><li>Provide relevant information, brochures, and publications (guides, local customs, maps, regulations, events, etc) to travelers</li><li>Book flights/transportation, make hotel reservations, and collect payment/fees</li><li>Use promotional techniques and prepare promotional materials to sell itinerary tour packages</li><li>Deal with occurring travel problems, complaints, or refunds</li><li>Enter data into our software and maintain client files</li><li>Network with tour operators</li><li>Maintain statistical and financial records</li><li>Meet profit and sales targets</li></ul> <br /><strong>Requirements/Skills needed:</strong><br /> <br /><ul><li>Minimum of 5 years relevant work experience in working as a Travel Consultant, Luxury Travel Specialist, or equivalent</li><li>Experience in GDS is a MUST</li><li>Bachelor's /College Degree specializing in Tourism/ Hospitality/ Hotel &amp; Restaurant Management/ Business Administration/Customer Service or equivalent</li><li>Excellent knowledge of computer reservations systems, GDS and ticketing systems (Saber/ Galileo/ Amadeus), and e-travelling</li><li>Excellent English command and communication skills, verbal and written</li><li>Strong sales and customer service skills</li><li>Ability to interact, communicate, and negotiate effectively</li><li>Sound knowledge of domestic and international travel trends</li><li>Knowledge in using Saber is an advantage</li><li>Personal travel experience will be considered an advantage</li></ul><strong> </strong><br /><strong>Additional Job Details:</strong><strong><br /></strong><br /> <br />Set-up and Location: Office-based in Ortigas Pasig City<br />Work Schedule: Shifting Schedule<br />Employment Type: Full-time<br /> <br /><em>All interviews and other hiring requirements are done virtually or through video calls or emails.</em><br /><br /><p><br /> </p>",
         "PH",
         null,
         "0-0-None-None"
        ],
        [
         "46",
         "73559740",
         "Assistant Vice President/ Vice President- (General Insurance)",
         "<p>Responsibilities:</p><ul><li>Retain and expand business by identifying and capitalizing on up-selling and cross-selling opportunities.</li><li>Explore new market and business prospects, actively participate in business planning and development activities.</li><li>Provide clients with professional advice and effective risk management solutions.</li><li>Foster and maintain strong relationships with insurers to ensure favorable offers and terms.</li><li>Ensure timely delivery of confirmations, closings, invoices, and policies to both insurers and clients.</li><li>Maintain high-quality output and maximize operational efficiency within the department.</li><li>Coordinate with the Operations team to ensure prompt premium collection and efficient claims handling.</li><li>Implement timely and effective renewal procedures and documentation.</li><li>Monitor work progress and provide technical guidance and training to the team.</li></ul><p>Requirements:</p><ul><li>Hold a degree and possess professional qualifications such as ACII/ANZIIF/FLMI, or demonstrate significant progress in insurance-related certifications.</li><li>Have a minimum of 8 years of relevant experience in the insurance industry, preferably focused on general insurance products.</li><li>Successfully passed the Insurance Intermediaries Qualifying Examination (IIQE).</li><li>Proactive, detail-oriented, and capable of working independently.</li><li>Possess strong communication and interpersonal skills.</li><li>Proficient in MS Office applications and Chinese Word Processing.</li><li>Excellent command of written and spoken English and Chinese; fluency in Putonghua is advantageous.</li></ul>",
         "HK",
         null,
         "0-0-None-None"
        ],
        [
         "47",
         "63179494",
         "Director of  Admin & Facilities",
         "<div> </div><div> </div><div><strong>TOA Global Company<br /><br /></strong></div><div>At TOA Global, we know exactly how to provide a great work environment and how important our employees are in serving our clients. Be part of our global team and discover why our workplace is where you should be! 100% dedicated to servicing the financial services industry, TOA Global has been providing talented and skilled offshore staff to firms across Australia, New Zealand, and North America since 2013.<br /><br /></div><div>TOA Global has become one of the largest employers of accountants and bookkeepers in the Philippines and is a proud equal opportunity employer, with a strong mission to make an impact in the community through our volunteerism and commitment to corporate social responsibility (CSR).<br /><br /></div><div>We provide great salaries, work-life balance, unlimited training, internationally accredited development programs, awesome staff perks and benefits, and a values-centric environment where you will thrive.<br /><br /></div><div><strong>Why Join TOA Global?</strong></div><div><ul><li>Great salary package</li><li>HMO on Day 1 </li><li>Annual Performance Review</li><li>Tenure Recognition Program</li><li>Free and unlimited trainings</li><li>20 Service Incentive Leaves</li><li>Birthday Leave for regular employees</li><li>Work life balance</li><li>A culture that fosters the 3Cs: collaboration, creativity, and confidence, to achieve more – together!</li><li>Career development and overall workplace happiness</li></ul><strong><strong>Primary Objective of the role:<br /></strong></strong><ul><li>Full responsibility for Philippines operational metrics, regional reporting.</li><li>Dual responsibility for Philippines functional budget and profit &amp; loss.</li><li>Lead and uphold the values, behavior and culture standards of TOA Global.</li><li>Direct safe, consistent, compliant, uninterrupted and profitable operational service delivery</li><li>NPS &amp; eNPS success regionally.</li><li>Build and manage strategic partnerships with third party providers</li><li>Manage compliance initiatives with regulators for in-office operations</li></ul><strong>Key qualifications/Experience<br /></strong><ul><li>8-10 years experience of Combination of People Leadership (direct)  / “Leader of leaders”.</li><li>5-8 years experience in Business operations managing KPIs.</li><li>3-5 years experience in Large corporate real estate operations (1,500 staff and up, multiple locations).</li><li>3-5 years experience in Budget / P&amp;L management.</li><li>5 years experience in Workforce Management (Capacity Planning, Forecasting, Scheduling office / desk utilization).</li><li>3-5 years experience in Leading Continuous Improvement Initiatives.</li><li>3 years experience in Implementing Tech enabled services (ex. Service Desk, Report Automation).</li></ul><strong>Attributes / Competencies<br /></strong></div><ul><li>Articulate and able to express ideas to a wide range of audiences from staff to C-level executives.</li><li>Can lead workshops and planning sessions with Operations leadership on a regular basis.</li><li>Able to represent the TOA brand to employees and clients alike.</li><li>Able to interpret business reporting tools such as but not limited to: Budget, Inventory management, Seat utilization, Net Promoter Score and Satisfaction Surveys.</li><li>Can derive strategic actions from interpretation of such reports.</li><li>Self-Starter and can work with minimal supervision.</li><li>Seeks continuous improvement and can derive sustainable actions from correcting failure.</li><li>Able to manage self remotely and be a great example to all of TOA.</li><li>Can keep their team engaged even in multiple locations.</li><li>Acts as a coach to leaders of leaders</li><li>Sets high standards for all members of the team.   </li></ul><br /><br /><br /><strong><br /><br /></strong>",
         "PH",
         "-",
         "0-0-None-None"
        ],
        [
         "49",
         "56512498",
         "Digital Graphic Designer (Expressions of Interest)",
         "<ul>\n<li><strong>Permanent, full-time position with free onsite parking</strong></li>\n<li><strong>A fantastic opportunity to design and develop videos and content that inspires and informs</strong></li>\n<li><strong>Be an integral part of Excelsia College's life-transforming global Christian learning community</strong></li>\n</ul>\n<p><strong>About Us</strong></p>\n<p>Excelsia College was founded in 1983 as Australia's first Christian arts college and, together with Indiana Wesleyan University, we are part of a global Christian learning community with big plans to take Christian higher education to the next level in Australia and the Asia-Pacific region for undergraduate and postgraduate students. Excelsia College has attained Self-accrediting Authority and is on a trajectory to achieve Australian University College status.</p>\n<p><strong>Excelsia Benefits</strong></p>\n<ul>\n<li>Maximise your \"take home\" income through our Salary Packaging scheme.&nbsp;</li>\n<li>Enjoy flexible and family friendly&nbsp;policies, providing generous leave and working conditions.&nbsp;</li>\n<li>Culturally rich&nbsp;environment, with opportunities to celebrate diversity and engage in spiritual devotions.&nbsp;</li>\n<li>Upskill with our substantial&nbsp;tuition discount to eligible staff and their&nbsp;immediate&nbsp;families.</li>\n<li>Our employees have access to Wagestream, a financial wellbeing app that offers instant access to<br />earned wages, the ability to save before you're paid, financial education and much more.</li>\n</ul>\n<p>Learn more about why Excelsia is Great Place to Work ® Certified and why our staff love working at Excelsia&nbsp;here: https://greatplacetowork.com.au/gptwcertified/excelsia-college/ &nbsp;&nbsp;&nbsp;&nbsp; &nbsp;</p>\n<p><strong>About the Role</strong></p>\n<p>Primary responsibilities include:</p>\n<ul>\n<li>Designing strategic content for various mediums and digital platforms, in particular Excelsia's WordPress webpage.</li>\n<li>Collaborating with the Design and Marketing Teams to translate design briefs into videos, web content and digital assets.</li>\n<li>Videography responsibilities of shooting, editing, and producing videos based on marketing briefs that inspire and inform.</li>\n<li>Publishing content across the Excelsia website and associated digital platforms, maintaining alignment with brand guidelines.</li>\n<li>Support process of continuous website optimisatiation based on consumer feedback, competitor benchmarking and digital trends.</li>\n</ul>\n<p><strong>Selection Criteria</strong></p>\n<p>To be successful in this role, applicants must address the selection criteria below and attach their response as a separate document in the application process.</p>\n<p>Qualifications and Professional Standing:</p>\n<ul>\n<li>Relevant bachelor or post-secondary qualification.</li>\n<li>Experience working in a&nbsp;digital marketing role, in-house or agency (2+ years).</li>\n<li>Experience in managing and developing reputable internet presence through CMS (2 years).</li>\n<li>Experience in videography (2 years).</li>\n</ul>\n<p>Essential:</p>\n<ul>\n<li>Experience managing internet presence with consumer facing services, content and asset offerings.</li>\n<li>Advanced WordPress, sound Adobe Creative Suite, and strong MS Office Suite (including Excel, PowerPoint and Word) skills.</li>\n<li>An understanding of current and emerging trends in digital marketing.</li>\n<li>Proven interpersonal and communication skills, both written and verbal, and the ability to work with a multi-disciplinary team.</li>\n<li>Proven time management skills with the ability to establish priorities and meet competing deadlines.</li>\n<li>Previous experience working in Higher Education (desirable).</li>\n</ul>\n<p>This full-time position is based in Macquarie Park.</p>\n<p><strong>How to Apply</strong></p>\n<p>If you meet the above criteria, you have a great opportunity to join our Christian community. Please&nbsp;send all your queries and/or provide&nbsp;your&nbsp;application&nbsp;with resume, covering letter and document addressing the position criteria via work@excelsia.edu.au.</p>\n<p><em>Excelsia College is a smoke free campus.</em>&nbsp;</p>",
         "AUS",
         null,
         "0-0-None-None"
        ],
        [
         "50",
         "51723854",
         "Payroll Assistant",
         "<p>·&nbsp;&nbsp; &nbsp;Utilise your high-volume payroll experience<br />·&nbsp;&nbsp; &nbsp;North Shore location<br />·&nbsp;&nbsp; &nbsp;Leading organisation in healthcare</p>  <p>We are seeking an experienced Payroll professional to hit the ground running in this busy and varied temporary assignment!&nbsp;</p>  <p>You will work alongside the Accounts team to process payroll at high-volume. You will be preparing all leave requests, and assisting in accounts payable payments, as well as administer any changes in the internal payroll system. You will handle all payroll related queries in a timely and efficient manner, having a strong understanding of NZ legislation and employment law. Along with this, you’ll be able to work collaboratively within a team and will have an excellent attention to detail and accuracy in your data entry.&nbsp;</p>  <p>Ideally you will have:&nbsp;</p>  <p>- Previous experience processing high-volume payroll a must&nbsp;<br />- Strong knowledge of NZ employment law/legislation<br />- Process-based administration experience&nbsp;<br />- The ability to hit the ground running&nbsp;<br />- Be able to work well under pressure&nbsp;<br />- Excellent stakeholder management<br />- Strong organisational skills</p>  <p>If you are looking for an exciting and challenging role where you can support a leading healthcare organisation then we would love to hear from you!&nbsp;</p>  <p>To apply for this role please visit our website at www.h2r.co.nz and refer to reference number 27099&nbsp;or hit APPLY NOW. For further information please contact Clio Hartdegen at clio.hartdegen@h2r.co.nz. All applications will be acknowledged by email.</p>",
         "NZ",
         null,
         "0-0-None-None"
        ],
        [
         "52",
         "63824448",
         "Manager Marketing Affinity and Digital",
         "<div><p><strong>Job Description &amp; Main Responsibilties:</strong></p><ul><li>Deliver the Affinity partnership &amp; E-Commerce Business (Direct Digital) sales targets and initiate an appropriate action steps to deliver the targets</li><li>Ensure all of the E-Commerce Business processes is adherence, and aware of the legalizations &amp; regulations as B2B, B2B2C, D2C and other approved prospects</li></ul><p>· Identify strategic opportunities for Affinity &amp; E-Commerce Business through a strong understanding of the segment and customer's business needs, leveraging SII solutions across all product platforms and program such as B2B, B2B2C, D2C and other approved prospects.</p><p>· Managed the administration and analytics for developing The E-Commerce Business as the new alternative distribution channel. across all product platforms and program such as B2B, B2B2C, D2C and other approved prospects.</p><p>· Engage internal departments, product groups, marketing teams for business in strategy setting for development and identification of win-win solutions for SII and its strategic partners.</p><p>· Develop value propositions, simple but differentiated product solutions and marketing program to these partnerships such as competitive tracking, analysis, reporting on a regular basis.as B2B, B2B2C, D2C and other approved prospects.</p><p>· Drive effective &amp; direct communication both internal and external (clients &amp; prospects) as B2B, B2B2C, D2C and other approved prospects.</p><p>· Develop a website traffic plan (D2C travel web) and benchmarks to meet as B2B, B2B2C, D2C and other approved prospects.</p><p>· Documentation and schematics of E-Commerce Business model, as it will be key to the ongoing success of the E-Commerce Business.as B2B, B2B2C, D2C and other approved prospects.</p><p>· Prepare, oversee, and review the production process for sales and back end</p><p>· Create and implement plans for the Digital Business channel to increase revenue</p><p>· Prepare and engages in planning and tactical execution of all business development with assigned prospects, clients and partners.</p><p>· To support Head Affinity and Direct in any Affinity business development activity and E-Commerce Business activities needed to meet the KPI of Affinity Department</p><p><strong></strong></p><p><strong>Qualifications:</strong></p><p>· Bachelor's degree: preferably in Business/Marketing or Information System with 3 years experiences in the e-commerce/online insurance industry would be an advantage.</p><p>· A high level of organization, influence, and collaboration among diverse business groups with different priorities</p><p>· This position addresses tight deadlines and high integrity. A high level of internal and external service and contact is expected, including engagement with all level of employees, clients &amp; prospect</p><p>· Must be a self-starter &amp; an adaptable team player with good self-management skills and comfortable working with minimal supervision, strong service ethic &amp; have a can-do attitude</p></div>",
         "ID",
         "-",
         "0-0-None-None"
        ],
        [
         "53",
         "55204703",
         "Pathlab Medical Laboratory Technician Trainee     ",
         "<p><strong>Medical Laboratory Pre-Analytical Technician Experienced/Trainee </strong></p><p><strong>Specimen Services  </strong></p><p>Pathlab is expanding and we need you. To meet the demand of the COVID pandemic and our growing community, we are on the search for people to join our innovative, team-orientated, supportive, quality-focused business. </p><p>We are a great team to be part of and we work hard to support and encourage each other. As essential service providers, Pathlab staff are steadfast in their support and provision of diagnostic testing and results to our communities. </p><p><strong>About the role</strong>.</p><p>We have a position in our Specimen Services department working in our Pathlab laboratory on the Rotorua Hospital site. Your rostered hours will be between 8am and 6pm Monday to Friday, with participation in a weekend roster.</p><p>Previous medical laboratory experience is an advantage but is not a prerequisite. You may be a qualified ML-PAT with a qualification and experience in a Specimen Services team. If not full training will be provided - we will commit to a full training plan for you, after which you will eligible to sit an exam through the NZIMLS and register as a Medical Laboratory Pre-Analytical Technician with the NZ Medical Sciences Council.</p><p><strong>What will you bring to the team?</strong></p><p>You will be a team player with good communication skills, a positive attitude, and the ability to show initiative. Ideally, you already hold a qualification that allows you to register in NZ as a Medical Laboratory Pre-Analytical Technician. Minimum typing speed of 55 words per minute is required. This can be a fast-paced department, but if you are up for the challenge and ready to hit the ground running this is the position for you! </p><p><strong>Why Pathlab?</strong></p><p>In everything we do we are committed to be a company and brand that our employees are proud to be a part of. Our values set our commitment to service excellence, treating each other with respect and honesty, staying enthusiastic about continuous improvement and respecting our New Zealand heritage, acknowledging the Treaty of Waitiangi. </p><p>With a supportive and enjoyable work environment on offer, as well as the opportunity to join a world class organisation dedicated to health – what are you waiting for? </p>",
         "NZ",
         null,
         "0-0-None-None"
        ],
        [
         "54",
         "75625683",
         "SMSF Accountant",
         "<p>SMSF Accountant <br /> <br /> Location: Clark and Mandaluyong<br /> <br /> Schedule: Monday - Friday; 7:00am to 4:00pm <br /> <br /> Work Arrangement: Onsite <br /> <br /> Unlock your potential! At TOA Global, we are dedicated in supporting people add their potential and grow their careers in the global accounting industry. With our top-grade learning programs, multiply your competency to stay ahead in the ever-evolving accounting landscape. <br /> <br /> Subtract the uncertainties with our winning culture of collaboration and achieve perfect balance of work-life. <br /> <br /> About the role: <br /> <br /> You will be working closely with an Australian client who has been in the business of accounting and financial advisory for quite some time. Your technical SMSF accounting expertise will come in handy as you perform processing and analyzing simple and complex funds. This role works best for people who'd like to master their craft and be more involved in challenging fund arrangements. <br /><br /> <br /> Responsibilities: <br /><br /></p><ul><li>Computer data downloading of bank transactions</li><li>Computer data processing of manual records</li><li>Processing of all financial records to Trial Balance stage</li><li>Review of Financial Statements, TB Annual Return</li><li>Compiling required documents and records for the SMSF Audit</li><li>Maintaining of SMSF registers to ensure Trust Deed's, Binding Death Nominations etc are</li><li>kept up to date.</li><li>General administrative tasks <br /> <br /> Qualification:</li><li>Certified Public Accountant</li><li>Candidate experience: Senior 3+ years, or SMSF Accountant 1-3years</li><li>Updated with the latest rulings and compliance requirements of ATO in superannuation and taxation. </li><li>RG146 SMSF Certification is a huge advantage. </li><li>Ideally with experience using Class Super or alternate tools like BGL. </li><li>Strong verbal and written English communication skills are essential. <br /> <br /> <br /> <br /> Benefits: <br /> <br /> -The best Health and Insurance Plan (up to 50k maternity benefits; enroll your dependents, parents, or common-law partner) <br /> <br /> -Enjoy your Tenure Recognition Program with additional free HMO-dependent or Cash incentives. <br /> <br /> -An Annual Performance Review with a Salary Increase <br /> <br /> -Logging off on time for you to enjoy more personal time. <br /> <br /> -International career growth and connections <br /> <br /> -Access to certifications and courses from the Ab2 Institute of Accounting <br /> <br /> -Unlimited cash incentives for hired referrals. <br /> <br /> -Having weekends off and taking up to 21 paid leave days <br /> <br /> -A family-first culture and work-life fulfillment. <br /> <br /> -20+ options of free coffee and chocolate drinks <br /> <br /> -Billiards, table tennis, or foosball in our breakout room <br /> <br /> -Exclusive TOA merchandise and fun onsite activities <br /> <br /> -Healthy workplace near residences, malls, restaurants, and sports hubs <br /> <br /> We live by our values to cultivate and foster growth and innovation. <br /> <br /> BE AWESOME: Exceptional individuals create collective genius. We celebrate success, reward outstanding performance, and make work fun by fostering a supportive and inspiring environment. <br /> <br /> KEEP IT REAL: We value honesty, accountability, and open communication. We own our actions, prioritize compassion, empathy, and understanding, and foster meaningful conversations. <br /> <br /> BRING THE WOW: We strive for excellence in everything we do. Going the extra mile is our standard, as we are committed to delivering outstanding results. <br /> <br /> DREAM BIG, ACHIEVE MORE: We embrace a culture of continuous learning, exploration, and improvement. With ambitious goals, we constantly seek knowledge and self-improvement. <br /> <br /> Visit us at: https://careers.toaglobal.com/ <br /> <br /> Join TOA Global and experience the difference! <br /> <br /> We passionately embrace diversity and inclusion in all aspects of our organization. We believe by fostering an environment that values and celebrates individuals from diverse backgrounds, we unlock innovation, drive creativity, and amplify our ability to serve our customers and communities with excellence. <br /> </li></ul>",
         "PH",
         null,
         "0-0-None-None"
        ],
        [
         "55",
         "63635481",
         "Senior Executive, Student Life (School of Computing)",
         "<div><div><div>Job Purpose</div><div><p>You will be joining the Student Life Office to support the NUS School of Computing's (SoC) student community to build a vibrant campus life while encouraging wellness, well-being, and welfare to make each student's experience in university as productive and meaningful as possible.</p></div></div><div><div>Job Description</div><div><p>Student Support and Case Management</p><ul><li>Provide a friendly and safe environment for students to voice their concerns, involving close family members if necessary, and seek support at faculties with minimal stigma.</li><li>Provide first-line support and assessment of students and refer medium- to high-risk cases to the University Counselling Services (UCS).</li><li>Monitor &amp; reach out to existing cases of at-risk students and students who are referred by UCS.</li><li>Offer individual consultation and/or pastoral care to students and referring them to the correct offices in NUS (e.g. Office of Financial Aid (OFA), University Health Centre (UHC), UCS, Office of Housing Services(OHS), NUS Care Unit (NCU), etc. based on their needs and concerns).</li><li>Work with faculty staff to handle at risk students and contact students who have been missing classes.</li><li>Advise and advocate for students who need support for Leave of Absence, special considerations for exam or assignments.</li><li>Manage students on Stay Home Notice/Quarantine Order regarding their wellbeing and related academic request and queries.</li><li>Manage cases on violation of non-academic offence and provide care and support to students.</li><li>Manage cases on No-Contact Order (NCO).</li></ul><p></p><p>Peer Student Support at SoC</p><ul><li>Assist in the setting up of PitStop@SoC.</li><li>Assist in development of Peer Student Support Group (PSSG) at SoC Training and Outreach.</li><li>Organise mental health literacy programmes for SoC staff and students.</li><li>Organize mental wellness programmes for students customised to the faculty's needs and context to encourage support for self-care and stress management.</li></ul><p></p><p>Student and Alumni Engagement</p><ul><li>Engage the student community and student groups through active participation in faculty events.</li><li>Reach out to international students to provide assistance and support in settling into NUS/Singapore.</li><li>Organise activities to encourage integration between local and international students such as workshops on cross-cultural sensitivity/awareness.</li><li>Development and management of mentorship programmes for SoC (senior-junior and alumni-student).</li></ul></div></div><div><div>Job Requirement</div><div><ul><li>A recognized University degree in psychology, social work or equivalent.</li><li>At least 2 years of experience in providing guidance and general wellness support to youths and young adults, including appropriate management of students in crisis.</li><li>Excellent interpersonal, verbal and written communication skills.</li><li>Excellent listening skills.</li><li>Ability to prioritize.</li><li>Able to work in a team and adept at managing multiple priorities effectively.</li><li>Resourceful with good organisational, planning and project management skills.</li><li>Proficient in Microsoft Office applications.</li><li>Familiarity with student affairs in higher education.</li><li>High proficiency in Mandarin to be able to communicate with next-of-kin of international students fromChina.</li><li>Ability to create infographics.</li><li>Versatile with social media.</li></ul></div></div><div><div>Covid-19 Message</div><div><p>At NUS, the health and safety of our staff and students are one of our utmost priorities, and COVID-vaccination supports our commitment to ensure the safety of our community and to make NUS as safe and welcoming as possible. Many of our roles require a significant amount of physical interactions with students/staff/public members. Even for job roles that may be performed remotely, there will be instances where on-campus presences are required.</p><p>In accordance with Singapore's legal requirements, unvaccinated workers will not be able to work on the NUS premises with effect from 15 January 2022. As such, job applicants will need to be fully COVID-19 vaccinated to secure successful employment with NUS.</p></div></div><div><div>More Information</div><div><p>Location: Kent Ridge Campus</p><p>Organization: School of Computing</p><p>Department : Dean's Office (School of Computing)</p><p>Employee Referral Eligible:</p><p>Job requisition ID : 13105</p></div></div></div>",
         "SG",
         "-",
         "0-0-None-None"
        ],
        [
         "57",
         "74711523",
         "Controller",
         "<p>A controller for a leading manufacturing company in Rayong, Thailand.<br /><br /><strong>Your new company:</strong><br /> <br />Our client, a <strong>leading global manufacturing company</strong>, is a key player in the industry. With a commitment to excellence and innovation, they are seeking an experienced <strong>Controller</strong> to join their dynamic team in Rayong, Thailand.<br /> <br /><strong>Your new role:</strong><br /> <br />As the <strong>Controller</strong>, you will be responsible for overseeing financial operations, budgeting, and strategic planning. You will play a critical role in ensuring the company's financial health and growth.<br /> <br /><strong>What you have to do:</strong><br /> </p><ul><li><strong>Financial Management:</strong><ul><li>Monitor financial performance, analyze variances, and provide actionable insights.</li><li>Prepare financial statements, budgets, and forecasts.</li><li>Implement cost-saving measures and optimize financial processes.</li></ul></li><li><strong>Strategic Planning:</strong><ul><li>Collaborate with senior management to develop long-term financial strategies.</li><li>Evaluate investment opportunities and assess risks.</li><li>Drive financial decision-making aligned with business goals.</li></ul></li><li><strong>Reporting and Compliance:</strong><ul><li>Ensure accurate and timely financial reporting.</li><li>Maintain compliance with accounting standards and regulations.</li><li>Coordinate audits and liaise with external auditors.</li></ul></li><li><strong>Team Leadership:</strong><ul><li>Lead and mentor the finance team.</li><li>Foster a collaborative and results-driven work environment.</li></ul></li></ul><p><strong>What you have to accomplish:</strong></p><ul><li>Bachelor's degree in Accounting, Finance, or related field.</li><li>Minimum <strong>7 years</strong> of experience in financial management, including controller roles.</li><li>Strong knowledge of financial analysis, budgeting, and forecasting.</li><li>Proficiency in financial software and ERP systems.</li><li>Excellent communication and leadership skills.</li></ul><p><strong>What you have to do next:</strong><br /> <br />If you are interested in the position, click \"apply\" or drop your updated CV at [Kanokporn.prakobsang@hays.co.th]. Shortlisted candidates will be contacted.<br /> <br /> <br /> <br />Very excited to share more with you!<br /> </p>",
         "TH",
         null,
         "0-0-None-None"
        ],
        [
         "59",
         "63249150",
         "Senior Officer/Manager, Mortgage Specialist, Pudu Branch",
         "<div><div><div><strong>About UOB</strong></div><div><p>United Overseas Bank Limited (UOB) is a leading bank in Asia with a global network of more than 500 branches and offices in 19 countries and territories in Asia Pacific, Europe and North America. In Asia, we operate through our head office in Singapore and banking subsidiaries in China, Indonesia, Malaysia and Thailand, as well as branches and offices.</p><p>Our history spans more than 80 years. Over this time, we have been guided by our values — Honorable, Enterprising, United and Committed. This means we always strive to do what is right, build for the future, work as one team and pursue long-term success. It is how we work, consistently, be it towards the company, our colleagues or our customers.</p></div></div><div><div><strong>About the Department</strong></div><div><p>The <strong>Retail </strong>function provides Personal and Business Banking customers with financial solutions tailored to their needs. We help them manage their money wisely and meet their financial goals through an extensive range of products and services. These include deposit, insurance, secured and unsecured loans, investment and wealth advisory services.</p><p></p><p><strong>Personal Financial Services</strong></p><p>We design and provide products and services that empower our customers to enjoy greater banking convenience while they extract more value from their money. In particular, we are focused on promoting and developing healthy saving and investment practices across generations.</p></div></div><div><div><strong>Job Responsibilities</strong></div><div><ul><li>In charge of the strategic acquisition of new customers for mortgage / housing loan products through the available marketing channels. Role includes advising, preparing, and delivering suitable mortgage packages for the customer</li><li>Grow the bank's current customer portfolio in providing product solutions in accordance with the Bank's prescribed standards and regulatory requirements</li><li>Contribute to the profitability and growth of the branch by developing and maintaining customer relationships through utilising the full spectrum of banking services</li></ul></div></div><div><div><strong>Job Requirements</strong></div><div><ul><li>Minimum 2 years of working experience in business-to-consumer sales with proven track record</li><li>Sales experience in Banking Retail Products preferably in mortgage sales will be an added advantage</li><li>Demonstrate effective written and verbal communication skills</li><li>Possess own transport and willing to travel</li><li>Result driven and comfortable dealing / interacting with all levels of people</li><li>Committed, confident, determined, self-motivated and a team player</li></ul></div></div><div><div><strong>Be a part of UOB Family</strong></div><div><p>UOB is an equal opportunity employer. UOB does not discriminate on the basis of a candidate's age, race, gender, color, religion, sexual orientation, physical or mental disability, or other non-merit factors. All employment decisions at UOB are based on business needs, job requirements and qualifications. If you require any assistance or accommodations to be made for the recruitment process, please inform us when you submit your online application.<br /><br />Apply now and make a difference.</p></div></div></div>",
         "MY",
         "-",
         "0-0-None-None"
        ],
        [
         "63",
         "75595923",
         "Financial Planning & Analysis Manager",
         "<p><br /><strong>Your new company</strong><br /> <br />A world prestigious global brand name has been expanding steadily and has seen record growth in the past few years. As part of this expansion, they are looking for a highly dynamic FP&amp;A Specialist to join them taking on a role as a dynamic business partner to provide insightful analysis.<br /> <br /><br /><strong>Your new role</strong> <br /> <br />Embark on an exhilarating career as an FP&amp;A Specialist guiding the financial triumph of both the local business and supporting the region. As a dynamic collaborator, you'll illuminate insights and support across all realms. From crafting comprehensive reports and local luminaries to steering forecasting initiatives with annual budget magic and 3-year plan wizardry. You will navigate the seas of profitability, honing in on inventory treasures through meticulous analyses of sales, margin, and stock dynamics. Uncover potential risk realms, sounding the alert and proposing corrective manoeuvres. In terms of collaboration, harmonise with the accounting squad for precision in financial symphonies. Choreograph monthly cash flow forecasts, orchestrating end-of-year and next-year projections. Take centre stage in the financial ratios' arena, showcasing your prowess in free cash flow, working capital, and the return on capital.<br /><br /> <br /><strong>What you'll need to succeed</strong> <br /> <br />For you to be successful in this position, you will have:</p><ul><li>A Bachelor's Degree in finance or accounting; CPA qualification will be an added advantage</li><li>5-7 years of finance experience, with a minimum of 3 years in the capacity of FP&amp;A</li><li>Strong analytical and communication skills (English &amp; Thai)</li><li>Ability to interpret and simplify complex financial data into a clear concise story</li><li>Hands-on knowledge of Excel or other statistical financial software</li></ul><p><br /><br /> <br /><strong>What you'll get in return</strong> <br /> <br />In return for your dedication and hard work, you will be rewarded with:</p><ul><li>A highly lucrative salary and performance-based bonus structure</li><li>Opportunity to work with a global leading brand name</li><li>Supportive and collaborative work environment, with opportunities for learning and development</li><li>Opportunity to work in a global company, with exposure to different markets and cultures</li></ul><p><br /><br /> <br /><strong>What you need to do now</strong> <br /> <br />If you're interested in this role, click 'apply now' to forward an up-to-date copy of your CV, or call us now.<br /> <br />If this job isn't quite right for you but you are looking for a new Accounting &amp; Finance position, please contact Jet Wong at +66(0)2460 6193 or email Jet.Wong@hays.co.th for a confidential discussion on your career.<br /> </p>",
         "TH",
         null,
         "0-0-None-None"
        ],
        [
         "68",
         "64771476",
         "Research Assistant (CML)",
         "<div><div><div><strong>Job Description</strong></div><div><p></p><p>The Centre for Maritime Law (CML) at the Faculty of Law, National University of Singapore, was launched on 3 September 2015 and focuses broadly on international trade, transport and shipping law-related issues. It undertakes research and hosts events of scholarly value to academics, professionals, and government institutions. Its objective is to enhance the development of commercial maritime law in Singapore, the region, and further afield. CML's continuing achievements include a highly-regarded Working Paper Series (WPS), available at https://law.nus.edu.sg/cml/publications/ [link removed], and the CML CMI Database, Judicial Decisions on International Conventions, available at https://cmlcmidatabase.org/. [link removed]</p><p></p><p>The Director of CML is Professor Stephen Girvin, MPA Professor of Maritime Law, and the Deputy Director is Associate Professor Paul Myburgh.</p><p></p><p>CML is inviting applications from suitable candidate(s), who are at the beginning of their professional careers, to conduct research and participate in CML's work. Depending on qualifications, background and expertise, the successful applicant(s) will be appointed as a Research Assistant in CML.</p><p>The successful applicant will join CML's existing full-time and Adjunct research staff (see https://law.nus.edu.sg/cml/personnel/ [link removed]).</p><p></p><p><strong>Benefits</strong></p><p></p><p>The position(s) will carry the following benefits:</p><p>1. Employment on a full-time contract at NUS Law for one year and, subject to satisfactory performance, may be renewable for a second year.</p><p>2. A remuneration package, commensurate with qualifications and experience.</p><p>3. Allocation of designated workspace within CML.</p><p></p><p><strong>Duties</strong></p><p></p><p>The duties associated with the position(s) are as follows:</p><p></p><p>1. The successful applicant will be expected to be in residence throughout the term of his or her appointment, subject to the normal NUS terms as to annual leave.</p><p></p><p>2. Depending on experience, the successful applicant will be expected to develop his or her own research agenda, including undertaking research projects on maritime law, leading to publication in English-language refereed journals, during his or her term of appointment. The proposed research agenda MUST also include writing working papers for publication in the CML Working Paper Series (https://law.nus.edu.sg/cml/publications/ [link removed]).</p><p></p><p>3. The successful applicant will also be required to present his or her research and to participate in and contribute to CML seminars.</p><p></p><p>4. The successful applicant is expected to assist in CML's research projects and initiatives, including the CML CMI Database, Judicial Decisions on International Conventions (https://www.cmlcmidatabase.org/).</p><p></p><p>5. The successful applicant may be asked to act as research assistant to the Director or Deputy Director of CML, as assigned by the Director of CML.</p></div></div><div><div><strong>Qualifications</strong></div><div><p></p><p></p><p><strong>Requirements</strong></p><p></p><p>The selection committee will consider the following criteria in making an appointment for the position of Research Assistant in CML:</p><p>1. The successful applicant will be of exceptional calibre.</p><p></p><p>2. For appointment as a Research Assistant, the successful applicant must have an Honours degree (or equivalent) in law, preferably with a postgraduate degree in maritime law (or an interest in pursuing such a degree), or demonstrate a strong interest in maritime law.</p><p></p><p>3. Applications are invited from those with interests in any branch of commercial maritime or shipping law or admiralty law or marine insurance law, including the international sale of goods carried by sea, maritime conflict of laws, maritime dispute resolution (including maritime arbitration, especially in the Asian context), and offshore oil and gas law. A demonstrated interest in contemporary research on maritime law, such as the impact of COVID-19 on the maritime sector, ship finance in the 21st century, and decarbonisation and the shipping industry, may be an advantage.</p><p>4. Applications are not sought from those with primary interests in the international law of the sea, ocean law and policy, or international environmental law.</p><p></p><p><strong>Application procedure</strong></p><p><br />Interested applicants are invited to apply and submit their applications directly at our NUS Career Portal. These must comprise:</p><p><br />1. Covering letter</p><p>This should explain the reason for your interest in the position and address your ability to perform the duties listed above.</p><p><br />2. Application Form</p><p>The application form should be completed and submitted together with the other required documents. Applicants may download the:</p><p>- Application form HERE [link removed]</p><p><br />3. Curriculum Vitae</p><p>A detailed curriculum vita should be submitted containing complete and detailed information on academic institutions, honours, awards, all publications to date, and all professional experience (current and previous, including dates of employment and job descriptions).</p><p><br />4. Letters of Recommendation</p><p>The application must be supported by two references from academic referees. Applicants must arrange for their referees to send their references to the address below by the closing date.</p><p><br />5. Submission of Application Materials</p><p>Interested applicants are invited to apply and submit their applications directly at our NUS Career Portal.</p><p><br />6. Closing Date</p><p>The closing date for the receipt of applications and references is Wednesday, 24 November 2021. Late applications cannot be considered.</p><p><br />7. Shortlisting and Interview</p><p>Shortlisted applicants should expect to be interviewed, via Zoom, during late November to early December 2021. Only shortlisted applicants will be contacted concerning the status of their application.</p><p></p></div></div><div><div><strong>More Information</strong></div><div><p>Location: Bukit Timah Campus</p><p>Organization: Law</p><p>Department : Dean's Office (Law)</p><p>Employee Referral Eligible: No</p><p>Job requisition ID : 8810</p></div></div></div>",
         "SG",
         "-",
         "0-0-None-None"
        ],
        [
         "71",
         "56563183",
         "UX/UI Designer",
         "<strong>Your Company<br /></strong><br /> This product company are looking for a UX/UI Designer to work amongst a growing team. Flexible working is provided with a city fringe office in New Market.<br /><br /> <strong>Your role<br /> </strong><br /> This role will see you help to develop the overall information architecture and UI design for a core suite of apps. You&rsquo;ll Learn, design, and bring to life data and variables.<br /> &nbsp;&nbsp;<br /> <strong>Key Skills</strong><br /> <ul> <li>Relevant digital design qualification</li> <li>Minimum 3 years&rsquo; experience in UI &amp; UX</li> <li>Experience in creating wire frames</li> <li>Knowledge of CSS, HTML would be favourable, although not essential</li> <li>Extensive experience with the Adobe design suite</li> <li>Experience with prototyping tools, UXPin or similar</li> <li>Strong portfolio with demonstrated examples of designing user centric experiences and applications</li> <li>Confident and engaging manner</li> <li>Exceptional problem solving ability</li> <li>Excellent communication and interpersonal skills</li> </ul> <strong>What&rsquo;s in it for you?<br /></strong><br /> This is an opportunity to work with a talented team and well known clients. You&rsquo;ll be rewarded with a competitive salary and rewards package. Flexible working and car park provided.<br /><br /> If this sounds like you HIT APPLY NOW!",
         "NZ",
         null,
         "0-0-None-None"
        ],
        [
         "72",
         "54587037",
         "Business Advisory Manager",
         "<p><strong>The Employer</strong></p><p>Our client is a quality boutique accountancy practice located in the inner Bayside / Southeastern suburbs of Melbourne.</p><p>Much of their client base has seen a strong performance over the last few years, and the firm is very much focusing on the growth of the organisation.</p><p><strong>The Opportunity</strong></p><p>This position is for a talented Manager to join their experienced Business Services team, working closely with a high performing and extremely strong Business Developer.</p><p>Working within this high quality firm, the Manager holds the responsibility of overseeing the tax compliance and advisory matters for a portfolio of High Net Worth Individuals, private businesses (including privately owned family groups) and trusts across multiple industries.</p><p><strong>Responsibilities</strong></p><ul><li>Preparation of financial statements, income tax returns and business activity statements for High New Worth Individuals, Partnerships, Companies and Trusts</li><li>Processing bill payments, operating bank accounts, responding to client requests, preparing month and quarterly reports and preparation for meetings.</li><li>Dealing with highly sensitive information and material on a daily basis.</li><li>Managing junior staff members and delegating work as required.</li></ul><p> <strong>Requirements</strong></p><ul><li>CA/CPA qualified.</li><li>Experience as an Assistant Manager or Manager is essential.</li><li>Minimum of 5 years’ experience in a boutique, mid-tier or Big 4 Private Clients group.</li><li>Bachelor of Accounting, Commerce, Finance or Business, ideally with a Major in Accounting</li><li>Eligible to work in Australia.</li></ul><p><strong>Maven Partners</strong></p><p>Maven Partners is a specialist financial advisory, accounting and taxation recruitment services business. The partners have a wealth of experience in executive search and interim management, servicing clients in the UK, Europe, Middle East and Asia Pacific markets from our offices in London, Jersey, Dubai, Melbourne and Sydney.</p><p>At Maven Partners, we are holders and seekers of knowledge. In our case this refers to knowledge gained through experience, dedication, and perseverance. Knowledge is Maven's central value.</p><p>To discuss this opportunity further please arrange a call with Christian Outhred by emailing Natasha Gildea at natashagildea@mavenpartners.net or apply directly through the Seek application tool.</p><p> </p><p> </p>",
         "AUS",
         null,
         "0-0-None-None"
        ],
        [
         "74",
         "75833925",
         "Cost Controller - Cilegon",
         "<ul><li>Establish and maintain CAPEX and OPEX budgets, and overall cost control</li><li>Coordinate all financial aspects of the project, include estimate at completion and related cost-to-complete, forecasted revenues and cash flow and risk and opportunities assessments, as well as ensuring alignment with other functions including project controls and planning/scheduling.</li></ul><p><strong>Client Details</strong></p><p>A long term Michael Page client, they are a prominent player in the industry which has stood strong since their establishment. To boost their growth, they are looking to bring on board experienced finance professionals with experience in cost control, project control or FP&amp;A. </p><p><strong>Description</strong></p><ul><li>Establish and maintain CAPEX and OPEX budgets, and overall cost control</li><li>Ensure all products and services covered by contract scopes are reflected in project budget <br /></li><li>On projects, coordinate with project managers, contractors, and other stakeholders to establish project objectives, deliverable, and timelines.</li><li>Coordinate all financial aspects of the project, include estimate at completion and related cost-to-complete, forecast revenues and cash flow, as well as ensuring alignment with other functions including planning/scheduling.</li><li>Provide Sales Business Analysis, Price and Cost of Products, BOM re-analysis with current actual and standard costing.<br /></li><li>Location is based in Cilegon and such, accommodation is provided to professionals outside of Cilegon</li></ul><p><strong>Profile</strong></p><ul><li>Minimum Bachelor Degree. Overseas graduate is welcomed and a plus.</li><li>Minimum 5 years of experience, preferably from manufacturing sector</li><li>Open for supervisor and assistant manager levels too</li><li>Experienced in FP&amp;A working and reporting</li><li>Certified Tax Brevet is a plus</li><li>CPA Certified is a plus</li><li>Good communication skill </li><li>Fluency in Bahasa and English</li></ul><p><strong>Job Offer</strong></p><ul><li>Good packages with side allowance</li><li>Handle national scope</li><li>Accommodation is provided on request</li></ul><p>To apply online please click the 'Apply' button below. For a confidential discussion about this role please contact Stanford Gunawan on +62 21 2958 8868.</p>",
         "ID",
         "car, bonus, healthcare, accomocation",
         "0-0-None-None"
        ],
        [
         "75",
         "53652848",
         "Loan Servicing Specialist",
         "<p><strong>About the Role</strong></p>\n<p>The Loan Servicing Specialist has responsibility for administering mortgages for reverse mortgage products on behalf of their &ldquo;dedicated lenders&rdquo;.&nbsp; This constitutes providing accurate, efficient and effective day to day delivery of services within agreed timeframes, whilst maintaining and fostering a positive relationship with the client.</p>\n<p><em>&nbsp;</em></p>\n<p><strong>About you</strong></p>\n<ul>\n    <li>You have previous mortgage administration experience in banking, finance and/or conveyancing</li>\n</ul>\n<ul>\n    <li>You have had exposure to legal work in conveyancing and/or banking </li>\n</ul>\n<ul>\n    <li>You have a demonstrated understanding of mortgage accounting and capitalised interest</li>\n</ul>\n<ul>\n    <li>You are an excellent communicator</li>\n</ul>\n<ul>\n    <li>You have excellent data entry skills and highly competent in the use of technology and systems</li>\n</ul>\n<ul>\n    <li>You have the ability to prioritise and manage competing deadlines and make sound decisions in a fast paced environment</li>\n</ul>\n<ul>\n    <li>You have a sound knowledge of accounting practices.</li>\n</ul>\n<p>&nbsp;</p>\n<p>If this sounds like you apply now!</p>\n<p>&nbsp;</p>\n<p><strong>About us</strong> </p>\n<p>With offices across Australia &amp; New Zealand, First Mortgage Services Pty Limited and First American Title Insurance form part of the First American Financial Corporation.&nbsp; We offer property risk insurance and premier mortgage processing services to our clients. The First American Financial Corporation is a FORTUNE 500&reg; company that traces its history to 1889<em>.</em><em></em></p>\n<p>&nbsp;</p>\n<p><strong>Our Vision</strong></p>\n<p>To consistently provide the best customer experience through and engaged workforce committed to innovation, collaboration and enduring relationships.</p>\n<p><em>&nbsp;</em></p>\n<p><strong>What we Offer</strong><em></em></p>\n<ul>\n    <li>Full training and coaching to ensure you succeed in your role</li>\n</ul>\n<ul>\n    <li>Great team environment and culture where we celebrate milestones and achievements</li>\n</ul>\n<ul>\n    <li>An excellent Recognition and Reward program</li>\n</ul>\n<ul>\n    <li>A range of staff benefits including annual flu vaccinations and professional development opportunities including internal career progression and support for external development including paid study leave</li>\n</ul>\n<p><em>&nbsp;</em></p>\n<p>Applications close when a suitable candidate is identified so don&rsquo;t delay your application.</p>\n<p>&nbsp;</p>\n<p><strong>Please note:</strong> A criminal and credit background check, which includes bankruptcy and debt consolidation checks, is required for this role.</p>",
         "NZ",
         null,
         "0-0-None-None"
        ],
        [
         "76",
         "73483203",
         "International Admissions Advisor",
         "<div> <div>  <div>   <p>The International Admissions Advisor is responsible for efficient delivery of student admissions processes by overseeing a broad range of administrative duties related to the admission of international students into Ikon and ALG. </p>   <div>    <div>     <div>      <div>       <p>This role will actively collaborate with the International Student Recruitment team (Sales) team and ensure the delivery exceptional service to our future students and education agent partners.</p>       <p>The role is <strong>100% work from home and day shift</strong>.</p>       <div>        <div>         <div>          <p><strong>Key Responsibilities:</strong></p>          <ul>           <li><p>Assess student applications for VET and HE courses, including ensuring completeness, requisite evidentiary documentation has been provided and is valid/genuine, and assessment of GTE, to determine satisfaction of entry requirements specific to the application </p></li>           <li><p>Deliver admissions processing in accordance with relevant internal policies (Ikon and ALG), business rule and entry criteria in a fair, consistent, and timely manner </p></li>           <li><p>Issue conditional and unconditional Letters of Offer from the student management system and eCoEs from PRISMS, ensuring agreed turnaround timelines are met. </p></li>           <li><p>Arrange interviews for Higher Education course applicants, either in person or via Zoom, as required to assess their eligibility for admission </p></li>           <li><p>Follow up unconverted Letters of Offer with Agents and students. </p></li>           <li><p>Communicate with prospective and confirmed new students as well as their </p><p>respective agents ahead of their course commencement. </p></li>           <li><p>Maintain accurate records in the student management systems and PRISMS, ensuring recording/logging of student issues and diary notes and any other </p><p>supporting documentation. </p></li>           <li><p>Ensure agents and future students have a high-quality experience in dealing with EDU. Regularly seek feedback on customer satisfaction level. </p></li>           <li><p>Provide feedback for continuous improvement.</p></li>          </ul>          <p><strong>Qualifications:</strong></p>          <div>           <div>            <div>             <ul>              <li><p>At least 2 years of experience in a similar role within a CRICOS provider </p></li>              <li><p>Solid understanding and working knowledge of the relevant legislation and </p><p>regulation concerning international student recruitment including the ESOS </p><p>Act, RTO Standards and Higher Education Standards </p></li>              <li><p>Experience with PRISMS, Student Management System software (RTO </p><p>Manager and Wisenet preferred) and CRM software (Zendesk and HubSpot </p><p>preferred) </p></li>              <li><p>Ability to deliver exceptional customer service experience </p></li>              <li><p>Highly developed interpersonal skills </p></li>              <li><p>Excellent numeracy, oral and written communication skills </p></li>              <li><p>Ability to work both independently and collaboratively </p></li>              <li><p>Demonstrated commitment to compliance and quality assurance </p></li>              <li><p>Proactive work habits with a demonstrated eye for detail </p></li>              <li><p>Excellent IT literacy, particularly in Microsoft Office applications </p></li>              <li><p>Experience with student management software and customer service </p><p>software </p></li>              <li><p>Proven ability to manage projects and to establish and work within strict </p><p>timelines </p></li>              <li><p>Willingness to adapt to change and participate in continuous improvement </p><p>initiatives </p></li>             </ul>            </div>           </div>          </div>         </div>        </div>       </div>      </div>     </div>    </div>   </div>  </div> </div></div>",
         "PH",
         null,
         "0-0-None-None"
        ],
        [
         "77",
         "74294464",
         "Automation Maintenance Engineer - Siemens (Cable)",
         "<p>The maintenance electrical engineer is in charge of maintaining the performance of the machine, performing corrective maintenance, as well as troubleshooting from the electrical sector.</p><p><strong>Client Details</strong></p><p>The client is a leading cable company.</p><p><strong>Description</strong></p><ul><li><strong>Ensures peak performance:</strong> Maintains and optimizes factory machinery, plant, and equipment for efficiency, reliability, and smooth operation.</li><li><strong>Process improvement and quality control:</strong> Identifies and implements actions to enhance process performance, meet production volume and quality targets, and comply with safety and environmental regulations.</li><li><strong>Breakdown and corrective maintenance:</strong> Directs, monitors, and controls the repair and follow-up actions for damaged machinery and equipment, ensuring swift restoration of production effectiveness.</li><li><strong>Safety focus:</strong> Maintains a zero-accident environment by ensuring active safety measures, promoting safe practices through production supervisors and managers, and adhering to safety regulations.</li><li><strong>Preventive maintenance:</strong> Oversees the execution of preventive maintenance plans to optimize the overall condition of machinery and tools.</li><li><strong>Skill development:</strong> Cultivates the maintenance team's skills to effectively repair and maintain equipment.</li><li><strong>Commissioning and new equipment setup:</strong> Provides comprehensive support during commissioning activities and new machine startups.</li><li><strong>Spare parts management:</strong> Determines and ensures the optimal availability of critical spare parts for timely repairs and maintenance.</li><li><strong>24/7 on-call availability:</strong> Demonstrates readiness to respond to electrical emergencies throughout the plant, including working on holidays if necessary.</li><li><strong>Engine performance improvement:</strong> Analyzes and implements modifications to enhance engine performance.</li></ul><p><strong>Profile</strong></p><ul><li>Strong electrical engineering background with experience in computerized/automated controls and electrical schematics interpretation.</li><li>Proven ability to troubleshoot low-voltage and high-voltage systems, DC drives, AC drives, and Ethernet/IP and Profibus communication systems (design, configuration, and troubleshooting).</li><li>Understands Siemens PLC up to Siemens 7</li></ul><p><strong>Job Offer</strong></p><ul><li>Work in an international and diverse setting</li><li>Attractive remuneration package </li><li>Dynamic working culture</li></ul><p>To apply online please click the 'Apply' button below. For a confidential discussion about this role please contact Erni Susantoon +62 21 2958 8907.</p>",
         "ID",
         null,
         "0-0-None-None"
        ],
        [
         "79",
         "63374357",
         "Merchant Sales Specialist (JB)",
         "<div> </div><div> </div><p><strong>Get to know the role:</strong><br /></p><ul><li>To lead the city sales team to identify, build relationships/partnerships with F&amp;B merchants and meet agreed policies/procedures, SLA and targets<br /></li></ul><p><strong>The day-to-day activities:</strong><br /></p><ul><li>Develop strategy to enter new markets and maximize resources as well as business opportunities to achieve targets<br /></li><li>Build, manage and develop the Merchant Acquisition team by leading, coaching, supporting &amp; motivating through technical &amp; commercial knowledge, communication transparency, winning spirit, fighting resilience and performance acknowledgement<br /></li><li>Coach and provide necessary training and development for all subordinates to increase their capabilities, productivity, creativity and motivation that will support both current functional goals and long term business growth<br /></li><li>Plan and develop acquisition and expansion activities in line with company strategy and policy in order to expand the market coverage, build the company image and achieve the targets<br /></li><li>Keep abreast of the market and industry situation and competitor activity in order to revise and develop strategies to meet market changes and merchants' requirements<br /></li><li>Lead contract negotiations to establish a strong working partnership grounded on sustainable economics for both parties<br /></li><li>Responsible for the meeting the targets for new restaurants acquired<br /></li></ul><p><strong>The must haves:</strong><br /></p><ul><li>Bachelor's Degree or higher in any field (preferably in business, management or marketing field)<br /></li><li>Minimum 3 years of experience in sales/ leads generation/ business development role is preferred<br /></li><li>F&amp;B industry background is an advantage<br /></li><li>Excellent communication skills in both written and spoken English<br /></li><li>Microsoft Office skills are required (MS. Excel, MS. Word and MS. Powerpoint)<br /></li><li>A highly independent and individual with excellent team-working skills<br /></li><li>Ability to build good relationships with merchants and match merchant needs and organization resources to grow GrabFood business<br /></li><li>Ability to fuse business and strategy concepts to lead complex, multi-faceted deals<br /></li><li>Energetic, enthusiastic and calm even in a dynamic and fast paced environment<br /></li><li>Excellent time management and communication skills with excellent leadership skills<br /></li></ul>",
         "MY",
         "-",
         "0-0-None-None"
        ],
        [
         "81",
         "79024509",
         "Learning Associate (Fixed-Term) - Hybrid",
         "<p>About the Role</p><p>As a Learning Associate, you will provide administrative support for the smooth implementation of various training programs geared toward organizational effectiveness and business efficiencies of the Bank. You will also ensure compliance with appropriate regulatory requirements and bank policies. </p><p>How you'll contribute</p><ul><li>Manages the concerns of participants and/or training providers by elevating and coordinating with appropriate units to ensure immediate resolution </li><li>Assists the Academy Support Head in maintaining the training policies and procedures for efficient implementation of the training programs</li><li>Assists Program Managers in conducting training needed analysis to determine the gap between the current and desired competencies.</li><li>Prepares and monitors the required training contracts and other documentary requirements prior to actual training run</li><li>Prepares quarterly training calendar to ensure availability of training participants, speakers, and venues</li><li>Prepares the training materials and logistics as prescribed by the Program Manager before each program run</li><li>Processes term sheets and external program forms within existing guidelines prior to program run</li><li>Assists the Academy Support Head in reconciling Academy's monthly expenses against the approved budget to ensure expenditures are within authorized limits</li><li>Implements and administers eLearning courses, in coordination with the Program Manager</li><li>Processes requests for payment of training expenses within approved policies for timely and accurate settlement of fees to external service providers</li><li>Employment duration is 1 year.<br /></li></ul><p>What we're looking for</p><ul><li>Bachelor’s Degree in Psychology, Human Resources or related field</li><li>Preferably with 1-year relevant experience but fresh graduates are welcome to apply</li><li>Knowledge of the learning and development process; general understanding of the banking business</li><li>Strong customer orientation; analytical and negotiation skills</li><li>Able to communicate effectively with all levels of the organization and external parties; highly systematic, organized, and with keen attention to details</li></ul><p>About Security Bank</p><p>Security Bank is one of the Philippines’ best capitalized private domestic universal banks. Established in 1951 and publicly listed with the Philippine Stock Exchange (PSE:SECB) in 1995, our major businesses cover retail, corporate, commercial, and business (MSME) banking.</p><p>We’re recognized as an Employer of Choice in Philippine banking by various award-giving bodies for our values-based culture, industry-leading engagement and benefits, and commitment to work-life balance.</p><p>Most recently, we ranked as the #2 best employer in the Philippines and #54 globally on the prestigious Forbes’ World’s Best Employers 2023 list.</p><p>At Security Bank, our approach to Human Capital Management (HCM) is embodied by our Employee Value Proposition (EVP): “YOU matter.”</p><p></p><p>Start your BetterBanking career with us today</p>\n\n",
         "PH",
         null,
         "0-0-None-None"
        ],
        [
         "82",
         "78372580",
         "Customer Service Consultant - Digital",
         "<p>We're Australia's leading telecommunications and technology company. And with a global presence in more than 22 countries, we have a strong global footprint. Our purpose is to build a connected future so everyone can thrive. We're all about providing the best experience and delivering the best tech on the best network.<br /><br />This includes making Telstra the place you want to work.<br /> <br /><strong>Here's what you can expect from us:</strong></p><ul><li>Pay for performance. We recognise outstanding contributions through our competitive incentive programs.</li><li>Medical benefits that covers you and your loved ones. This includes Pandemic, mental health and optical coverage.</li><li>Unlimited learning. Level up your skills with access to 17,000 learning programs.</li><li>Global presence. With a global presence across 22 countries, there are many opportunities to work where we do business.</li></ul><p><br /><strong>Who we look for</strong><br />As a Digital - Customer Service Consultant, you are a key member of the digital messaging team. You will use your excellent knowledge of Telstra's products, services, and processes to create a great customer service and support experience via our messaging, SMS, email and voice channels. Additionally, you will provide a high-quality cost-effective service to customers when dealing with non-technical product and billing enquiries, recording orders and provisioning related to a range of products and services.<br /> <br /><strong>The role with us</strong></p><ul><li>You'll bring the purpose of your role to life by delivering against the following responsibilities via real-time chat, asynchronous messaging and phone calls:</li><li>Provide different types of customer support (simplex complaints and service), where applicable, across all customers, across all channels.</li><li>Accurately and efficiently process customer requests and inquiries (faults, simplex complaints and service) in alignment with guidance tools, scripts, service standards and targets.</li><li>Resolve customer issues by assisting customers to understand, use and troubleshoot issues relating to our products and services via messaging, SMS, email, and voice calls as needed/required.</li><li>Resolve routine to complex customer enquiries involving billing, account management, sales/modify/move orders, simple fault management and complaints follow up using prescribed job aids found in My Knowledge, Messaging Predetermined content, CRM data and internal process flows.</li><li>Use your knowledge of Telstra processes to effectively handover customer enquiries/issues to the appropriate area when necessary.</li><li>Assess needs and promote and sell Telstra products/services as a-part of recommending alternative products or services to resolve an issue or in alignment with agreed cross selling and upselling processes and targets.</li><li>Ideally you will have proven experience working in contact centre position with in a Customer Service-related environment which you'll meet the customer service and messaging standards and performance objectives by following documented processes captured in work instructions/forums to solve the issue.</li><li>Work effectively across diverse cultures by demonstrating awareness and adapting flexibly across interactions with our culturally diverse team members and customers.</li><li>Be able to work permanently onsite.</li><li>For College Completers (2 years completed): At least 2 years of BPO experience.</li><li>For High School and Senior High School Completers: At least 3 years of customer service experience in a BPO setting.</li></ul><p><br />If you have a real passion for delivering brilliant customer service, and would thrive as part of our fun, dedicated team - connect with us and apply!<br /><br />We're committed to building a diverse and inclusive workforce. To enable everyone to participate, we've developed an 'All Roles Flex' policy to consider flexible ways of working for every role. To learn more, visit tel.st/allrolesflex.</p>",
         "PH",
         null,
         "0-0-None-None"
        ],
        [
         "83",
         "62570883",
         "Senior Solution Engineer",
         "<div><p><strong>Job Description:</strong></p><ul><li><strong>Support business development and various business function in the successful roll-out of proposed engineering solutions</strong></li><li><strong>Involve in customer's engagements on pre-sales activities, including gathering of systems requirements from customers and scope up software design</strong></li><li><strong>Involve in the design and development of in-house software such as Fleet Management System, mobile APP, UI, and APIs</strong></li><li><strong>Develop test cases, conduct testing, validate, and tune the performance of the systems</strong></li><li><strong>Conduct and co-ordinate field evaluations and deployments</strong></li><li><strong>Document write-up, including design doc, interface control document, software manual, and test cases</strong></li><li><strong>Any other duties as and when assigned</strong></li></ul><p><strong>Job Requirements:</strong></p><ul><li><strong>Degree in Computer Engineering, Computer Science, Electrical &amp; Electronics Engineering, Mechanical Engineering (Robotics) or related disciplines</strong></li><li><strong>3 - 5 years of working experience in related field</strong></li><li><strong>Knowledge in Agile development, React, NodeJS, MongoDB, Javascript/Typescript/FeatherJS, and Git</strong></li><li><strong>Good to have experience working on the following libraries: OpenCV and OpenVINO</strong></li><li><strong>Knowledge in cross-platform compilation and optimization for x86, ARM, and other GPU-like accelerators</strong></li><li><strong>Experience with public cloud services such as Amazon Web Services, Google Cloud, Azure, etc will be an added advantage.</strong></li><li><strong>Familiar in ROS, Python and C++ programming languages would be advantageous.</strong></li><li><strong>Must be hands-on and enjoys programming.</strong></li><li><strong>Able to work independently and self-motivated.</strong></li><li><strong>Good communication and documentation skills.</strong></li><li><strong>Strong customer-service oriented and possess a Can-Do attitude.</strong></li></ul></div>",
         "SG",
         "  - ",
         "0-0-None-None"
        ],
        [
         "84",
         "73528895",
         "(Senior) Sales Associate/ Client Advisor 銷售員 - 超過60多間國際品牌",
         "<p>職責:</p><ul><li>負責銷售及店務工作</li><li>提供優質客戶服務</li><li>提供專業的時尚意見</li><li>處理日常店鋪運作</li><li>達致店舖及個人銷售目標</li></ul><p> </p><p>職位要求:</p><ul><li>對有時裝充滿熱誠者</li><li>良好顧客服務態度, 具團隊精神</li><li>積極主動，有責任感</li><li>具2年銷售經驗</li><li>有名牌銷售經驗者優先</li><li>可即時上班者優先考慮</li></ul><p> </p><p>待遇及福利:</p><ul><li>每月例假</li><li>有薪年假</li><li>17日公眾假期</li><li>員工購物優惠</li><li>專業在職培訓</li><li>年終花紅</li><li>醫療保障</li><li>各項店舖津貼</li></ul><p> </p><p>有意者可連同履歷表WhatsApp +852 5225 6217 聯絡 Ms Lai</p><p> </p><p><strong>Click \"<strong>Apply <strong><strong><strong>Now</strong></strong></strong></strong>\" to apply for this position or call Venus Lai</strong> at <strong>+852 3180 4964</strong> for a confidential discussion. All information collected will be kept in strict confidence and will be used for recruitment purpose only.</p>",
         "HK",
         "Basic Salary + Commission ",
         "0-0-None-None"
        ],
        [
         "86",
         "78776042",
         "Assistant Procurement Operations Manager",
         "<p><strong>Your new company</strong> <br /> <br />With a strong global presence, our client has a long-standing and impressive history within the Financial Services industry and is constantly striving to positively impact the communities they work by giving back to society.<br /><br /><br /><strong>Your new role</strong> <br /> <br />As a key member of the function, you will be responsible for supporting the continuous improvement and execution of streamlined business processes, control measures and tactical deliverables of a region-centric centre of excellence. Overseeing a team of operational buyers, you will leverage your strong centralised procurement expertise to ensure the regional stakeholders are educated and aware of the role of a COE that serves the purpose of adding value and increasing efficiencies across the group. You will also actively participate in process improvement and technology adoption initiatives to drive productivity across the board.<br /><br /> <br /><strong>What you'll need to succeed</strong></p><ul><li>6-8 years' experience in regional tactical Procurement / Sourcing roles</li><li>Familiar with eProcurement tools in ARIBA / COUPA</li><li>Excellent communication skills, and an independent driver mindset</li><li>Proactive and takes initiative to work with senior leadership</li></ul><p><br /><strong>Diversity</strong></p><p>At Hays, we value diversity and are passionate about placing people in a role where they can flourish and succeed. We actively encourage people from diverse backgrounds to apply.</p><p><strong><br /></strong><strong>What you'll get in return</strong> <br /><br />An excellent platform to add value to a function for the region, showcasing your leadership skills and commercial acumen to drive optimisation of the Procurement role. This opportunity offers a multicultural and dynamic environment with a competitive remuneration package.<br /><br /> <br /><strong>What you need to do now</strong> <br /> <br />If this is your next career move, click 'apply now' to submit your CV. *Please be advised only shortlisted candidates will be contacted.<br />If this job isn't quite right for you, forward this to someone who might fit the description, then contact us for a confidential discussion about your career!</p>",
         "MY",
         null,
         "0-0-None-None"
        ],
        [
         "93",
         "64211197",
         "Assistant Supervisor - Mechanical Ship Repairs (Tuas Yard)",
         "<div><p><strong>Responsibilities:</strong></p><ul><li>Responsible for day to day project supervision for conversion and repairs of commercial vessels.</li><li>To ensure safety, quality of work and meet delivery deadline</li><li>To ensure work assigned is carried out effectively and productively within budgeted man-hours allocated by Commercial Department, meet customer's specifications and requirements.</li><li>Accountable for the team of workers and sub-contractors under his responsibility and also the overall progress of the repair projects.</li><li>Ensure good co-ordination and communication between your work team, SRM, other departments and owners when work is carried out.</li></ul><p></p><p><strong>Requirements:</strong></p><ul><li>Preferably 3 - 5 years of working experiences in marine or related</li><li>Completed Shipyard Safety Supervisor Course (SSSC)<br />Min. ITC / NITEC/ Diploma in Engineering or equivalent.</li><li>Able to read System Schematics &amp; isometric drawings for fabrication and installation of Mechanical systems</li><li>Understanding of Mechanical and Class Standards for ship repairs</li></ul><p></p><p><strong>Other Information:</strong></p><ul><li>Location: Tuas Road (Island-wide transport provided)</li><li>5 days work week</li><li>Working Hours: 7.25am to 5.00pm</li></ul></div>",
         "SG",
         "-",
         "0-0-None-None"
        ]
       ],
       "shape": {
        "columns": 6,
        "rows": 939
       }
      },
      "text/html": [
       "<div>\n",
       "<style scoped>\n",
       "    .dataframe tbody tr th:only-of-type {\n",
       "        vertical-align: middle;\n",
       "    }\n",
       "\n",
       "    .dataframe tbody tr th {\n",
       "        vertical-align: top;\n",
       "    }\n",
       "\n",
       "    .dataframe thead th {\n",
       "        text-align: right;\n",
       "    }\n",
       "</style>\n",
       "<table border=\"1\" class=\"dataframe\">\n",
       "  <thead>\n",
       "    <tr style=\"text-align: right;\">\n",
       "      <th></th>\n",
       "      <th>job_id</th>\n",
       "      <th>job_title</th>\n",
       "      <th>job_ad_details</th>\n",
       "      <th>nation_short_desc</th>\n",
       "      <th>salary_additional_text</th>\n",
       "      <th>y_true</th>\n",
       "    </tr>\n",
       "  </thead>\n",
       "  <tbody>\n",
       "    <tr>\n",
       "      <th>2</th>\n",
       "      <td>55838599</td>\n",
       "      <td>Production Staff Required - Afternoon &amp; Night-...</td>\n",
       "      <td>&lt;p&gt;Original Foods Baking Co. is one of New Zea...</td>\n",
       "      <td>NZ</td>\n",
       "      <td>NaN</td>\n",
       "      <td>0-0-None-None</td>\n",
       "    </tr>\n",
       "    <tr>\n",
       "      <th>3</th>\n",
       "      <td>64369104</td>\n",
       "      <td>Payer Analyst</td>\n",
       "      <td>&lt;div&gt; &lt;/div&gt;&lt;div&gt; &lt;/div&gt;The Payer Analyst indi...</td>\n",
       "      <td>PH</td>\n",
       "      <td>-</td>\n",
       "      <td>0-0-None-None</td>\n",
       "    </tr>\n",
       "    <tr>\n",
       "      <th>4</th>\n",
       "      <td>54861511</td>\n",
       "      <td>Solicitor, Restructuring (ID: 2100013K)</td>\n",
       "      <td>&lt;p&gt;The DLA Piper team operates across more tha...</td>\n",
       "      <td>AUS</td>\n",
       "      <td>NaN</td>\n",
       "      <td>0-0-None-None</td>\n",
       "    </tr>\n",
       "    <tr>\n",
       "      <th>6</th>\n",
       "      <td>74982893</td>\n",
       "      <td>Key Account Manager</td>\n",
       "      <td>&lt;p&gt;This role will contribute to expand our cli...</td>\n",
       "      <td>ID</td>\n",
       "      <td>Car allowance, healthcare, annual bonus</td>\n",
       "      <td>0-0-None-None</td>\n",
       "    </tr>\n",
       "    <tr>\n",
       "      <th>13</th>\n",
       "      <td>63628834</td>\n",
       "      <td>People Data Analyst</td>\n",
       "      <td>&lt;div&gt; &lt;/div&gt;&lt;div&gt; &lt;/div&gt;&lt;strong&gt;About us&lt;/stro...</td>\n",
       "      <td>PH</td>\n",
       "      <td>-</td>\n",
       "      <td>0-0-None-None</td>\n",
       "    </tr>\n",
       "    <tr>\n",
       "      <th>...</th>\n",
       "      <td>...</td>\n",
       "      <td>...</td>\n",
       "      <td>...</td>\n",
       "      <td>...</td>\n",
       "      <td>...</td>\n",
       "      <td>...</td>\n",
       "    </tr>\n",
       "    <tr>\n",
       "      <th>2260</th>\n",
       "      <td>51241917</td>\n",
       "      <td>Senior Investment Accountant</td>\n",
       "      <td>&lt;p&gt;Allianz is the home for Accountants who dar...</td>\n",
       "      <td>AUS</td>\n",
       "      <td>Competitive salary plus benefits</td>\n",
       "      <td>0-0-None-None</td>\n",
       "    </tr>\n",
       "    <tr>\n",
       "      <th>2262</th>\n",
       "      <td>75640730</td>\n",
       "      <td>Senior Manager, Process Excellence and Transfo...</td>\n",
       "      <td>&lt;p&gt;Our client is a well-established consumer g...</td>\n",
       "      <td>HK</td>\n",
       "      <td>NaN</td>\n",
       "      <td>0-0-None-None</td>\n",
       "    </tr>\n",
       "    <tr>\n",
       "      <th>2263</th>\n",
       "      <td>77931852</td>\n",
       "      <td>Accounting Manager - Hotel Business (Nakhon Ra...</td>\n",
       "      <td>&lt;p&gt; &lt;/p&gt;&lt;p&gt;&lt;strong&gt;Position:&lt;/strong&gt; Accounti...</td>\n",
       "      <td>TH</td>\n",
       "      <td>NaN</td>\n",
       "      <td>0-0-None-None</td>\n",
       "    </tr>\n",
       "    <tr>\n",
       "      <th>2264</th>\n",
       "      <td>54359262</td>\n",
       "      <td>Technical Operator - Audio Visual</td>\n",
       "      <td>&lt;p&gt;&lt;strong&gt;Your mission: To create memorable e...</td>\n",
       "      <td>AUS</td>\n",
       "      <td>NaN</td>\n",
       "      <td>0-0-None-None</td>\n",
       "    </tr>\n",
       "    <tr>\n",
       "      <th>2266</th>\n",
       "      <td>79333669</td>\n",
       "      <td>AVP, Institutional Customer Service Manager (H...</td>\n",
       "      <td>&lt;p&gt;&lt;/p&gt;&lt;p&gt;At &lt;b&gt;Citi&lt;/b&gt;, we get to connect mi...</td>\n",
       "      <td>MY</td>\n",
       "      <td>NaN</td>\n",
       "      <td>0-0-None-None</td>\n",
       "    </tr>\n",
       "  </tbody>\n",
       "</table>\n",
       "<p>939 rows × 6 columns</p>\n",
       "</div>"
      ],
      "text/plain": [
       "        job_id                                          job_title  \\\n",
       "2     55838599  Production Staff Required - Afternoon & Night-...   \n",
       "3     64369104                                      Payer Analyst   \n",
       "4     54861511            Solicitor, Restructuring (ID: 2100013K)   \n",
       "6     74982893                                Key Account Manager   \n",
       "13    63628834                                People Data Analyst   \n",
       "...        ...                                                ...   \n",
       "2260  51241917                       Senior Investment Accountant   \n",
       "2262  75640730  Senior Manager, Process Excellence and Transfo...   \n",
       "2263  77931852  Accounting Manager - Hotel Business (Nakhon Ra...   \n",
       "2264  54359262                  Technical Operator - Audio Visual   \n",
       "2266  79333669  AVP, Institutional Customer Service Manager (H...   \n",
       "\n",
       "                                         job_ad_details nation_short_desc  \\\n",
       "2     <p>Original Foods Baking Co. is one of New Zea...                NZ   \n",
       "3     <div> </div><div> </div>The Payer Analyst indi...                PH   \n",
       "4     <p>The DLA Piper team operates across more tha...               AUS   \n",
       "6     <p>This role will contribute to expand our cli...                ID   \n",
       "13    <div> </div><div> </div><strong>About us</stro...                PH   \n",
       "...                                                 ...               ...   \n",
       "2260  <p>Allianz is the home for Accountants who dar...               AUS   \n",
       "2262  <p>Our client is a well-established consumer g...                HK   \n",
       "2263  <p> </p><p><strong>Position:</strong> Accounti...                TH   \n",
       "2264  <p><strong>Your mission: To create memorable e...               AUS   \n",
       "2266  <p></p><p>At <b>Citi</b>, we get to connect mi...                MY   \n",
       "\n",
       "                       salary_additional_text         y_true  \n",
       "2                                         NaN  0-0-None-None  \n",
       "3                                           -  0-0-None-None  \n",
       "4                                         NaN  0-0-None-None  \n",
       "6     Car allowance, healthcare, annual bonus  0-0-None-None  \n",
       "13                                          -  0-0-None-None  \n",
       "...                                       ...            ...  \n",
       "2260         Competitive salary plus benefits  0-0-None-None  \n",
       "2262                                      NaN  0-0-None-None  \n",
       "2263                                      NaN  0-0-None-None  \n",
       "2264                                      NaN  0-0-None-None  \n",
       "2266                                      NaN  0-0-None-None  \n",
       "\n",
       "[939 rows x 6 columns]"
      ]
     },
     "execution_count": 23,
     "metadata": {},
     "output_type": "execute_result"
    }
   ],
   "source": [
    "# Check a data point with y_true none\n",
    "df[df[\"y_true\"] == \"0-0-None-None\"]"
   ]
  },
  {
   "cell_type": "code",
   "execution_count": null,
   "id": "31bc23e7",
   "metadata": {},
   "outputs": [
    {
     "data": {
      "text/plain": [
       "0.5701992753623188"
      ]
     },
     "execution_count": 24,
     "metadata": {},
     "output_type": "execute_result"
    }
   ],
   "source": [
    "df[\"salary_additional_text\"].isnull().sum() / df.shape[\n",
    "    0\n",
    "]  # check if there are any null values"
   ]
  },
  {
   "cell_type": "code",
   "execution_count": 27,
   "id": "af06754b",
   "metadata": {},
   "outputs": [
    {
     "data": {
      "text/plain": [
       "0.42527173913043476"
      ]
     },
     "execution_count": 27,
     "metadata": {},
     "output_type": "execute_result"
    }
   ],
   "source": [
    "df[df[\"y_true\"] == \"0-0-None-None\"].shape[0] / df.shape[0]"
   ]
  },
  {
   "cell_type": "code",
   "execution_count": 28,
   "id": "f0cdc01d",
   "metadata": {},
   "outputs": [
    {
     "data": {
      "text/plain": [
       "job_id                    0.000000\n",
       "job_title                 0.000000\n",
       "job_ad_details            0.000000\n",
       "nation_short_desc         0.000000\n",
       "salary_additional_text    0.241848\n",
       "y_true                    0.000000\n",
       "dtype: float64"
      ]
     },
     "execution_count": 28,
     "metadata": {},
     "output_type": "execute_result"
    }
   ],
   "source": [
    "df[df[\"y_true\"] == \"0-0-None-None\"].isnull().sum() / df.shape[\n",
    "    0\n",
    "]  # check if there are any null values"
   ]
  }
 ],
 "metadata": {
  "kernelspec": {
   "display_name": "Python 3",
   "language": "python",
   "name": "python3"
  },
  "language_info": {
   "codemirror_mode": {
    "name": "ipython",
    "version": 3
   },
   "file_extension": ".py",
   "mimetype": "text/x-python",
   "name": "python",
   "nbconvert_exporter": "python",
   "pygments_lexer": "ipython3",
   "version": "3.11.7"
  }
 },
 "nbformat": 4,
 "nbformat_minor": 5
}
