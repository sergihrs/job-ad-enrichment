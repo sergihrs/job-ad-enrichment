{
 "cells": [
  {
   "cell_type": "code",
   "execution_count": 43,
   "id": "3f35ab81",
   "metadata": {},
   "outputs": [],
   "source": [
    "import pandas as pd\n",
    "from sklearn.metrics import accuracy_score"
   ]
  },
  {
   "cell_type": "code",
   "execution_count": 61,
   "id": "25337cf9",
   "metadata": {},
   "outputs": [
    {
     "data": {
      "text/plain": [
       "Index(['job_id', 'job_title', 'job_ad_details', 'nation_short_desc',\n",
       "       'salary_additional_text', 'y_true'],\n",
       "      dtype='object')"
      ]
     },
     "execution_count": 61,
     "metadata": {},
     "output_type": "execute_result"
    }
   ],
   "source": [
    "df_train = pd.read_csv(\"job_data_files/salary_labelled_development_set.csv\")\n",
    "df_train.columns"
   ]
  },
  {
   "cell_type": "code",
   "execution_count": 45,
   "id": "91834810",
   "metadata": {},
   "outputs": [
    {
     "data": {
      "text/plain": [
       "(33.242611380679314, 2500.572562858403, 16.752417794970988)"
      ]
     },
     "execution_count": 45,
     "metadata": {},
     "output_type": "execute_result"
    }
   ],
   "source": [
    "# average length of job title, job ad details and salary additional text\n",
    "df_train[\"job_title\"].str.len().mean(), df_train[\n",
    "    \"job_ad_details\"\n",
    "].str.len().mean(), df_train[\"salary_additional_text\"].str.len().mean()"
   ]
  },
  {
   "cell_type": "code",
   "execution_count": 63,
   "id": "7cbf17ed",
   "metadata": {},
   "outputs": [
    {
     "data": {
      "text/plain": [
       "2072.5659461843848"
      ]
     },
     "execution_count": 63,
     "metadata": {},
     "output_type": "execute_result"
    }
   ],
   "source": [
    "# Remove html tags from job_ad_details\n",
    "df_train[\"job_ad_details\"] = df_train[\"job_ad_details\"].str.replace(\n",
    "    r\"<[^>]+>\", \" \", regex=True\n",
    ")\n",
    "\n",
    "# Remove html & characters from job_ad_details\n",
    "df_train[\"job_ad_details\"] = df_train[\"job_ad_details\"].str.replace(\n",
    "    r\"&[a-zA-Z0-9]+;\", \" \", regex=True\n",
    ")\n",
    "\n",
    "# Remove escaped characters from job_ad_details\n",
    "df_train[\"job_ad_details\"] = df_train[\"job_ad_details\"].str.replace(\n",
    "    r\"\\\\[a-zA-Z0-9]+\", \" \", regex=True\n",
    ")\n",
    "\n",
    "# Merge multiple spaces into one\n",
    "df_train[\"job_ad_details\"] = df_train[\"job_ad_details\"].str.replace(\n",
    "    r\"\\s+\", \" \", regex=True\n",
    ")\n",
    "\n",
    "df_train[\"job_ad_details\"].str.len().mean()"
   ]
  },
  {
   "cell_type": "code",
   "execution_count": 47,
   "id": "95f99bff",
   "metadata": {},
   "outputs": [
    {
     "name": "stdout",
     "output_type": "stream",
     "text": [
      "Percentage of missing values in each column:\n"
     ]
    },
    {
     "data": {
      "text/plain": [
       "job_id                     0.000000\n",
       "job_title                  0.000000\n",
       "job_ad_details             0.000000\n",
       "nation_short_desc          0.000000\n",
       "salary_additional_text    54.389060\n",
       "y_true                     0.000000\n",
       "y_true_min_sal            41.905602\n",
       "y_true_max_sal            41.905602\n",
       "y_true_curr               41.905602\n",
       "y_true_freq               41.905602\n",
       "dtype: float64"
      ]
     },
     "execution_count": 47,
     "metadata": {},
     "output_type": "execute_result"
    }
   ],
   "source": [
    "# Expand y_true into 4 columns using the split function\n",
    "new_columns = [\"y_true_min_sal\", \"y_true_max_sal\", \"y_true_curr\", \"y_true_freq\"]\n",
    "df_train[new_columns] = df_train[\"y_true\"].str.split(\"-\", expand=True, n=3)\n",
    "\n",
    "# min_sal and max_sal are integers, curr and freq are strings\n",
    "df_train[\"y_true_min_sal\"] = df_train[\"y_true_min_sal\"].astype(float)\n",
    "df_train[\"y_true_max_sal\"] = df_train[\"y_true_max_sal\"].astype(float)\n",
    "df_train[\"y_true_curr\"] = df_train[\"y_true_curr\"].astype(str).str.strip()\n",
    "df_train[\"y_true_freq\"] = df_train[\"y_true_freq\"].astype(str).str.strip()\n",
    "\n",
    "# Parse empty columns to None\n",
    "df_train.loc[df_train[\"y_true_min_sal\"] == 0.0, \"y_true_min_sal\"] = None\n",
    "df_train.loc[df_train[\"y_true_max_sal\"] == 0.0, \"y_true_max_sal\"] = None\n",
    "df_train.loc[df_train[\"y_true_curr\"] == \"None\", \"y_true_curr\"] = None\n",
    "df_train.loc[df_train[\"y_true_freq\"] == \"None\", \"y_true_freq\"] = None\n",
    "\n",
    "# Count missing values in each column\n",
    "print(\"Percentage of missing values in each column:\")\n",
    "df_train.isnull().sum() / len(df_train) * 100"
   ]
  },
  {
   "cell_type": "code",
   "execution_count": 48,
   "id": "b357cc01",
   "metadata": {},
   "outputs": [],
   "source": [
    "# Merge all the columns into a single text column\n",
    "df_train[\"text\"] = (\n",
    "    (\n",
    "        df_train[\"job_title\"]\n",
    "        + \" \"\n",
    "        + df_train[\"job_ad_details\"]\n",
    "        + \" \"\n",
    "        + df_train[\"salary_additional_text\"]\n",
    "    )\n",
    "    .astype(str)\n",
    "    .str.strip()\n",
    ")"
   ]
  },
  {
   "cell_type": "code",
   "execution_count": 66,
   "id": "3845cc56",
   "metadata": {},
   "outputs": [
    {
     "ename": "KeyError",
     "evalue": "['y_true_min_sal', 'y_true_max_sal', 'y_true_curr', 'y_true_freq']",
     "output_type": "error",
     "traceback": [
      "\u001b[1;31m---------------------------------------------------------------------------\u001b[0m",
      "\u001b[1;31mKeyError\u001b[0m                                  Traceback (most recent call last)",
      "Input \u001b[1;32mIn [66]\u001b[0m, in \u001b[0;36m<cell line: 1>\u001b[1;34m()\u001b[0m\n\u001b[1;32m----> 1\u001b[0m df_train_filtered \u001b[38;5;241m=\u001b[39m \u001b[43mdf_train\u001b[49m\u001b[38;5;241;43m.\u001b[39;49m\u001b[43mdropna\u001b[49m\u001b[43m(\u001b[49m\n\u001b[0;32m      2\u001b[0m \u001b[43m    \u001b[49m\u001b[43msubset\u001b[49m\u001b[38;5;241;43m=\u001b[39;49m\u001b[43m[\u001b[49m\u001b[38;5;124;43m\"\u001b[39;49m\u001b[38;5;124;43my_true_min_sal\u001b[39;49m\u001b[38;5;124;43m\"\u001b[39;49m\u001b[43m,\u001b[49m\u001b[43m \u001b[49m\u001b[38;5;124;43m\"\u001b[39;49m\u001b[38;5;124;43my_true_max_sal\u001b[39;49m\u001b[38;5;124;43m\"\u001b[39;49m\u001b[43m,\u001b[49m\u001b[43m \u001b[49m\u001b[38;5;124;43m\"\u001b[39;49m\u001b[38;5;124;43my_true_curr\u001b[39;49m\u001b[38;5;124;43m\"\u001b[39;49m\u001b[43m,\u001b[49m\u001b[43m \u001b[49m\u001b[38;5;124;43m\"\u001b[39;49m\u001b[38;5;124;43my_true_freq\u001b[39;49m\u001b[38;5;124;43m\"\u001b[39;49m\u001b[43m]\u001b[49m\n\u001b[0;32m      3\u001b[0m \u001b[43m)\u001b[49m\u001b[38;5;241m.\u001b[39mcopy()\n\u001b[0;32m      4\u001b[0m \u001b[38;5;28mprint\u001b[39m(\u001b[38;5;124m\"\u001b[39m\u001b[38;5;124mFiltered dataset shape:\u001b[39m\u001b[38;5;124m\"\u001b[39m, df_train_filtered\u001b[38;5;241m.\u001b[39mshape)\n\u001b[0;32m      6\u001b[0m df_train_filtered[\u001b[38;5;124m\"\u001b[39m\u001b[38;5;124my_true_min_sal\u001b[39m\u001b[38;5;124m\"\u001b[39m] \u001b[38;5;241m=\u001b[39m df_train_filtered[\u001b[38;5;124m\"\u001b[39m\u001b[38;5;124my_true_min_sal\u001b[39m\u001b[38;5;124m\"\u001b[39m]\u001b[38;5;241m.\u001b[39mastype(\u001b[38;5;28mint\u001b[39m)\n",
      "File \u001b[1;32mc:\\Users\\Gomi\\AppData\\Local\\Programs\\Python\\Python310\\lib\\site-packages\\pandas\\util\\_decorators.py:311\u001b[0m, in \u001b[0;36mdeprecate_nonkeyword_arguments.<locals>.decorate.<locals>.wrapper\u001b[1;34m(*args, **kwargs)\u001b[0m\n\u001b[0;32m    305\u001b[0m \u001b[38;5;28;01mif\u001b[39;00m \u001b[38;5;28mlen\u001b[39m(args) \u001b[38;5;241m>\u001b[39m num_allow_args:\n\u001b[0;32m    306\u001b[0m     warnings\u001b[38;5;241m.\u001b[39mwarn(\n\u001b[0;32m    307\u001b[0m         msg\u001b[38;5;241m.\u001b[39mformat(arguments\u001b[38;5;241m=\u001b[39marguments),\n\u001b[0;32m    308\u001b[0m         \u001b[38;5;167;01mFutureWarning\u001b[39;00m,\n\u001b[0;32m    309\u001b[0m         stacklevel\u001b[38;5;241m=\u001b[39mstacklevel,\n\u001b[0;32m    310\u001b[0m     )\n\u001b[1;32m--> 311\u001b[0m \u001b[38;5;28;01mreturn\u001b[39;00m func(\u001b[38;5;241m*\u001b[39margs, \u001b[38;5;241m*\u001b[39m\u001b[38;5;241m*\u001b[39mkwargs)\n",
      "File \u001b[1;32mc:\\Users\\Gomi\\AppData\\Local\\Programs\\Python\\Python310\\lib\\site-packages\\pandas\\core\\frame.py:6002\u001b[0m, in \u001b[0;36mDataFrame.dropna\u001b[1;34m(self, axis, how, thresh, subset, inplace)\u001b[0m\n\u001b[0;32m   6000\u001b[0m     check \u001b[38;5;241m=\u001b[39m indices \u001b[38;5;241m==\u001b[39m \u001b[38;5;241m-\u001b[39m\u001b[38;5;241m1\u001b[39m\n\u001b[0;32m   6001\u001b[0m     \u001b[38;5;28;01mif\u001b[39;00m check\u001b[38;5;241m.\u001b[39many():\n\u001b[1;32m-> 6002\u001b[0m         \u001b[38;5;28;01mraise\u001b[39;00m \u001b[38;5;167;01mKeyError\u001b[39;00m(np\u001b[38;5;241m.\u001b[39marray(subset)[check]\u001b[38;5;241m.\u001b[39mtolist())\n\u001b[0;32m   6003\u001b[0m     agg_obj \u001b[38;5;241m=\u001b[39m \u001b[38;5;28mself\u001b[39m\u001b[38;5;241m.\u001b[39mtake(indices, axis\u001b[38;5;241m=\u001b[39magg_axis)\n\u001b[0;32m   6005\u001b[0m \u001b[38;5;28;01mif\u001b[39;00m thresh \u001b[38;5;129;01mis\u001b[39;00m \u001b[38;5;129;01mnot\u001b[39;00m \u001b[38;5;28;01mNone\u001b[39;00m:\n",
      "\u001b[1;31mKeyError\u001b[0m: ['y_true_min_sal', 'y_true_max_sal', 'y_true_curr', 'y_true_freq']"
     ]
    }
   ],
   "source": [
    "df_train_filtered = df_train.dropna(\n",
    "    subset=[\"y_true_min_sal\", \"y_true_max_sal\", \"y_true_curr\", \"y_true_freq\"]\n",
    ").copy()\n",
    "print(\"Filtered dataset shape:\", df_train_filtered.shape)\n",
    "\n",
    "df_train_filtered[\"y_true_min_sal\"] = df_train_filtered[\"y_true_min_sal\"].astype(int)\n",
    "df_train_filtered[\"y_true_max_sal\"] = df_train_filtered[\"y_true_max_sal\"].astype(int)\n",
    "df_train_filtered[\"y_true_curr\"] = df_train_filtered[\"y_true_curr\"].astype(str)\n",
    "df_train_filtered[\"y_true_freq\"] = df_train_filtered[\"y_true_freq\"].astype(str)\n",
    "\n",
    "# Count missing values in each column\n",
    "print(\"Percentage of missing values in each column:\")\n",
    "print(df_train_filtered.isnull().sum() / len(df_train_filtered) * 100)\n",
    "\n",
    "df_train_filtered[\"salary_additional_text\"] = df_train_filtered[\n",
    "    \"salary_additional_text\"\n",
    "].astype(str)\n",
    "df_train_filtered[\"job_ad_details\"] = df_train_filtered[\"job_ad_details\"].astype(str)"
   ]
  },
  {
   "cell_type": "code",
   "execution_count": 26,
   "id": "eb49cac7",
   "metadata": {},
   "outputs": [
    {
     "name": "stdout",
     "output_type": "stream",
     "text": [
      "625\n",
      "Trivial in JAD %: 99.83999999999999\n"
     ]
    },
    {
     "data": {
      "text/plain": [
       "(624, 539, 86.37820512820514)"
      ]
     },
     "execution_count": 26,
     "metadata": {},
     "output_type": "execute_result"
    }
   ],
   "source": [
    "import re\n",
    "\n",
    "find_col_in_col = lambda c1, c2: (\n",
    "    lambda x: bool(re.search(rf\"[-$]?{x[c1]}[$]?\", x[c2]))\n",
    "    or bool(re.search(rf\"[-$]?{format(x[c1],',')}[$]?\", x[c2]))\n",
    "    or bool(re.search(rf\"[-$]?{x[c1]+1}[$]?\", x[c2]))\n",
    "    or bool(re.search(rf\"[-$]?{format(x[c1]+1,',')}[$]?\", x[c2]))\n",
    "    or bool(re.search(rf\"[-$]?{x[c1]-1}[$]?\", x[c2]))\n",
    "    or bool(re.search(rf\"[-$]?{format(x[c1]-1,',')}[$]?\", x[c2]))\n",
    ")\n",
    "\n",
    "\n",
    "df_tf_sad = df_train_filtered[\n",
    "    df_train_filtered[\"salary_additional_text\"].str.strip() != \"nan\"\n",
    "].copy()\n",
    "print(len(df_tf_sad))\n",
    "\n",
    "# Find columns with y_true_min_sal and y_true_max_sal strictly contained in the text feature column\n",
    "df_tf_sad[\"max_sal_in_ad\"] = df_tf_sad.apply(\n",
    "    find_col_in_col(\"y_true_max_sal\", \"job_ad_details\"), axis=1\n",
    ")\n",
    "trivial_in_jad = df_tf_sad[\"max_sal_in_ad\"].sum()\n",
    "\n",
    "\n",
    "df_tf_sad[\"max_sal_in_sat\"] = df_tf_sad.apply(\n",
    "    find_col_in_col(\"y_true_max_sal\", \"salary_additional_text\"), axis=1\n",
    ")\n",
    "trivial_in_sat = df_tf_sad[\"max_sal_in_sat\"].sum()\n",
    "\n",
    "\n",
    "print(\"Trivial in JAD %:\", trivial_in_jad / len(df_tf_sad) * 100)\n",
    "\n",
    "trivial_in_jad, trivial_in_sat, trivial_in_sat / trivial_in_jad * 100"
   ]
  },
  {
   "cell_type": "code",
   "execution_count": 27,
   "id": "09b9cc55",
   "metadata": {},
   "outputs": [
    {
     "data": {
      "application/vnd.microsoft.datawrangler.viewer.v0+json": {
       "columns": [
        {
         "name": "index",
         "rawType": "int64",
         "type": "integer"
        },
        {
         "name": "job_id",
         "rawType": "int64",
         "type": "integer"
        },
        {
         "name": "job_title",
         "rawType": "object",
         "type": "string"
        },
        {
         "name": "job_ad_details",
         "rawType": "object",
         "type": "string"
        },
        {
         "name": "nation_short_desc",
         "rawType": "object",
         "type": "string"
        },
        {
         "name": "salary_additional_text",
         "rawType": "object",
         "type": "string"
        },
        {
         "name": "y_true",
         "rawType": "object",
         "type": "string"
        },
        {
         "name": "y_true_min_sal",
         "rawType": "int32",
         "type": "integer"
        },
        {
         "name": "y_true_max_sal",
         "rawType": "int32",
         "type": "integer"
        },
        {
         "name": "y_true_curr",
         "rawType": "object",
         "type": "string"
        },
        {
         "name": "y_true_freq",
         "rawType": "object",
         "type": "string"
        },
        {
         "name": "text",
         "rawType": "object",
         "type": "string"
        },
        {
         "name": "max_sal_in_ad",
         "rawType": "bool",
         "type": "boolean"
        },
        {
         "name": "max_sal_in_sat",
         "rawType": "bool",
         "type": "boolean"
        }
       ],
       "conversionMethod": "pd.DataFrame",
       "ref": "5cf6d7f9-ec5d-4caa-a0f8-a04f5b8a433b",
       "rows": [
        [
         "51",
         "66860093",
         "Project Assistant Manager (Lighting/Electrical)",
         ". Our client is a \"Lighting Specialist\" which providing the best lighting solutions and executions services to their customers. Currently, they are looking for a Project Manager to extend their team.. . . Job Details:. . . . Salary Range: $1,000 - $1,375 per week (depends on experience)&nbsp;. . Working Hour: Monday to Friday (8.30am-6pm). . Working Location: Kaki Bukit (Central)&nbsp;. . . . Job Scope:&nbsp;. . . . Coordinate the construction project (liaise with contractors and clients) on day-to-day progress of work activities, procurement and operations to ensure timely completion of project.. . Attend weekly progress meeting internally as well with clients and contractors&nbsp;. . . &nbsp;. . Interested applicants please send your resume to&nbsp;ailsa(at)alignrecruitment.com.sg. Regret to inform you that only shortlisted candidates will be contacted by our consultants.. . . Align Recruitment Pte Ltd (20C0253)&nbsp;. . . . Lim Hui Min (Ailsa) (Reg No. R2094728). . ",
         "SG",
         "$1,000 - $1,375 per week",
         "4000-5500-SGD-WEEKLY",
         "4000",
         "5500",
         "SGD",
         "WEEKLY",
         "Project Assistant Manager (Lighting/Electrical) . Our client is a \"Lighting Specialist\" which providing the best lighting solutions and executions services to their customers. Currently, they are looking for a Project Manager to extend their team.. . . Job Details:. . . . Salary Range: $1,000 - $1,375 per week (depends on experience)&nbsp;. . Working Hour: Monday to Friday (8.30am-6pm). . Working Location: Kaki Bukit (Central)&nbsp;. . . . Job Scope:&nbsp;. . . . Coordinate the construction project (liaise with contractors and clients) on day-to-day progress of work activities, procurement and operations to ensure timely completion of project.. . Attend weekly progress meeting internally as well with clients and contractors&nbsp;. . . &nbsp;. . Interested applicants please send your resume to&nbsp;ailsa(at)alignrecruitment.com.sg. Regret to inform you that only shortlisted candidates will be contacted by our consultants.. . . Align Recruitment Pte Ltd (20C0253)&nbsp;. . . . Lim Hui Min (Ailsa) (Reg No. R2094728). .  $1,000 - $1,375 per week",
         "False",
         "False"
        ]
       ],
       "shape": {
        "columns": 13,
        "rows": 1
       }
      },
      "text/html": [
       "<div>\n",
       "<style scoped>\n",
       "    .dataframe tbody tr th:only-of-type {\n",
       "        vertical-align: middle;\n",
       "    }\n",
       "\n",
       "    .dataframe tbody tr th {\n",
       "        vertical-align: top;\n",
       "    }\n",
       "\n",
       "    .dataframe thead th {\n",
       "        text-align: right;\n",
       "    }\n",
       "</style>\n",
       "<table border=\"1\" class=\"dataframe\">\n",
       "  <thead>\n",
       "    <tr style=\"text-align: right;\">\n",
       "      <th></th>\n",
       "      <th>job_id</th>\n",
       "      <th>job_title</th>\n",
       "      <th>job_ad_details</th>\n",
       "      <th>nation_short_desc</th>\n",
       "      <th>salary_additional_text</th>\n",
       "      <th>y_true</th>\n",
       "      <th>y_true_min_sal</th>\n",
       "      <th>y_true_max_sal</th>\n",
       "      <th>y_true_curr</th>\n",
       "      <th>y_true_freq</th>\n",
       "      <th>text</th>\n",
       "      <th>max_sal_in_ad</th>\n",
       "      <th>max_sal_in_sat</th>\n",
       "    </tr>\n",
       "  </thead>\n",
       "  <tbody>\n",
       "    <tr>\n",
       "      <th>51</th>\n",
       "      <td>66860093</td>\n",
       "      <td>Project Assistant Manager (Lighting/Electrical)</td>\n",
       "      <td>. Our client is a \"Lighting Specialist\" which ...</td>\n",
       "      <td>SG</td>\n",
       "      <td>$1,000 - $1,375 per week</td>\n",
       "      <td>4000-5500-SGD-WEEKLY</td>\n",
       "      <td>4000</td>\n",
       "      <td>5500</td>\n",
       "      <td>SGD</td>\n",
       "      <td>WEEKLY</td>\n",
       "      <td>Project Assistant Manager (Lighting/Electrical...</td>\n",
       "      <td>False</td>\n",
       "      <td>False</td>\n",
       "    </tr>\n",
       "  </tbody>\n",
       "</table>\n",
       "</div>"
      ],
      "text/plain": [
       "      job_id                                        job_title  \\\n",
       "51  66860093  Project Assistant Manager (Lighting/Electrical)   \n",
       "\n",
       "                                       job_ad_details nation_short_desc  \\\n",
       "51  . Our client is a \"Lighting Specialist\" which ...                SG   \n",
       "\n",
       "      salary_additional_text                y_true  y_true_min_sal  \\\n",
       "51  $1,000 - $1,375 per week  4000-5500-SGD-WEEKLY            4000   \n",
       "\n",
       "    y_true_max_sal y_true_curr y_true_freq  \\\n",
       "51            5500         SGD      WEEKLY   \n",
       "\n",
       "                                                 text  max_sal_in_ad  \\\n",
       "51  Project Assistant Manager (Lighting/Electrical...          False   \n",
       "\n",
       "    max_sal_in_sat  \n",
       "51           False  "
      ]
     },
     "execution_count": 27,
     "metadata": {},
     "output_type": "execute_result"
    }
   ],
   "source": [
    "df_tf_sad[~df_tf_sad[\"max_sal_in_ad\"]]"
   ]
  },
  {
   "cell_type": "code",
   "execution_count": 28,
   "id": "1f40a392",
   "metadata": {},
   "outputs": [
    {
     "name": "stdout",
     "output_type": "stream",
     "text": [
      "692\n"
     ]
    },
    {
     "data": {
      "text/plain": [
       "99.71098265895954"
      ]
     },
     "execution_count": 28,
     "metadata": {},
     "output_type": "execute_result"
    }
   ],
   "source": [
    "# Find columns with y_true_min_sal and y_true_max_sal strictly contained in the text feature column\n",
    "df_tf_no_sad = df_train_filtered[\n",
    "    df_train_filtered[\"salary_additional_text\"].str.strip() == \"nan\"\n",
    "].copy()\n",
    "print(len(df_tf_no_sad))\n",
    "\n",
    "df_tf_no_sad[\"max_sal_in_ad\"] = df_tf_no_sad.apply(\n",
    "    find_col_in_col(\"y_true_max_sal\", \"job_ad_details\"), axis=1\n",
    ")\n",
    "trivial_in_text = df_tf_no_sad[\"max_sal_in_ad\"].sum()\n",
    "\n",
    "trivial_in_text / len(df_tf_no_sad) * 100"
   ]
  },
  {
   "cell_type": "code",
   "execution_count": 29,
   "id": "80117e09",
   "metadata": {},
   "outputs": [
    {
     "data": {
      "application/vnd.microsoft.datawrangler.viewer.v0+json": {
       "columns": [
        {
         "name": "index",
         "rawType": "int64",
         "type": "integer"
        },
        {
         "name": "job_id",
         "rawType": "int64",
         "type": "integer"
        },
        {
         "name": "job_title",
         "rawType": "object",
         "type": "string"
        },
        {
         "name": "job_ad_details",
         "rawType": "object",
         "type": "string"
        },
        {
         "name": "nation_short_desc",
         "rawType": "object",
         "type": "string"
        },
        {
         "name": "salary_additional_text",
         "rawType": "object",
         "type": "string"
        },
        {
         "name": "y_true",
         "rawType": "object",
         "type": "string"
        },
        {
         "name": "y_true_min_sal",
         "rawType": "int32",
         "type": "integer"
        },
        {
         "name": "y_true_max_sal",
         "rawType": "int32",
         "type": "integer"
        },
        {
         "name": "y_true_curr",
         "rawType": "object",
         "type": "string"
        },
        {
         "name": "y_true_freq",
         "rawType": "object",
         "type": "string"
        },
        {
         "name": "text",
         "rawType": "object",
         "type": "string"
        },
        {
         "name": "max_sal_in_ad",
         "rawType": "bool",
         "type": "boolean"
        }
       ],
       "conversionMethod": "pd.DataFrame",
       "ref": "51fd3b86-a252-4ed9-8ee9-4ab7ab21ef10",
       "rows": [
        [
         "162",
         "75182600",
         "Kitchen Assistant",
         ". .  . Your future workplace.  . Sacred Heart Mission is a community of dedicated people working together to end homelessness and disadvantage. Our strength lies in our shared purpose and values. We welcome individuality and support each other to bring our best and whole selves to the work we do each day..  . Join us in making a meaningful difference in a fun and friendly organisation with a big heart..  . .  . . Your new role. .  . If you’re looking for a role where no two days are the same and you can make a difference in the community, this is the role for you!.  . Step into the role of Kitchen Assistant and be part of something special within the SHM Meals Service Program. You will contribute to an exceptional and compassionate experience for our valued service users, all while being a crucial member of our dynamic and like-minded team. Join us in delivering a top-tier meals service and making a real difference, every single day. .  . This casual position offers flexibility, with shifts on Mondays and select Wednesdays, Thursdays, or weekends, from 8:30 am to 2:30 pm. .  . Your day-to-day.  .  . Assisting chefs in the preparation of approximately 300 meals per day.  . Coordinating the wash-up area during shifts, including directing volunteers.  . Collecting food from dry store and freezer.  . Unloading truck deliveries.  .  . . Click here to download a copy of the position description.. &nbsp;.  . . We're looking for. .  .  . Previous experience as a kitchen hand (desirable but not essential).  . Able to do weekend and weekday shifts.  . Whilst not a requirement, a Certificate II or III in Hospitality (Kitchen Operations) or Safe Food Handling and Manual Handling Certificate will be highly regarded .  . Knowledge of relevant regulations in relation to food hygiene standards and workplace safety.  . A proven ability to manage the kitchen environment in a safe and responsible manner.  . An ability to work independently as well as be an effective team member.  .  . You can look forward to.  .  . Being and working in the heart of St Kilda .  . Access to in-house training.  . Working in a supportive team and having the opportunity to develop professional skills.  . Salary packaging expenses like your rent, holiday accommodation and dining out: up to $15,990 pre-tax.  . Working for one of Melbourne’s most highly regarded not-for-profits with excellent career opportunities.  . Making a meaningful difference to some of the most disadvantaged and most vulnerable people in our community.  .  . Come and Work with us.  . To join our team, simply click 'Apply Now.'&nbsp;.  . For more information about the role, contact . Kirsty Davies . on.  0499 909 198.. .  . Closing date for applications: . 5pm, Monday 6th May 2024. . .  . . Shortlisting for this position will commence immediately, and the position may close earlier than stated if we have found a suitable candidate.. .  . . SHM is committed to equal employment opportunities for all people regardless of age, gender, cultural background, disability, or sexual orientation. We recognise the strength and value in diversity, and actively foster an inclusive workplace. Aboriginal and Torres Strait Islander people are encouraged to apply. . .  . &nbsp;.  . &nbsp;. All appointments are subject to Police Checks and certain roles require additional pre-screening or evidence of COVID-19 vaccination as outlined in the position description. . .  . .  . .  . .  . .  . &nbsp;. ",
         "AUS",
         "nan",
         "26-26-AUD-HOURLY",
         "26",
         "26",
         "AUD",
         "HOURLY",
         "nan",
         "False"
        ],
        [
         "757",
         "60154245",
         "Delivery Agent - EBike",
         ". . Delivery Agent - EBike | Levin | On Call&#160;. . \n. \n. $25.00 per hour. \n. Flexibility&#160;. \n. \n. As they breeze past you on their EBike and say Kia Ora, they're friendly, as reliable as clockwork and look exceptionally fit and healthy. They're iconic members of their community and are wonderful ambassadors for New Zealand Post.. \n. Right now, we're looking 2 great people to sort and operate an EBike and deliver within Levin.&#160;This permanent role will&#160;see you delivering the parcels and mail from our . Levin Delivery Branch.&#160;. What a great way to interact with our customers and give them a positive experience each and every time!. \n. \n. . Have flexibility to work Monday - Saturday as On Call. . \n. Hold a valid Restricted or Full license&#160;. \n. Reliability and have good physical fitness (this no sit-down role - you'll be up and down hundreds of times a day). \n. Have a level of numeracy and literacy - so you can get all that addressing information sorted!. \n. Ensure your own and the Health and Safety of your Colleagues. \n. \n. If you want to be part of a fun social team, earn money, keep fit and have a role that works in with your lifestyle, then becoming a Postie is just the job for you!. \n. . And above all, a passion for doing a great job and getting it right each and every time!&#160;. . \n. Here is your chance to get involved in not only a satisfying role but to work with a company that truly believes anything is possible when we deliver on our promise to our customers.&#160;. \n. Apply now to launch your career with the NZ Post Group - be part of our journey and reach your maximum potential.&#160; For more information about careers at New Zealand Post visit jobs.nzpost.co.nz. \n. Follow the link below to check out our video to get more insight into a day in the life!. \n. . https://www.youtube.com/watch?v=da_dTBHEMAU. . \n. &#160;. \n. \n. . All external applicants will be required to provide proof of. .  their eligibility to work in New Zealand. Appointees will also be subject to a security and credit check and may be required to undertake a drug test. . . \n. . There's something really special about being part of the team here at NZ Post - Tukurau Aotearoa, who we are and what we stand for is grounded in. . &#160;. . . our values. . . .. . \n. . We are proud to be Rainbow Tick certified and recognise the diversity and uniqueness of our workforce and reaffirm our commitment to create a safe and inclusive environment for everyone.. . \n. ",
         "NZ",
         "nan",
         "25-27-NZD-HOURLY",
         "25",
         "27",
         "NZD",
         "HOURLY",
         "nan",
         "False"
        ]
       ],
       "shape": {
        "columns": 12,
        "rows": 2
       }
      },
      "text/html": [
       "<div>\n",
       "<style scoped>\n",
       "    .dataframe tbody tr th:only-of-type {\n",
       "        vertical-align: middle;\n",
       "    }\n",
       "\n",
       "    .dataframe tbody tr th {\n",
       "        vertical-align: top;\n",
       "    }\n",
       "\n",
       "    .dataframe thead th {\n",
       "        text-align: right;\n",
       "    }\n",
       "</style>\n",
       "<table border=\"1\" class=\"dataframe\">\n",
       "  <thead>\n",
       "    <tr style=\"text-align: right;\">\n",
       "      <th></th>\n",
       "      <th>job_id</th>\n",
       "      <th>job_title</th>\n",
       "      <th>job_ad_details</th>\n",
       "      <th>nation_short_desc</th>\n",
       "      <th>salary_additional_text</th>\n",
       "      <th>y_true</th>\n",
       "      <th>y_true_min_sal</th>\n",
       "      <th>y_true_max_sal</th>\n",
       "      <th>y_true_curr</th>\n",
       "      <th>y_true_freq</th>\n",
       "      <th>text</th>\n",
       "      <th>max_sal_in_ad</th>\n",
       "    </tr>\n",
       "  </thead>\n",
       "  <tbody>\n",
       "    <tr>\n",
       "      <th>162</th>\n",
       "      <td>75182600</td>\n",
       "      <td>Kitchen Assistant</td>\n",
       "      <td>. .  . Your future workplace.  . Sacred Heart ...</td>\n",
       "      <td>AUS</td>\n",
       "      <td>nan</td>\n",
       "      <td>26-26-AUD-HOURLY</td>\n",
       "      <td>26</td>\n",
       "      <td>26</td>\n",
       "      <td>AUD</td>\n",
       "      <td>HOURLY</td>\n",
       "      <td>nan</td>\n",
       "      <td>False</td>\n",
       "    </tr>\n",
       "    <tr>\n",
       "      <th>757</th>\n",
       "      <td>60154245</td>\n",
       "      <td>Delivery Agent - EBike</td>\n",
       "      <td>. . Delivery Agent - EBike | Levin | On Call&amp;#...</td>\n",
       "      <td>NZ</td>\n",
       "      <td>nan</td>\n",
       "      <td>25-27-NZD-HOURLY</td>\n",
       "      <td>25</td>\n",
       "      <td>27</td>\n",
       "      <td>NZD</td>\n",
       "      <td>HOURLY</td>\n",
       "      <td>nan</td>\n",
       "      <td>False</td>\n",
       "    </tr>\n",
       "  </tbody>\n",
       "</table>\n",
       "</div>"
      ],
      "text/plain": [
       "       job_id               job_title  \\\n",
       "162  75182600       Kitchen Assistant   \n",
       "757  60154245  Delivery Agent - EBike   \n",
       "\n",
       "                                        job_ad_details nation_short_desc  \\\n",
       "162  . .  . Your future workplace.  . Sacred Heart ...               AUS   \n",
       "757  . . Delivery Agent - EBike | Levin | On Call&#...                NZ   \n",
       "\n",
       "    salary_additional_text            y_true  y_true_min_sal  y_true_max_sal  \\\n",
       "162                    nan  26-26-AUD-HOURLY              26              26   \n",
       "757                    nan  25-27-NZD-HOURLY              25              27   \n",
       "\n",
       "    y_true_curr y_true_freq text  max_sal_in_ad  \n",
       "162         AUD      HOURLY  nan          False  \n",
       "757         NZD      HOURLY  nan          False  "
      ]
     },
     "execution_count": 29,
     "metadata": {},
     "output_type": "execute_result"
    }
   ],
   "source": [
    "df_tf_no_sad[~df_tf_no_sad[\"max_sal_in_ad\"]]\n"
   ]
  },
  {
   "cell_type": "code",
   "execution_count": 30,
   "id": "6285132f",
   "metadata": {},
   "outputs": [
    {
     "data": {
      "application/vnd.microsoft.datawrangler.viewer.v0+json": {
       "columns": [
        {
         "name": "index",
         "rawType": "int64",
         "type": "integer"
        },
        {
         "name": "job_id",
         "rawType": "int64",
         "type": "integer"
        },
        {
         "name": "job_title",
         "rawType": "object",
         "type": "string"
        },
        {
         "name": "job_ad_details",
         "rawType": "object",
         "type": "string"
        },
        {
         "name": "nation_short_desc",
         "rawType": "object",
         "type": "string"
        },
        {
         "name": "salary_additional_text",
         "rawType": "object",
         "type": "string"
        },
        {
         "name": "y_true",
         "rawType": "object",
         "type": "string"
        },
        {
         "name": "y_true_min_sal",
         "rawType": "int32",
         "type": "integer"
        },
        {
         "name": "y_true_max_sal",
         "rawType": "int32",
         "type": "integer"
        },
        {
         "name": "y_true_curr",
         "rawType": "object",
         "type": "string"
        },
        {
         "name": "y_true_freq",
         "rawType": "object",
         "type": "string"
        },
        {
         "name": "text",
         "rawType": "object",
         "type": "string"
        }
       ],
       "conversionMethod": "pd.DataFrame",
       "ref": "263ca1d7-aea1-4cd1-9243-d68e6b633c00",
       "rows": [
        [
         "302",
         "78518295",
         "Work from Home Remote Tele-Sales For Personal Loans (Part Time) - Part Time",
         ". . Job Description :. . . This is a fully remote, part-time position suitable for students, stay-at-home individuals, and those seeking extra income. You will be responsible for making outbound calls, collecting documents from prospective personal loan customers, and promoting our loan products. You’ll collaborate with the loan operations team and ensure all documentation is complete, while adhering to regulations and maintaining integrity in all customer interactions.. . . Key Responsibilities :. . . . . Make Outbound Calls :.  Contact existing and new customers to collect documents and data for personal loan applications.. . . Promote and Acquire Customers :.  Introduce and acquire customers for various personal loan options through direct and partner channels.. . . Collaborate with Loan Operations :.  Work with the loan operations team to gather and verify all required application documents.. . . Follow Up :.  Ensure customers submit full documentation within the specified timeline.. . . Update Systems :.  Maintain and update the leads database and customer relationship management systems.. . . Adhere to Regulations :.  Comply with KPKT Ministry regulations, policies, and procedures at all times.. . . Uphold Integrity :.  Maintain integrity in all customer interactions.. . . Serve Effectively :.  Meet customer requirements efficiently and effectively.. . . . Requirements:. . . . Enthusiastic and self-motivated to earn additional income.. . Daring, aggressive, result-oriented, and willing to accept challenges.. . Enjoy working over the phone.. . Strong command of Malay (read, write, converse) with the ability to speak average English.. . Previous experience in selling financial or insurance products via tele-sales.. . On-the-job training will be provided.. . Applicants should be Malaysian citizens.. . Suitable for part-time, freelance, fresh graduates, and students.. . . . Benefits:. . . . Cell phone reimbursement. . Flexible schedule. . Professional development. . Work from home. . . . Schedule:. . . . Afternoon shift. . Day shift. . Flexible hours. . Weekend jobs. . . . Education :. STM/STPM (Preferred). . . Experience:. Tele-Marketing: 1 year (Preferred). . . Interested?. If this opportunity excites you, visit us at www.instaduit.com and send your CV to our email: talent@instaduit.com. We look forward to your application!. . . Summary of role requirements:. . . Looking for candidates available to work:. . Monday: Morning, Afternoon. . Tuesday: Morning, Afternoon. . Wednesday: Morning, Afternoon. . Thursday: Morning, Afternoon. . Friday: Morning, Afternoon. . Saturday: Morning, Afternoon. . Sunday: Morning, Afternoon. . . . 1 year of relevant work experience required for this role. . Working rights required for this role. . Expected start date for role: 09 September 2024. . Expected salary: RM9 - RM12 per hour. . ",
         "MY",
         "nan",
         "9-12-MYR-HOURLY",
         "9",
         "12",
         "MYR",
         "HOURLY",
         "nan"
        ],
        [
         "413",
         "79224115",
         "Part Time Telemarketer (Entry Level)",
         ". Join our team as a Telemarketer where you will engage potential clients over the phone, identify their needs, and promote our products and services. You will play a crucial role in achieving individual sales targets while receiving comprehensive training and support.. . Job Responsibilities:. . . . Conduct outbound calls to prospective clients to sell digital marketing solutions. . . . Understand and articulate our services' features, prices and benefits. . . . Identify customer needs and suggest appropriate solutions. . . . Follow up with leads and maintain ongoing communication to nurture relationships and drive conversions. . . . Arrange meetings with clients and demonstrate how our services can meet their needs. . . . Keep records of calls and record useful information. . . . Achieve monthly sales targets and goals. . . . Job Requirements:. . . . Proficiency in Microsoft Office applications. . . . Previous experience in B2B telemarketing or sales preferred. . . . Self-motivated and goal-oriented with a passion for achieving results. . . . Proficiency in speaking to English and Chinese clients. . . . Job Remuneration:. . . . Hourly rate: SGD 8 - 13. . . . Attractive incentives will be given. . . . Opportunities for growth and advancement. . . . Working Days/Hours:. . . . Flexible part-time hours, min 3 days/week, 5 hours/day. . . . Interested candidates, please email your updated resume to huiting@genicsolutions.com. We look forward to receiving your application.. . Only shortlisted candidates will be notified.. . . . . Summary of role requirements:. . . Looking for candidates available to work:. . Monday: Morning, Afternoon. . Tuesday: Morning, Afternoon. . Wednesday: Morning, Afternoon. . Thursday: Morning, Afternoon. . Friday: Morning, Afternoon. . . . No experience required for this role. . Working rights required for this role. . Expected salary: $8 - $13 per hour. . ",
         "SG",
         "nan",
         "8-13-SGD-HOURLY",
         "8",
         "13",
         "SGD",
         "HOURLY",
         "nan"
        ],
        [
         "579",
         "75949163",
         "Admin assistant",
         ". \n. \n. My Art Studio (Singapore) We are passionate about excellence with a key focus in making our lessons fun, engaging and building genuine relationships with students and their families. Part Time Administrative Assistant (Singapore - NORTHEAST) Position Overview: The Part Time Administrative Assistant plays a vital role in supporting the operation and administrative functions of the company.. \n. This position involves a combination of customer service tasks to promote the company's products or services, as well as administrative duties to ensure the smooth operation of the office. The ideal candidate is organized, detail-oriented, and capable of multitasking in a fast-paced environment. Responsibilities:. \n. \n. \n. Customer Service and Administrative:. \n. Counter duties (inclusive of handle enquiries &amp; fee collection). \n. Able to handle and follow up on students’ registration and payment.. \n. \n. Prepare, analyse and ensure accurate and timely collection of school fees.. \n. \n. Scheduling student’s lessons and working closely with teachers on their scheduled lessons and replacements.. \n. Provide excellent customer services and proactive follow up on customers’ email, walk up and social media’s enquiries. \n. Strong understanding of our products and service to support parents inquiries, marketing and promotion of our products.. \n. Handle requests, assist in preparation and proposal for sale of service/products, materials and books. \n. Maintain and organize office supplies, equipment, and inventory as needed.. \n. Maintain and update of students’ database system records and ensure accuracy of data, understanding of databases, and filing systems.. \n. Organize digital and physical files, ensuring that all materials and documents are easily accessible.. \n. Assist in preparing reports, presentations, and documentation for internal and external stakeholders.. \n. Manage incoming and outgoing correspondence, ensuring timely and appropriate responses.. \n. Providing administrative and operational support to director. \n. Provide facilities management for studios. \n. Handle basic accounting tasks, such as tracking expenses, timesheets and invoices.. \n. Any other duties as assigned by Director and studio managers. \n. Working Hours: This is a part-time position, averaging 15-20 hours per week.. \n. \n. \n. The schedule may include weekends and evenings to accommodate studio events. Possible to convert to full time role. Ad Hoc Tasks: Undertake various tasks or projects as assigned by studio management.. \n. This may include marketing research, light bookkeeping, and additional administrative duties. __________________________________________ Qualifications: Able to converse fluently in English and Mandarin Customer-oriented person who excels in providing excellent service Cheerful and sociable and able to work well with current team Enjoy working and able to communicate well with young people. Independent, meticulous and able to produce quality work.. \n. Strong written and verbal communication skills for effective interaction with team members and external contacts. Proficiency in using Microsoft Office(Word, Excel, PowerPoint) and basic knowledge of graphic design tools is a plus. Familiarity with social media platforms and digital marketing strategies is a plus.. \n. Excellent organizational skills and attention to detail to manage multiple tasks and projects simultaneously. Ability to work independently, take initiative, and prioritize tasks effectively. Strong problem-solving skills and adaptability to evolving situations.. \n. Prior experience in marketing or administrative roles is advantageous but not mandatory. Positive attitude, willingness to learn, and a team player mindset. Counter Service 1 year (Preferred) Have. \n. Interest or knowledge in Music and Art (Preferred) Higher Secondary/Pre-U/'A' Level, Diploma, Advanced/Higher/Graduate Diploma Job Types: Permanent Part-Time and able to commit at least 12-24 months. Salary: Between $9-10 per hour Prepare to work on at least two weekdays (between 10am to 7pm) and weekend, Sat or Sun between 9am to 5.00pm Location is in Serangoon Garden. \n. Interested candidates are invited to submit their resume, and a cover letter detailing their relevant experience tocareer@myartstudio.sg. Please include \" Administrative Assistant Application – Part-time] [Your Name]\" in the subject line. Shortlisted candidates will be contacted for an interview.. \n. Only shortlisted candidates will be notified.. \n. \n. ",
         "SG",
         "nan",
         "9-10-SGD-HOURLY",
         "9",
         "10",
         "SGD",
         "HOURLY",
         "nan"
        ],
        [
         "2218",
         "78492074",
         "Assistant Commercial Manager (Ref:240001BJ)",
         ". . Responsibilities. . \n\n. . Ensure the media agencies meet the performance targets outlined in the service agreements for with sales agencies by daily management in areas including but not limited to sales performance, operational performance, business planning, budgeting and audits. \n\t. Lead and manage advertising assets, including routine and ad-hoc maintenance, incident resolution, revamp projects, inventory tracking, disposal, and filler arrangement etc. . \n\t. Monitor and manage operational duties and safety performance of agencies, including trackside booking and safety audits, etc.. \n\t. Oversee and coordinate with internal and external stakeholders to secure timely approvals in relation to the media business, ensuring alignment and efficient implementation. \n\t. Facilitate and drive agencies to launch new advertising package, formats and campaigns to further boost up the advertising sales performance and uplift the brand of MTR Advertising. \n\t. Provide support to management on media business and operational business related activities. \n. \n\n. . Requirements. . \n\n. . Degree in Marketing / Business Administration / Media and Communications or a related discipline. \n\t. A minimum of 5 years’ experience in marketing, preferably in advertising / media, of which 1 year should be at supervisory level. \n\t. Detail-minded, strategic thinker with strong analytical skills, excellent organizational abilities, and ability to build strong relationships. \n\t. Proficiency in both written and spoken English and Chinese. \n. \n\n. . Applications. . \n\n. You are invited to apply online via http://www.mtr.com.hk/mtr_job_en or send in your CV stating the position (with reference number) you are applying for by mail to Human Resource Management Department, MTR Corporation, G.P.O. Box 9916, Hong Kong on or before . 12 September 2024. .. \n\n. For other job openings, please visit MTR Corporation's website for more details.. \n\n. All information provided by applicants will be treated in strict confidence and used for recruitment purpose only. All personal data of unsuccessful applicants will be retained for 12 months for future recruitment purpose and will then be destroyed.. ",
         "HK",
         "nan",
         "1-2-HKD-MONTHLY",
         "1",
         "2",
         "HKD",
         "MONTHLY",
         "nan"
        ]
       ],
       "shape": {
        "columns": 11,
        "rows": 4
       }
      },
      "text/html": [
       "<div>\n",
       "<style scoped>\n",
       "    .dataframe tbody tr th:only-of-type {\n",
       "        vertical-align: middle;\n",
       "    }\n",
       "\n",
       "    .dataframe tbody tr th {\n",
       "        vertical-align: top;\n",
       "    }\n",
       "\n",
       "    .dataframe thead th {\n",
       "        text-align: right;\n",
       "    }\n",
       "</style>\n",
       "<table border=\"1\" class=\"dataframe\">\n",
       "  <thead>\n",
       "    <tr style=\"text-align: right;\">\n",
       "      <th></th>\n",
       "      <th>job_id</th>\n",
       "      <th>job_title</th>\n",
       "      <th>job_ad_details</th>\n",
       "      <th>nation_short_desc</th>\n",
       "      <th>salary_additional_text</th>\n",
       "      <th>y_true</th>\n",
       "      <th>y_true_min_sal</th>\n",
       "      <th>y_true_max_sal</th>\n",
       "      <th>y_true_curr</th>\n",
       "      <th>y_true_freq</th>\n",
       "      <th>text</th>\n",
       "    </tr>\n",
       "  </thead>\n",
       "  <tbody>\n",
       "    <tr>\n",
       "      <th>302</th>\n",
       "      <td>78518295</td>\n",
       "      <td>Work from Home Remote Tele-Sales For Personal ...</td>\n",
       "      <td>. . Job Description :. . . This is a fully rem...</td>\n",
       "      <td>MY</td>\n",
       "      <td>nan</td>\n",
       "      <td>9-12-MYR-HOURLY</td>\n",
       "      <td>9</td>\n",
       "      <td>12</td>\n",
       "      <td>MYR</td>\n",
       "      <td>HOURLY</td>\n",
       "      <td>nan</td>\n",
       "    </tr>\n",
       "    <tr>\n",
       "      <th>413</th>\n",
       "      <td>79224115</td>\n",
       "      <td>Part Time Telemarketer (Entry Level)</td>\n",
       "      <td>. Join our team as a Telemarketer where you wi...</td>\n",
       "      <td>SG</td>\n",
       "      <td>nan</td>\n",
       "      <td>8-13-SGD-HOURLY</td>\n",
       "      <td>8</td>\n",
       "      <td>13</td>\n",
       "      <td>SGD</td>\n",
       "      <td>HOURLY</td>\n",
       "      <td>nan</td>\n",
       "    </tr>\n",
       "    <tr>\n",
       "      <th>579</th>\n",
       "      <td>75949163</td>\n",
       "      <td>Admin assistant</td>\n",
       "      <td>. \\n. \\n. My Art Studio (Singapore) We are pas...</td>\n",
       "      <td>SG</td>\n",
       "      <td>nan</td>\n",
       "      <td>9-10-SGD-HOURLY</td>\n",
       "      <td>9</td>\n",
       "      <td>10</td>\n",
       "      <td>SGD</td>\n",
       "      <td>HOURLY</td>\n",
       "      <td>nan</td>\n",
       "    </tr>\n",
       "    <tr>\n",
       "      <th>2218</th>\n",
       "      <td>78492074</td>\n",
       "      <td>Assistant Commercial Manager (Ref:240001BJ)</td>\n",
       "      <td>. . Responsibilities. . \\n\\n. . Ensure the med...</td>\n",
       "      <td>HK</td>\n",
       "      <td>nan</td>\n",
       "      <td>1-2-HKD-MONTHLY</td>\n",
       "      <td>1</td>\n",
       "      <td>2</td>\n",
       "      <td>HKD</td>\n",
       "      <td>MONTHLY</td>\n",
       "      <td>nan</td>\n",
       "    </tr>\n",
       "  </tbody>\n",
       "</table>\n",
       "</div>"
      ],
      "text/plain": [
       "        job_id                                          job_title  \\\n",
       "302   78518295  Work from Home Remote Tele-Sales For Personal ...   \n",
       "413   79224115               Part Time Telemarketer (Entry Level)   \n",
       "579   75949163                                    Admin assistant   \n",
       "2218  78492074        Assistant Commercial Manager (Ref:240001BJ)   \n",
       "\n",
       "                                         job_ad_details nation_short_desc  \\\n",
       "302   . . Job Description :. . . This is a fully rem...                MY   \n",
       "413   . Join our team as a Telemarketer where you wi...                SG   \n",
       "579   . \\n. \\n. My Art Studio (Singapore) We are pas...                SG   \n",
       "2218  . . Responsibilities. . \\n\\n. . Ensure the med...                HK   \n",
       "\n",
       "     salary_additional_text           y_true  y_true_min_sal  y_true_max_sal  \\\n",
       "302                     nan  9-12-MYR-HOURLY               9              12   \n",
       "413                     nan  8-13-SGD-HOURLY               8              13   \n",
       "579                     nan  9-10-SGD-HOURLY               9              10   \n",
       "2218                    nan  1-2-HKD-MONTHLY               1               2   \n",
       "\n",
       "     y_true_curr y_true_freq text  \n",
       "302          MYR      HOURLY  nan  \n",
       "413          SGD      HOURLY  nan  \n",
       "579          SGD      HOURLY  nan  \n",
       "2218         HKD     MONTHLY  nan  "
      ]
     },
     "execution_count": 30,
     "metadata": {},
     "output_type": "execute_result"
    }
   ],
   "source": [
    "df_train_filtered[df_train_filtered[\"y_true_min_sal\"] < 10]"
   ]
  },
  {
   "cell_type": "code",
   "execution_count": 31,
   "id": "883c5f66",
   "metadata": {},
   "outputs": [
    {
     "data": {
      "application/vnd.microsoft.datawrangler.viewer.v0+json": {
       "columns": [
        {
         "name": "index",
         "rawType": "int64",
         "type": "integer"
        },
        {
         "name": "job_id",
         "rawType": "int64",
         "type": "integer"
        },
        {
         "name": "job_title",
         "rawType": "object",
         "type": "string"
        },
        {
         "name": "job_ad_details",
         "rawType": "object",
         "type": "string"
        },
        {
         "name": "nation_short_desc",
         "rawType": "object",
         "type": "string"
        },
        {
         "name": "salary_additional_text",
         "rawType": "object",
         "type": "string"
        },
        {
         "name": "y_true",
         "rawType": "object",
         "type": "string"
        },
        {
         "name": "y_true_min_sal",
         "rawType": "int32",
         "type": "integer"
        },
        {
         "name": "y_true_max_sal",
         "rawType": "int32",
         "type": "integer"
        },
        {
         "name": "y_true_curr",
         "rawType": "object",
         "type": "string"
        },
        {
         "name": "y_true_freq",
         "rawType": "object",
         "type": "string"
        },
        {
         "name": "text",
         "rawType": "object",
         "type": "string"
        }
       ],
       "conversionMethod": "pd.DataFrame",
       "ref": "ba888ea2-c811-44f2-8665-573fe1eaf931",
       "rows": [
        [
         "365",
         "74822086",
         "content creator",
         ". (TIKTOK mostly).. . Able to think and create innovative and content that can attract followers.. . Have skills in Photography, Videography, Editing and Story Telling.. . Able to update all social media with content regularly.. . Conduct Live Video Streaming for product sales.. . . Requirements:. . . Minimum 1-year work experience as a Content Creator of beauty products for TIKTOK or other social media.. . A good knowledge of skincare and cosmetics.. . Creative mind and storytelling skills.. . A TIKTOK account owner of more than 1000 followers will be an advantage.. . Monthly Salary and Benefits:. . Salary:&nbsp;IDR:10000000-15000000. . Work Location: Green Lake city, Tangerang, Jakarta, Indonesia. ",
         "ID",
         "Rp 10,000,000 – Rp 15,000,000 per month",
         "10000000-15000000-IDR-MONTHLY",
         "10000000",
         "15000000",
         "IDR",
         "MONTHLY",
         "content creator . (TIKTOK mostly).. . Able to think and create innovative and content that can attract followers.. . Have skills in Photography, Videography, Editing and Story Telling.. . Able to update all social media with content regularly.. . Conduct Live Video Streaming for product sales.. . . Requirements:. . . Minimum 1-year work experience as a Content Creator of beauty products for TIKTOK or other social media.. . A good knowledge of skincare and cosmetics.. . Creative mind and storytelling skills.. . A TIKTOK account owner of more than 1000 followers will be an advantage.. . Monthly Salary and Benefits:. . Salary:&nbsp;IDR:10000000-15000000. . Work Location: Green Lake city, Tangerang, Jakarta, Indonesia.  Rp 10,000,000 – Rp 15,000,000 per month"
        ],
        [
         "1057",
         "75111634",
         "Waitress",
         ". harus bisa bahasa ingris. . welcome the customers. . give the menus. . take the orders. . clean the tables. . make bills. . will help to make the drinks like teas or fruit juices. . if you are interested by the position please come directly to the restaurant with your CV between 12am and 6pm anyday. . salary start at 3165000rp and will raise in the future. . . Persyaratan minimum:. . . Tersedia jam fleksibel. . Tidak diperlukan pengalaman kerja untuk posisi ini. . Pelamar harus memiliki KTP. . Tanggal mulai kerja: 01 May 2024. . Gaji yang diinginkan: Rp3,165,000 per bulan. . ",
         "ID",
         "nan",
         "3165000-3165000-IDR-MONTHLY",
         "3165000",
         "3165000",
         "IDR",
         "MONTHLY",
         "nan"
        ],
        [
         "1153",
         "71195408",
         "Financial assistant",
         ". Job title: Financial Assistant. . Location: liberty tower,gold coast office, PIK, Jakarta. . Job Description:. . 1. Responsible for the scanning, sorting and filing of contracts and invoices;. . 2. Communicating with local bookkeeping agents, tax agents, banks, owners, suppliers, etc. as needed, and assisting superiors in completing payments, accounting, tax declaration, etc.;. . 3. Responsible for collecting and updating the visa data for employees every month, collecting the monthly salary data of temporary local workers working at various projects, and assisting the superiors to complete the monthly individual income tax declaration work(PPH21);. . 4. Responsible for regularly collecting employees’ passports and other materials to assist superiors in completing NPWP card and BPJS processing. . 5. Other works required by leaders.. . . . . Requirements:. . 1. College degree or above, accounting&amp;finance related major is a prefer;. . 2. Relevant working experience, for especially excellent interviewee, 0-0.5 year of experience is acceptable;. . 3. Proficient in Mandarin and Indonesian, for which he/she is both good at listening, speaking, reading and writing，English will be a plus;. . 4. Good knowledge of finance and accounting, and having a certain understanding of Indonesia's local accounting standards, tax laws and labor laws;. . 5. Accepting field work or business travel within Jakarta from time to time;. . 6. Be flexible, quick thinking, with strong understanding, communication,and learning ability;. . 7. Obeying the requirements of superiors, having a sense of responsibility, and be proactive.. . . . . Salary:. . 1.Get 10000000-15000000 Rupiah per month which will be dependent on the ability and performance of the interviewee;. . 2. We can declare individual income tax(PPH21) and BPJS according to Indonesian regulations;. . 3. Meals reimbursement can be provided which is negotiable.. ",
         "ID",
         "Rp 10,000,000 – Rp 15,000,000 per month",
         "10000000-15000000-IDR-MONTHLY",
         "10000000",
         "15000000",
         "IDR",
         "MONTHLY",
         "Financial assistant . Job title: Financial Assistant. . Location: liberty tower,gold coast office, PIK, Jakarta. . Job Description:. . 1. Responsible for the scanning, sorting and filing of contracts and invoices;. . 2. Communicating with local bookkeeping agents, tax agents, banks, owners, suppliers, etc. as needed, and assisting superiors in completing payments, accounting, tax declaration, etc.;. . 3. Responsible for collecting and updating the visa data for employees every month, collecting the monthly salary data of temporary local workers working at various projects, and assisting the superiors to complete the monthly individual income tax declaration work(PPH21);. . 4. Responsible for regularly collecting employees’ passports and other materials to assist superiors in completing NPWP card and BPJS processing. . 5. Other works required by leaders.. . . . . Requirements:. . 1. College degree or above, accounting&amp;finance related major is a prefer;. . 2. Relevant working experience, for especially excellent interviewee, 0-0.5 year of experience is acceptable;. . 3. Proficient in Mandarin and Indonesian, for which he/she is both good at listening, speaking, reading and writing，English will be a plus;. . 4. Good knowledge of finance and accounting, and having a certain understanding of Indonesia's local accounting standards, tax laws and labor laws;. . 5. Accepting field work or business travel within Jakarta from time to time;. . 6. Be flexible, quick thinking, with strong understanding, communication,and learning ability;. . 7. Obeying the requirements of superiors, having a sense of responsibility, and be proactive.. . . . . Salary:. . 1.Get 10000000-15000000 Rupiah per month which will be dependent on the ability and performance of the interviewee;. . 2. We can declare individual income tax(PPH21) and BPJS according to Indonesian regulations;. . 3. Meals reimbursement can be provided which is negotiable..  Rp 10,000,000 – Rp 15,000,000 per month"
        ],
        [
         "1393",
         "74122021",
         "翻译助手（普通话翻译）",
         ". 招贤纳士，职等你来. . 仓库助理能通过普通话熟练交流~~. . 要求：. . 1、年龄18-28岁 （男性优先）. . 2.、熟练使用电脑（Excel）. . 3、高中以上学历. . 4、 普通话口语流利，能读、写、打字. . 5、能承受工作压力，有良好的理解力. . 6、能够主动思考、解决问题. . 优先录用：. . 1、TikTok运营经验者优先. . 2、有翻译经验者优先. . 3、有良好的管理经验者优先. . &nbsp;. . 职位描述：. . 主要工作是协助经理对接TikTok达人，管理和监督仓库员工。 协助日常翻译，完善公司管理制度，组织团队活动等。. . 薪资：Rp8000000—Rp10000000/月，有年终奖金. . 每周工作 6 天，每天 8 小时。. . 地点：Sunter Jaya. ",
         "ID",
         "Rp 8.000.000 – Rp 10.000.000 per month",
         "8000000-10000000-IDR-MONTHLY",
         "8000000",
         "10000000",
         "IDR",
         "MONTHLY",
         "翻译助手（普通话翻译） . 招贤纳士，职等你来. . 仓库助理能通过普通话熟练交流~~. . 要求：. . 1、年龄18-28岁 （男性优先）. . 2.、熟练使用电脑（Excel）. . 3、高中以上学历. . 4、 普通话口语流利，能读、写、打字. . 5、能承受工作压力，有良好的理解力. . 6、能够主动思考、解决问题. . 优先录用：. . 1、TikTok运营经验者优先. . 2、有翻译经验者优先. . 3、有良好的管理经验者优先. . &nbsp;. . 职位描述：. . 主要工作是协助经理对接TikTok达人，管理和监督仓库员工。 协助日常翻译，完善公司管理制度，组织团队活动等。. . 薪资：Rp8000000—Rp10000000/月，有年终奖金. . 每周工作 6 天，每天 8 小时。. . 地点：Sunter Jaya.  Rp 8.000.000 – Rp 10.000.000 per month"
        ],
        [
         "1956",
         "75642884",
         "Waiter/Waitress",
         ". harus bisa bahasa ingris. . welcome the customers. . give the menus. . take the orders. . clean the tables. . make bills. . will help to make the drinks like teas or fruit juices. . if you are interested by the position please come directly to the restaurant with your CV between 12am and 6pm anyday. . salary start at 3200000rp and will raise.. . . Persyaratan minimum:. . . Tersedia jam fleksibel. . Tidak diperlukan pengalaman kerja untuk posisi ini. . Pelamar harus memiliki KTP. . Tanggal mulai kerja: 13 May 2024. . Gaji yang diinginkan: Rp3,200,000 per bulan. . ",
         "ID",
         "nan",
         "3200000-3200000-IDR-MONTHLY",
         "3200000",
         "3200000",
         "IDR",
         "MONTHLY",
         "nan"
        ]
       ],
       "shape": {
        "columns": 11,
        "rows": 5
       }
      },
      "text/html": [
       "<div>\n",
       "<style scoped>\n",
       "    .dataframe tbody tr th:only-of-type {\n",
       "        vertical-align: middle;\n",
       "    }\n",
       "\n",
       "    .dataframe tbody tr th {\n",
       "        vertical-align: top;\n",
       "    }\n",
       "\n",
       "    .dataframe thead th {\n",
       "        text-align: right;\n",
       "    }\n",
       "</style>\n",
       "<table border=\"1\" class=\"dataframe\">\n",
       "  <thead>\n",
       "    <tr style=\"text-align: right;\">\n",
       "      <th></th>\n",
       "      <th>job_id</th>\n",
       "      <th>job_title</th>\n",
       "      <th>job_ad_details</th>\n",
       "      <th>nation_short_desc</th>\n",
       "      <th>salary_additional_text</th>\n",
       "      <th>y_true</th>\n",
       "      <th>y_true_min_sal</th>\n",
       "      <th>y_true_max_sal</th>\n",
       "      <th>y_true_curr</th>\n",
       "      <th>y_true_freq</th>\n",
       "      <th>text</th>\n",
       "    </tr>\n",
       "  </thead>\n",
       "  <tbody>\n",
       "    <tr>\n",
       "      <th>365</th>\n",
       "      <td>74822086</td>\n",
       "      <td>content creator</td>\n",
       "      <td>. (TIKTOK mostly).. . Able to think and create...</td>\n",
       "      <td>ID</td>\n",
       "      <td>Rp 10,000,000 – Rp 15,000,000 per month</td>\n",
       "      <td>10000000-15000000-IDR-MONTHLY</td>\n",
       "      <td>10000000</td>\n",
       "      <td>15000000</td>\n",
       "      <td>IDR</td>\n",
       "      <td>MONTHLY</td>\n",
       "      <td>content creator . (TIKTOK mostly).. . Able to ...</td>\n",
       "    </tr>\n",
       "    <tr>\n",
       "      <th>1057</th>\n",
       "      <td>75111634</td>\n",
       "      <td>Waitress</td>\n",
       "      <td>. harus bisa bahasa ingris. . welcome the cust...</td>\n",
       "      <td>ID</td>\n",
       "      <td>nan</td>\n",
       "      <td>3165000-3165000-IDR-MONTHLY</td>\n",
       "      <td>3165000</td>\n",
       "      <td>3165000</td>\n",
       "      <td>IDR</td>\n",
       "      <td>MONTHLY</td>\n",
       "      <td>nan</td>\n",
       "    </tr>\n",
       "    <tr>\n",
       "      <th>1153</th>\n",
       "      <td>71195408</td>\n",
       "      <td>Financial assistant</td>\n",
       "      <td>. Job title: Financial Assistant. . Location: ...</td>\n",
       "      <td>ID</td>\n",
       "      <td>Rp 10,000,000 – Rp 15,000,000 per month</td>\n",
       "      <td>10000000-15000000-IDR-MONTHLY</td>\n",
       "      <td>10000000</td>\n",
       "      <td>15000000</td>\n",
       "      <td>IDR</td>\n",
       "      <td>MONTHLY</td>\n",
       "      <td>Financial assistant . Job title: Financial Ass...</td>\n",
       "    </tr>\n",
       "    <tr>\n",
       "      <th>1393</th>\n",
       "      <td>74122021</td>\n",
       "      <td>翻译助手（普通话翻译）</td>\n",
       "      <td>. 招贤纳士，职等你来. . 仓库助理能通过普通话熟练交流~~. . 要求：. . 1、年龄...</td>\n",
       "      <td>ID</td>\n",
       "      <td>Rp 8.000.000 – Rp 10.000.000 per month</td>\n",
       "      <td>8000000-10000000-IDR-MONTHLY</td>\n",
       "      <td>8000000</td>\n",
       "      <td>10000000</td>\n",
       "      <td>IDR</td>\n",
       "      <td>MONTHLY</td>\n",
       "      <td>翻译助手（普通话翻译） . 招贤纳士，职等你来. . 仓库助理能通过普通话熟练交流~~. ....</td>\n",
       "    </tr>\n",
       "    <tr>\n",
       "      <th>1956</th>\n",
       "      <td>75642884</td>\n",
       "      <td>Waiter/Waitress</td>\n",
       "      <td>. harus bisa bahasa ingris. . welcome the cust...</td>\n",
       "      <td>ID</td>\n",
       "      <td>nan</td>\n",
       "      <td>3200000-3200000-IDR-MONTHLY</td>\n",
       "      <td>3200000</td>\n",
       "      <td>3200000</td>\n",
       "      <td>IDR</td>\n",
       "      <td>MONTHLY</td>\n",
       "      <td>nan</td>\n",
       "    </tr>\n",
       "  </tbody>\n",
       "</table>\n",
       "</div>"
      ],
      "text/plain": [
       "        job_id            job_title  \\\n",
       "365   74822086      content creator   \n",
       "1057  75111634             Waitress   \n",
       "1153  71195408  Financial assistant   \n",
       "1393  74122021          翻译助手（普通话翻译）   \n",
       "1956  75642884      Waiter/Waitress   \n",
       "\n",
       "                                         job_ad_details nation_short_desc  \\\n",
       "365   . (TIKTOK mostly).. . Able to think and create...                ID   \n",
       "1057  . harus bisa bahasa ingris. . welcome the cust...                ID   \n",
       "1153  . Job title: Financial Assistant. . Location: ...                ID   \n",
       "1393  . 招贤纳士，职等你来. . 仓库助理能通过普通话熟练交流~~. . 要求：. . 1、年龄...                ID   \n",
       "1956  . harus bisa bahasa ingris. . welcome the cust...                ID   \n",
       "\n",
       "                       salary_additional_text                         y_true  \\\n",
       "365   Rp 10,000,000 – Rp 15,000,000 per month  10000000-15000000-IDR-MONTHLY   \n",
       "1057                                      nan    3165000-3165000-IDR-MONTHLY   \n",
       "1153  Rp 10,000,000 – Rp 15,000,000 per month  10000000-15000000-IDR-MONTHLY   \n",
       "1393   Rp 8.000.000 – Rp 10.000.000 per month   8000000-10000000-IDR-MONTHLY   \n",
       "1956                                      nan    3200000-3200000-IDR-MONTHLY   \n",
       "\n",
       "      y_true_min_sal  y_true_max_sal y_true_curr y_true_freq  \\\n",
       "365         10000000        15000000         IDR     MONTHLY   \n",
       "1057         3165000         3165000         IDR     MONTHLY   \n",
       "1153        10000000        15000000         IDR     MONTHLY   \n",
       "1393         8000000        10000000         IDR     MONTHLY   \n",
       "1956         3200000         3200000         IDR     MONTHLY   \n",
       "\n",
       "                                                   text  \n",
       "365   content creator . (TIKTOK mostly).. . Able to ...  \n",
       "1057                                                nan  \n",
       "1153  Financial assistant . Job title: Financial Ass...  \n",
       "1393  翻译助手（普通话翻译） . 招贤纳士，职等你来. . 仓库助理能通过普通话熟练交流~~. ....  \n",
       "1956                                                nan  "
      ]
     },
     "execution_count": 31,
     "metadata": {},
     "output_type": "execute_result"
    }
   ],
   "source": [
    "df_train_filtered[df_train_filtered[\"y_true_max_sal\"] > 1000000]"
   ]
  },
  {
   "cell_type": "code",
   "execution_count": 32,
   "id": "d4c30626",
   "metadata": {},
   "outputs": [
    {
     "data": {
      "image/png": "[encoded data removed]",
      "text/plain": [
       "<Figure size 1000x600 with 1 Axes>"
      ]
     },
     "metadata": {},
     "output_type": "display_data"
    },
    {
     "data": {
      "image/png": "[encoded data removed]",
      "text/plain": [
       "<Figure size 1000x600 with 1 Axes>"
      ]
     },
     "metadata": {},
     "output_type": "display_data"
    }
   ],
   "source": [
    "# Plot distribution sorted of all y_true values\n",
    "import matplotlib.pyplot as plt\n",
    "\n",
    "import seaborn as sns\n",
    "\n",
    "# Histogram of y_true_min_sal and y_true_max_sal\n",
    "# for col in [\"y_true_min_sal\", \"y_true_max_sal\"]:\n",
    "#     # For each currency, plot the distribution of y_true_min_sal and y_true_max_sal\n",
    "#     for currency in df_train_filtered[\"y_true_curr\"].unique():\n",
    "#         plt.figure(figsize=(10, 6))\n",
    "#         sns.histplot(\n",
    "#             data=df_train_filtered[df_train_filtered[\"y_true_curr\"] == currency],\n",
    "#             x=col,\n",
    "#             bins=20,\n",
    "#             kde=True,\n",
    "#         )\n",
    "#         plt.title(f\"Distribution of {col} for {currency}\")\n",
    "#         plt.xlabel(col)\n",
    "#         plt.ylabel(\"Density\")\n",
    "#         plt.show()\n",
    "\n",
    "for col in [\"y_true_curr\", \"y_true_freq\"]:\n",
    "    # Set the figure size\n",
    "    plt.figure(figsize=(10, 6))\n",
    "\n",
    "    # barplot of sorted value counts\n",
    "    sns.countplot(\n",
    "        data=df_train_filtered, x=col, order=df_train_filtered[col].value_counts().index\n",
    "    )\n",
    "    plt.xticks(rotation=90)\n",
    "    plt.xlabel(col)\n",
    "    plt.ylabel(\"Count\")\n",
    "    plt.show()"
   ]
  },
  {
   "cell_type": "code",
   "execution_count": 33,
   "id": "fd4cdc41",
   "metadata": {},
   "outputs": [
    {
     "data": {
      "text/plain": [
       "MONTHLY    531\n",
       "HOURLY     519\n",
       "ANNUAL     139\n",
       "DAILY       79\n",
       "WEEKLY      49\n",
       "Name: y_true_freq, dtype: int64"
      ]
     },
     "execution_count": 33,
     "metadata": {},
     "output_type": "execute_result"
    }
   ],
   "source": [
    "df_train_filtered[\"y_true_freq\"].value_counts()"
   ]
  },
  {
   "cell_type": "code",
   "execution_count": null,
   "id": "087ce7a2",
   "metadata": {},
   "outputs": [
    {
     "name": "stdout",
     "output_type": "stream",
     "text": [
      "Accuracy of frequency prediction: 61.20%\n"
     ]
    }
   ],
   "source": [
    "freq_keywords = {\n",
    "    \"HOURLY\": [\"per hour\", \"hourly\", \"p.h\", \"ph\"],\n",
    "    \"DAILY\": [\"per day\", \"daily\", \"p.d\", \"pd\"],\n",
    "    \"WEEKLY\": [\"per week\", \"weekly\", \"p.w\"],\n",
    "    \"MONTHLY\": [\"per month\", \"monthly\", \"p.m\"],\n",
    "    \"ANNUAL\": [\"per year\", \"yearly\", \"annually\", \"p.a\", \"p.y\"],\n",
    "}\n",
    "\n",
    "\n",
    "def predict_freq_baseline(text: str):\n",
    "    \"\"\"Predict the frequency of salary based on the text.\n",
    "    Args:\n",
    "        text (str): The text to predict the frequency from.\n",
    "\n",
    "    Returns:\n",
    "        str: The predicted frequency.\n",
    "    \"\"\"\n",
    "    text = text.lower()\n",
    "    for freq, keywords in freq_keywords.items():\n",
    "        for keyword in keywords:\n",
    "            # Use regex to match \\bkeyword\\b to avoid partial matches\n",
    "            if re.search(rf\"\\b{keyword}\\b\", text):\n",
    "                return freq\n",
    "    return \"MONTHLY\"\n",
    "\n",
    "\n",
    "df_train_filtered[\"y_pred_freq\"] = df_train_filtered[\"text\"].apply(\n",
    "    predict_freq_baseline\n",
    ")\n",
    "\n",
    "# accuracy of the frequency prediction\n",
    "\n",
    "accuracy = accuracy_score(\n",
    "    df_train_filtered[\"y_true_freq\"].str.lower(),\n",
    "    df_train_filtered[\"y_pred_freq\"].str.lower(),\n",
    ")\n",
    "print(f\"Accuracy of frequency prediction: {accuracy:.2%}\")"
   ]
  },
  {
   "cell_type": "code",
   "execution_count": 69,
   "id": "b2b7a9fb",
   "metadata": {},
   "outputs": [
    {
     "name": "stdout",
     "output_type": "stream",
     "text": [
      "Accuracy of currency prediction: 99.77%\n"
     ]
    },
    {
     "data": {
      "application/vnd.microsoft.datawrangler.viewer.v0+json": {
       "columns": [
        {
         "name": "index",
         "rawType": "int64",
         "type": "integer"
        },
        {
         "name": "job_id",
         "rawType": "int64",
         "type": "integer"
        },
        {
         "name": "job_title",
         "rawType": "object",
         "type": "string"
        },
        {
         "name": "job_ad_details",
         "rawType": "object",
         "type": "string"
        },
        {
         "name": "nation_short_desc",
         "rawType": "object",
         "type": "string"
        },
        {
         "name": "salary_additional_text",
         "rawType": "object",
         "type": "string"
        },
        {
         "name": "y_true",
         "rawType": "object",
         "type": "string"
        },
        {
         "name": "y_true_min_sal",
         "rawType": "int32",
         "type": "integer"
        },
        {
         "name": "y_true_max_sal",
         "rawType": "int32",
         "type": "integer"
        },
        {
         "name": "y_true_curr",
         "rawType": "object",
         "type": "string"
        },
        {
         "name": "y_true_freq",
         "rawType": "object",
         "type": "string"
        },
        {
         "name": "text",
         "rawType": "object",
         "type": "string"
        },
        {
         "name": "y_pred_curr",
         "rawType": "object",
         "type": "string"
        }
       ],
       "conversionMethod": "pd.DataFrame",
       "ref": "aa76b94b-dc58-433e-ba96-2b0729ed6af8",
       "rows": [
        [
         "898",
         "70773107",
         "Project Engineer [ Fire Protection ]",
         ". . Working Days: 5 days' work week. . Working Hours: 8:15 am–6 pm (Mon-Fri). . Office Location: Joo Koon. . Salary Range: $625 - $875 per week. . . . . . . Responsibilities:. . . . Assist project engineer in the execution of the project.. . Responsible for coordination project documentation.. . Liaise with authorities, sub-contractors, suppliers on project related issues.. . Attend project meeting.. . . . . . . Requirements:. . . . Candidate must possess at least ITE/Diploma in Engineering (Mechanical/Electrical/Marine). . Familiar with Autocad skill. . . . . . . If you are interested to apply, kindly contact me +65 8525 2419 (Ashley) your updated resume in DOC file and allow our Consultant to match you with our Clients.. . . . No Charges will be incurred by Candidates for any service rendered.. . . . . ",
         "SG",
         "$625 - $875 per week",
         "625-875-USD-WEEKLY",
         "625",
         "875",
         "USD",
         "WEEKLY",
         "Project Engineer [ Fire Protection ] . . Working Days: 5 days' work week. . Working Hours: 8:15 am–6 pm (Mon-Fri). . Office Location: Joo Koon. . Salary Range: $625 - $875 per week. . . . . . . Responsibilities:. . . . Assist project engineer in the execution of the project.. . Responsible for coordination project documentation.. . Liaise with authorities, sub-contractors, suppliers on project related issues.. . Attend project meeting.. . . . . . . Requirements:. . . . Candidate must possess at least ITE/Diploma in Engineering (Mechanical/Electrical/Marine). . Familiar with Autocad skill. . . . . . . If you are interested to apply, kindly contact me +65 8525 2419 (Ashley) your updated resume in DOC file and allow our Consultant to match you with our Clients.. . . . No Charges will be incurred by Candidates for any service rendered.. . . . .  $625 - $875 per week",
         "SGD"
        ],
        [
         "1935",
         "72040955",
         "Gardener",
         ". We are a small Property Maintenance company based in Glenfield on the North Shore.. . We look after a core group of properties throughout Auckland.. . Our gardeners are tasked with keeping these properties looking at their best.. . You will need a basic knowledge of gardening, be able to identify weeds and know how to use hand tools along with some power tools.. . You will need a good level of physical fitness and be able to lift moderately heavy garden bags as part of your daily set of tasks. . . We offer work in a small, hardworking, friendly team.. . The hourly rate is 24 ph.. . This is a full time position working 7am - 3.30pm Monday to Friday.. . A full drivers licence is required.. . . . . ",
         "NZ",
         "Rp 24 per hour",
         "24-24-IDR-HOURLY",
         "24",
         "24",
         "IDR",
         "HOURLY",
         "Gardener . We are a small Property Maintenance company based in Glenfield on the North Shore.. . We look after a core group of properties throughout Auckland.. . Our gardeners are tasked with keeping these properties looking at their best.. . You will need a basic knowledge of gardening, be able to identify weeds and know how to use hand tools along with some power tools.. . You will need a good level of physical fitness and be able to lift moderately heavy garden bags as part of your daily set of tasks. . . We offer work in a small, hardworking, friendly team.. . The hourly rate is 24 ph.. . This is a full time position working 7am - 3.30pm Monday to Friday.. . A full drivers licence is required.. . . . .  Rp 24 per hour",
         "NZD"
        ],
        [
         "2157",
         "76752012",
         "HIRING NATIVE THAI ONLINE ENGLISH EXAMINERS",
         ". Kyna Pte. Ltd. (Kyna English) is an online education company based in Singapore, providing online English learning solutions with quality tutors for learners of all ages. With over 4 years of operation, Kyna has delivered over 5 million lessons to more than 100,000 students in Vietnam, Thailand, and Indonesia. In order to expand our offering, Kyna English is looking for Online English Examiners from Thailand.. . . JOB DESCRIPTION:. . . - Conduct Online placement tests for students of a variety of group ages (kids, teenagers, adults) to determine the students’ English levels.. . - Maintain a good interaction with students during the test.. . . WORKING TIME LOCATION:. . . - You can work anywhere as long as it’s a private place and has a stable internet connection.. . - Most of our placement test classes take place from 6pm to 9pm weekdays and 9am - 12pm weekends (Thailand time - GMT +7).. . - Candidates should be able to conduct examinations at least 3 days/week during these time slots.. . . BENEFIT:. . . - Working from the comfort of your home.. . - Flexible teaching time, classes are assigned after you set up your schedule.. . - Ready-made test packages, teacher-friendly platforms.. . - Performance bonus for each qualified class.. . - Gross rate from 100 - 250 THB/ hour.. . - Depending on your skills and availability, you can make up to 40,000 THB/ month. ❗️❗️ Teachers must have a valid passport. (Compulsory for the contract and salary process). . . REQUIREMENT:. . . - Have good command of English; TESOL and teaching experience are a plus;. . - Patient and supportive;. . - Be able to conduct examinations at least 3 days/week during these time slots: 6 - 9pm on weekdays and 9am - 12pm on weekends (Thailand time - GMT +7);. . - Have a stable internet connection.. . . Summary of role requirements:. . . Flexible hours available. . 1 year of relevant work experience required for this role. . Work visa can be provided for this role. . Expected salary: ฿150 - ฿200 per hour. . ",
         "SG",
         "nan",
         "150-200-THB-HOURLY",
         "150",
         "200",
         "THB",
         "HOURLY",
         "nan",
         "SGD"
        ]
       ],
       "shape": {
        "columns": 12,
        "rows": 3
       }
      },
      "text/html": [
       "<div>\n",
       "<style scoped>\n",
       "    .dataframe tbody tr th:only-of-type {\n",
       "        vertical-align: middle;\n",
       "    }\n",
       "\n",
       "    .dataframe tbody tr th {\n",
       "        vertical-align: top;\n",
       "    }\n",
       "\n",
       "    .dataframe thead th {\n",
       "        text-align: right;\n",
       "    }\n",
       "</style>\n",
       "<table border=\"1\" class=\"dataframe\">\n",
       "  <thead>\n",
       "    <tr style=\"text-align: right;\">\n",
       "      <th></th>\n",
       "      <th>job_id</th>\n",
       "      <th>job_title</th>\n",
       "      <th>job_ad_details</th>\n",
       "      <th>nation_short_desc</th>\n",
       "      <th>salary_additional_text</th>\n",
       "      <th>y_true</th>\n",
       "      <th>y_true_min_sal</th>\n",
       "      <th>y_true_max_sal</th>\n",
       "      <th>y_true_curr</th>\n",
       "      <th>y_true_freq</th>\n",
       "      <th>text</th>\n",
       "      <th>y_pred_curr</th>\n",
       "    </tr>\n",
       "  </thead>\n",
       "  <tbody>\n",
       "    <tr>\n",
       "      <th>898</th>\n",
       "      <td>70773107</td>\n",
       "      <td>Project Engineer [ Fire Protection ]</td>\n",
       "      <td>. . Working Days: 5 days' work week. . Working...</td>\n",
       "      <td>SG</td>\n",
       "      <td>$625 - $875 per week</td>\n",
       "      <td>625-875-USD-WEEKLY</td>\n",
       "      <td>625</td>\n",
       "      <td>875</td>\n",
       "      <td>USD</td>\n",
       "      <td>WEEKLY</td>\n",
       "      <td>Project Engineer [ Fire Protection ] . . Worki...</td>\n",
       "      <td>SGD</td>\n",
       "    </tr>\n",
       "    <tr>\n",
       "      <th>1935</th>\n",
       "      <td>72040955</td>\n",
       "      <td>Gardener</td>\n",
       "      <td>. We are a small Property Maintenance company ...</td>\n",
       "      <td>NZ</td>\n",
       "      <td>Rp 24 per hour</td>\n",
       "      <td>24-24-IDR-HOURLY</td>\n",
       "      <td>24</td>\n",
       "      <td>24</td>\n",
       "      <td>IDR</td>\n",
       "      <td>HOURLY</td>\n",
       "      <td>Gardener . We are a small Property Maintenance...</td>\n",
       "      <td>NZD</td>\n",
       "    </tr>\n",
       "    <tr>\n",
       "      <th>2157</th>\n",
       "      <td>76752012</td>\n",
       "      <td>HIRING NATIVE THAI ONLINE ENGLISH EXAMINERS</td>\n",
       "      <td>. Kyna Pte. Ltd. (Kyna English) is an online e...</td>\n",
       "      <td>SG</td>\n",
       "      <td>nan</td>\n",
       "      <td>150-200-THB-HOURLY</td>\n",
       "      <td>150</td>\n",
       "      <td>200</td>\n",
       "      <td>THB</td>\n",
       "      <td>HOURLY</td>\n",
       "      <td>nan</td>\n",
       "      <td>SGD</td>\n",
       "    </tr>\n",
       "  </tbody>\n",
       "</table>\n",
       "</div>"
      ],
      "text/plain": [
       "        job_id                                    job_title  \\\n",
       "898   70773107         Project Engineer [ Fire Protection ]   \n",
       "1935  72040955                                     Gardener   \n",
       "2157  76752012  HIRING NATIVE THAI ONLINE ENGLISH EXAMINERS   \n",
       "\n",
       "                                         job_ad_details nation_short_desc  \\\n",
       "898   . . Working Days: 5 days' work week. . Working...                SG   \n",
       "1935  . We are a small Property Maintenance company ...                NZ   \n",
       "2157  . Kyna Pte. Ltd. (Kyna English) is an online e...                SG   \n",
       "\n",
       "     salary_additional_text              y_true  y_true_min_sal  \\\n",
       "898    $625 - $875 per week  625-875-USD-WEEKLY             625   \n",
       "1935         Rp 24 per hour    24-24-IDR-HOURLY              24   \n",
       "2157                    nan  150-200-THB-HOURLY             150   \n",
       "\n",
       "      y_true_max_sal y_true_curr y_true_freq  \\\n",
       "898              875         USD      WEEKLY   \n",
       "1935              24         IDR      HOURLY   \n",
       "2157             200         THB      HOURLY   \n",
       "\n",
       "                                                   text y_pred_curr  \n",
       "898   Project Engineer [ Fire Protection ] . . Worki...         SGD  \n",
       "1935  Gardener . We are a small Property Maintenance...         NZD  \n",
       "2157                                                nan         SGD  "
      ]
     },
     "execution_count": 69,
     "metadata": {},
     "output_type": "execute_result"
    }
   ],
   "source": [
    "country_to_currency = {\n",
    "    \"AUS\": \"AUD\",\n",
    "    \"HK\": \"HKD\",\n",
    "    \"MY\": \"MYR\",\n",
    "    \"SG\": \"SGD\",\n",
    "    \"PH\": \"PHP\",\n",
    "    \"NZ\": \"NZD\",\n",
    "    \"TH\": \"THB\",\n",
    "    \"ID\": \"IDR\",\n",
    "    \"US\": \"USD\",\n",
    "}\n",
    "\n",
    "\n",
    "def predict_currency_baseline(x) -> str:\n",
    "    \"\"\"Predict the currency of salary based on the country code.\n",
    "    Args:\n",
    "        x (pd.Series): The row of the dataframe containing the text and country code.\n",
    "\n",
    "    Returns:\n",
    "        str: The predicted currency.\n",
    "    \"\"\"\n",
    "    country_code = x[\"nation_short_desc\"].strip().upper()\n",
    "    # Check if the country code is in the dictionary\n",
    "    if country_code in country_to_currency:\n",
    "        return country_to_currency[country_code]\n",
    "\n",
    "    # If no keywords match, return most common currency in the dataset\n",
    "    return \"IDR\"\n",
    "\n",
    "df_train_filtered[\"y_pred_curr\"] = df_train_filtered.apply(\n",
    "    predict_currency_baseline, axis=1\n",
    ")\n",
    "\n",
    "\n",
    "# accuracy of the currency prediction\n",
    "accuracy = accuracy_score(\n",
    "    df_train_filtered[\"y_true_curr\"].str.lower(),\n",
    "    df_train_filtered[\"y_pred_curr\"].str.lower(),\n",
    ")\n",
    "print(f\"Accuracy of currency prediction: {accuracy:.2%}\")\n",
    "\n",
    "df_train_filtered[df_train_filtered[\"y_pred_curr\"] != df_train_filtered[\"y_true_curr\"]].head(5)"
   ]
  },
  {
   "cell_type": "markdown",
   "id": "0709b668",
   "metadata": {},
   "source": [
    "Job 70773107 is clearly an error, since features dont mention USD at all and its a job in singapore, so it should be in SGD.\n",
    "In Job 72040955 only the salary additional text mentions the currency\n",
    "Job 76752012 is an exception, where the job is online and they are not paying in the country's currency"
   ]
  }
 ],
 "metadata": {
  "kernelspec": {
   "display_name": "Python 3",
   "language": "python",
   "name": "python3"
  },
  "language_info": {
   "codemirror_mode": {
    "name": "ipython",
    "version": 3
   },
   "file_extension": ".py",
   "mimetype": "text/x-python",
   "name": "python",
   "nbconvert_exporter": "python",
   "pygments_lexer": "ipython3",
   "version": "3.10.6"
  }
 },
 "nbformat": 4,
 "nbformat_minor": 5
}
